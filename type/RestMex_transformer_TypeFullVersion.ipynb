{
  "nbformat": 4,
  "nbformat_minor": 0,
  "metadata": {
    "colab": {
      "provenance": [],
      "gpuType": "T4"
    },
    "kernelspec": {
      "name": "python3",
      "display_name": "Python 3"
    },
    "language_info": {
      "name": "python"
    },
    "accelerator": "GPU",
    "widgets": {
      "application/vnd.jupyter.widget-state+json": {
        "6dd62095045d4b1ca576c1b80cacb86b": {
          "model_module": "@jupyter-widgets/controls",
          "model_name": "HBoxModel",
          "model_module_version": "1.5.0",
          "state": {
            "_dom_classes": [],
            "_model_module": "@jupyter-widgets/controls",
            "_model_module_version": "1.5.0",
            "_model_name": "HBoxModel",
            "_view_count": null,
            "_view_module": "@jupyter-widgets/controls",
            "_view_module_version": "1.5.0",
            "_view_name": "HBoxView",
            "box_style": "",
            "children": [
              "IPY_MODEL_9a8abeef061246d49cca6b18746d2b2d",
              "IPY_MODEL_f0c3f24e0d064f8893ef1215836e02f5",
              "IPY_MODEL_bf32e982edcb4621abbf687ccef68a9b"
            ],
            "layout": "IPY_MODEL_2afca8a6a0604db39bb22390ce3771a3"
          }
        },
        "9a8abeef061246d49cca6b18746d2b2d": {
          "model_module": "@jupyter-widgets/controls",
          "model_name": "HTMLModel",
          "model_module_version": "1.5.0",
          "state": {
            "_dom_classes": [],
            "_model_module": "@jupyter-widgets/controls",
            "_model_module_version": "1.5.0",
            "_model_name": "HTMLModel",
            "_view_count": null,
            "_view_module": "@jupyter-widgets/controls",
            "_view_module_version": "1.5.0",
            "_view_name": "HTMLView",
            "description": "",
            "description_tooltip": null,
            "layout": "IPY_MODEL_5d1cf86d274e405598bb7d889d013ae8",
            "placeholder": "​",
            "style": "IPY_MODEL_2932e056254b47e0a087d5010dbc1e7c",
            "value": "tokenizer_config.json: 100%"
          }
        },
        "f0c3f24e0d064f8893ef1215836e02f5": {
          "model_module": "@jupyter-widgets/controls",
          "model_name": "FloatProgressModel",
          "model_module_version": "1.5.0",
          "state": {
            "_dom_classes": [],
            "_model_module": "@jupyter-widgets/controls",
            "_model_module_version": "1.5.0",
            "_model_name": "FloatProgressModel",
            "_view_count": null,
            "_view_module": "@jupyter-widgets/controls",
            "_view_module_version": "1.5.0",
            "_view_name": "ProgressView",
            "bar_style": "success",
            "description": "",
            "description_tooltip": null,
            "layout": "IPY_MODEL_1fea4ed517b549e9952f11840f766244",
            "max": 364,
            "min": 0,
            "orientation": "horizontal",
            "style": "IPY_MODEL_4c1ed32da44c4c5aa61359a16dd4d501",
            "value": 364
          }
        },
        "bf32e982edcb4621abbf687ccef68a9b": {
          "model_module": "@jupyter-widgets/controls",
          "model_name": "HTMLModel",
          "model_module_version": "1.5.0",
          "state": {
            "_dom_classes": [],
            "_model_module": "@jupyter-widgets/controls",
            "_model_module_version": "1.5.0",
            "_model_name": "HTMLModel",
            "_view_count": null,
            "_view_module": "@jupyter-widgets/controls",
            "_view_module_version": "1.5.0",
            "_view_name": "HTMLView",
            "description": "",
            "description_tooltip": null,
            "layout": "IPY_MODEL_a8e7dc9d636c4b879e975dce858a282f",
            "placeholder": "​",
            "style": "IPY_MODEL_c61d827e70814f8283e147fcd58aba1f",
            "value": " 364/364 [00:00&lt;00:00, 33.2kB/s]"
          }
        },
        "2afca8a6a0604db39bb22390ce3771a3": {
          "model_module": "@jupyter-widgets/base",
          "model_name": "LayoutModel",
          "model_module_version": "1.2.0",
          "state": {
            "_model_module": "@jupyter-widgets/base",
            "_model_module_version": "1.2.0",
            "_model_name": "LayoutModel",
            "_view_count": null,
            "_view_module": "@jupyter-widgets/base",
            "_view_module_version": "1.2.0",
            "_view_name": "LayoutView",
            "align_content": null,
            "align_items": null,
            "align_self": null,
            "border": null,
            "bottom": null,
            "display": null,
            "flex": null,
            "flex_flow": null,
            "grid_area": null,
            "grid_auto_columns": null,
            "grid_auto_flow": null,
            "grid_auto_rows": null,
            "grid_column": null,
            "grid_gap": null,
            "grid_row": null,
            "grid_template_areas": null,
            "grid_template_columns": null,
            "grid_template_rows": null,
            "height": null,
            "justify_content": null,
            "justify_items": null,
            "left": null,
            "margin": null,
            "max_height": null,
            "max_width": null,
            "min_height": null,
            "min_width": null,
            "object_fit": null,
            "object_position": null,
            "order": null,
            "overflow": null,
            "overflow_x": null,
            "overflow_y": null,
            "padding": null,
            "right": null,
            "top": null,
            "visibility": null,
            "width": null
          }
        },
        "5d1cf86d274e405598bb7d889d013ae8": {
          "model_module": "@jupyter-widgets/base",
          "model_name": "LayoutModel",
          "model_module_version": "1.2.0",
          "state": {
            "_model_module": "@jupyter-widgets/base",
            "_model_module_version": "1.2.0",
            "_model_name": "LayoutModel",
            "_view_count": null,
            "_view_module": "@jupyter-widgets/base",
            "_view_module_version": "1.2.0",
            "_view_name": "LayoutView",
            "align_content": null,
            "align_items": null,
            "align_self": null,
            "border": null,
            "bottom": null,
            "display": null,
            "flex": null,
            "flex_flow": null,
            "grid_area": null,
            "grid_auto_columns": null,
            "grid_auto_flow": null,
            "grid_auto_rows": null,
            "grid_column": null,
            "grid_gap": null,
            "grid_row": null,
            "grid_template_areas": null,
            "grid_template_columns": null,
            "grid_template_rows": null,
            "height": null,
            "justify_content": null,
            "justify_items": null,
            "left": null,
            "margin": null,
            "max_height": null,
            "max_width": null,
            "min_height": null,
            "min_width": null,
            "object_fit": null,
            "object_position": null,
            "order": null,
            "overflow": null,
            "overflow_x": null,
            "overflow_y": null,
            "padding": null,
            "right": null,
            "top": null,
            "visibility": null,
            "width": null
          }
        },
        "2932e056254b47e0a087d5010dbc1e7c": {
          "model_module": "@jupyter-widgets/controls",
          "model_name": "DescriptionStyleModel",
          "model_module_version": "1.5.0",
          "state": {
            "_model_module": "@jupyter-widgets/controls",
            "_model_module_version": "1.5.0",
            "_model_name": "DescriptionStyleModel",
            "_view_count": null,
            "_view_module": "@jupyter-widgets/base",
            "_view_module_version": "1.2.0",
            "_view_name": "StyleView",
            "description_width": ""
          }
        },
        "1fea4ed517b549e9952f11840f766244": {
          "model_module": "@jupyter-widgets/base",
          "model_name": "LayoutModel",
          "model_module_version": "1.2.0",
          "state": {
            "_model_module": "@jupyter-widgets/base",
            "_model_module_version": "1.2.0",
            "_model_name": "LayoutModel",
            "_view_count": null,
            "_view_module": "@jupyter-widgets/base",
            "_view_module_version": "1.2.0",
            "_view_name": "LayoutView",
            "align_content": null,
            "align_items": null,
            "align_self": null,
            "border": null,
            "bottom": null,
            "display": null,
            "flex": null,
            "flex_flow": null,
            "grid_area": null,
            "grid_auto_columns": null,
            "grid_auto_flow": null,
            "grid_auto_rows": null,
            "grid_column": null,
            "grid_gap": null,
            "grid_row": null,
            "grid_template_areas": null,
            "grid_template_columns": null,
            "grid_template_rows": null,
            "height": null,
            "justify_content": null,
            "justify_items": null,
            "left": null,
            "margin": null,
            "max_height": null,
            "max_width": null,
            "min_height": null,
            "min_width": null,
            "object_fit": null,
            "object_position": null,
            "order": null,
            "overflow": null,
            "overflow_x": null,
            "overflow_y": null,
            "padding": null,
            "right": null,
            "top": null,
            "visibility": null,
            "width": null
          }
        },
        "4c1ed32da44c4c5aa61359a16dd4d501": {
          "model_module": "@jupyter-widgets/controls",
          "model_name": "ProgressStyleModel",
          "model_module_version": "1.5.0",
          "state": {
            "_model_module": "@jupyter-widgets/controls",
            "_model_module_version": "1.5.0",
            "_model_name": "ProgressStyleModel",
            "_view_count": null,
            "_view_module": "@jupyter-widgets/base",
            "_view_module_version": "1.2.0",
            "_view_name": "StyleView",
            "bar_color": null,
            "description_width": ""
          }
        },
        "a8e7dc9d636c4b879e975dce858a282f": {
          "model_module": "@jupyter-widgets/base",
          "model_name": "LayoutModel",
          "model_module_version": "1.2.0",
          "state": {
            "_model_module": "@jupyter-widgets/base",
            "_model_module_version": "1.2.0",
            "_model_name": "LayoutModel",
            "_view_count": null,
            "_view_module": "@jupyter-widgets/base",
            "_view_module_version": "1.2.0",
            "_view_name": "LayoutView",
            "align_content": null,
            "align_items": null,
            "align_self": null,
            "border": null,
            "bottom": null,
            "display": null,
            "flex": null,
            "flex_flow": null,
            "grid_area": null,
            "grid_auto_columns": null,
            "grid_auto_flow": null,
            "grid_auto_rows": null,
            "grid_column": null,
            "grid_gap": null,
            "grid_row": null,
            "grid_template_areas": null,
            "grid_template_columns": null,
            "grid_template_rows": null,
            "height": null,
            "justify_content": null,
            "justify_items": null,
            "left": null,
            "margin": null,
            "max_height": null,
            "max_width": null,
            "min_height": null,
            "min_width": null,
            "object_fit": null,
            "object_position": null,
            "order": null,
            "overflow": null,
            "overflow_x": null,
            "overflow_y": null,
            "padding": null,
            "right": null,
            "top": null,
            "visibility": null,
            "width": null
          }
        },
        "c61d827e70814f8283e147fcd58aba1f": {
          "model_module": "@jupyter-widgets/controls",
          "model_name": "DescriptionStyleModel",
          "model_module_version": "1.5.0",
          "state": {
            "_model_module": "@jupyter-widgets/controls",
            "_model_module_version": "1.5.0",
            "_model_name": "DescriptionStyleModel",
            "_view_count": null,
            "_view_module": "@jupyter-widgets/base",
            "_view_module_version": "1.2.0",
            "_view_name": "StyleView",
            "description_width": ""
          }
        },
        "76d5c2211d884598837771890d7bed79": {
          "model_module": "@jupyter-widgets/controls",
          "model_name": "HBoxModel",
          "model_module_version": "1.5.0",
          "state": {
            "_dom_classes": [],
            "_model_module": "@jupyter-widgets/controls",
            "_model_module_version": "1.5.0",
            "_model_name": "HBoxModel",
            "_view_count": null,
            "_view_module": "@jupyter-widgets/controls",
            "_view_module_version": "1.5.0",
            "_view_name": "HBoxView",
            "box_style": "",
            "children": [
              "IPY_MODEL_9e19ca5a76df44e5b1362b1715a749b0",
              "IPY_MODEL_32eaf6b5dd844a51871c1bfdd0513534",
              "IPY_MODEL_d0391d7ae303412a9d992e1cadd3b0f0"
            ],
            "layout": "IPY_MODEL_b6d7439b5600407496a5683ae36b53e6"
          }
        },
        "9e19ca5a76df44e5b1362b1715a749b0": {
          "model_module": "@jupyter-widgets/controls",
          "model_name": "HTMLModel",
          "model_module_version": "1.5.0",
          "state": {
            "_dom_classes": [],
            "_model_module": "@jupyter-widgets/controls",
            "_model_module_version": "1.5.0",
            "_model_name": "HTMLModel",
            "_view_count": null,
            "_view_module": "@jupyter-widgets/controls",
            "_view_module_version": "1.5.0",
            "_view_name": "HTMLView",
            "description": "",
            "description_tooltip": null,
            "layout": "IPY_MODEL_c6e58a3a5f094b30b9179217e43fb629",
            "placeholder": "​",
            "style": "IPY_MODEL_a0aab0362ffa4d8c9b4bd6385c5afc12",
            "value": "vocab.txt: 100%"
          }
        },
        "32eaf6b5dd844a51871c1bfdd0513534": {
          "model_module": "@jupyter-widgets/controls",
          "model_name": "FloatProgressModel",
          "model_module_version": "1.5.0",
          "state": {
            "_dom_classes": [],
            "_model_module": "@jupyter-widgets/controls",
            "_model_module_version": "1.5.0",
            "_model_name": "FloatProgressModel",
            "_view_count": null,
            "_view_module": "@jupyter-widgets/controls",
            "_view_module_version": "1.5.0",
            "_view_name": "ProgressView",
            "bar_style": "success",
            "description": "",
            "description_tooltip": null,
            "layout": "IPY_MODEL_a384ea809650430fa142dfd771b98ab8",
            "max": 241796,
            "min": 0,
            "orientation": "horizontal",
            "style": "IPY_MODEL_863fc70057804284ad27529cae4f0dc2",
            "value": 241796
          }
        },
        "d0391d7ae303412a9d992e1cadd3b0f0": {
          "model_module": "@jupyter-widgets/controls",
          "model_name": "HTMLModel",
          "model_module_version": "1.5.0",
          "state": {
            "_dom_classes": [],
            "_model_module": "@jupyter-widgets/controls",
            "_model_module_version": "1.5.0",
            "_model_name": "HTMLModel",
            "_view_count": null,
            "_view_module": "@jupyter-widgets/controls",
            "_view_module_version": "1.5.0",
            "_view_name": "HTMLView",
            "description": "",
            "description_tooltip": null,
            "layout": "IPY_MODEL_ca03856c2c0e4e4bab9db4f5707ef151",
            "placeholder": "​",
            "style": "IPY_MODEL_cea85b6253954f00a9f14211d888d0c2",
            "value": " 242k/242k [00:00&lt;00:00, 9.17MB/s]"
          }
        },
        "b6d7439b5600407496a5683ae36b53e6": {
          "model_module": "@jupyter-widgets/base",
          "model_name": "LayoutModel",
          "model_module_version": "1.2.0",
          "state": {
            "_model_module": "@jupyter-widgets/base",
            "_model_module_version": "1.2.0",
            "_model_name": "LayoutModel",
            "_view_count": null,
            "_view_module": "@jupyter-widgets/base",
            "_view_module_version": "1.2.0",
            "_view_name": "LayoutView",
            "align_content": null,
            "align_items": null,
            "align_self": null,
            "border": null,
            "bottom": null,
            "display": null,
            "flex": null,
            "flex_flow": null,
            "grid_area": null,
            "grid_auto_columns": null,
            "grid_auto_flow": null,
            "grid_auto_rows": null,
            "grid_column": null,
            "grid_gap": null,
            "grid_row": null,
            "grid_template_areas": null,
            "grid_template_columns": null,
            "grid_template_rows": null,
            "height": null,
            "justify_content": null,
            "justify_items": null,
            "left": null,
            "margin": null,
            "max_height": null,
            "max_width": null,
            "min_height": null,
            "min_width": null,
            "object_fit": null,
            "object_position": null,
            "order": null,
            "overflow": null,
            "overflow_x": null,
            "overflow_y": null,
            "padding": null,
            "right": null,
            "top": null,
            "visibility": null,
            "width": null
          }
        },
        "c6e58a3a5f094b30b9179217e43fb629": {
          "model_module": "@jupyter-widgets/base",
          "model_name": "LayoutModel",
          "model_module_version": "1.2.0",
          "state": {
            "_model_module": "@jupyter-widgets/base",
            "_model_module_version": "1.2.0",
            "_model_name": "LayoutModel",
            "_view_count": null,
            "_view_module": "@jupyter-widgets/base",
            "_view_module_version": "1.2.0",
            "_view_name": "LayoutView",
            "align_content": null,
            "align_items": null,
            "align_self": null,
            "border": null,
            "bottom": null,
            "display": null,
            "flex": null,
            "flex_flow": null,
            "grid_area": null,
            "grid_auto_columns": null,
            "grid_auto_flow": null,
            "grid_auto_rows": null,
            "grid_column": null,
            "grid_gap": null,
            "grid_row": null,
            "grid_template_areas": null,
            "grid_template_columns": null,
            "grid_template_rows": null,
            "height": null,
            "justify_content": null,
            "justify_items": null,
            "left": null,
            "margin": null,
            "max_height": null,
            "max_width": null,
            "min_height": null,
            "min_width": null,
            "object_fit": null,
            "object_position": null,
            "order": null,
            "overflow": null,
            "overflow_x": null,
            "overflow_y": null,
            "padding": null,
            "right": null,
            "top": null,
            "visibility": null,
            "width": null
          }
        },
        "a0aab0362ffa4d8c9b4bd6385c5afc12": {
          "model_module": "@jupyter-widgets/controls",
          "model_name": "DescriptionStyleModel",
          "model_module_version": "1.5.0",
          "state": {
            "_model_module": "@jupyter-widgets/controls",
            "_model_module_version": "1.5.0",
            "_model_name": "DescriptionStyleModel",
            "_view_count": null,
            "_view_module": "@jupyter-widgets/base",
            "_view_module_version": "1.2.0",
            "_view_name": "StyleView",
            "description_width": ""
          }
        },
        "a384ea809650430fa142dfd771b98ab8": {
          "model_module": "@jupyter-widgets/base",
          "model_name": "LayoutModel",
          "model_module_version": "1.2.0",
          "state": {
            "_model_module": "@jupyter-widgets/base",
            "_model_module_version": "1.2.0",
            "_model_name": "LayoutModel",
            "_view_count": null,
            "_view_module": "@jupyter-widgets/base",
            "_view_module_version": "1.2.0",
            "_view_name": "LayoutView",
            "align_content": null,
            "align_items": null,
            "align_self": null,
            "border": null,
            "bottom": null,
            "display": null,
            "flex": null,
            "flex_flow": null,
            "grid_area": null,
            "grid_auto_columns": null,
            "grid_auto_flow": null,
            "grid_auto_rows": null,
            "grid_column": null,
            "grid_gap": null,
            "grid_row": null,
            "grid_template_areas": null,
            "grid_template_columns": null,
            "grid_template_rows": null,
            "height": null,
            "justify_content": null,
            "justify_items": null,
            "left": null,
            "margin": null,
            "max_height": null,
            "max_width": null,
            "min_height": null,
            "min_width": null,
            "object_fit": null,
            "object_position": null,
            "order": null,
            "overflow": null,
            "overflow_x": null,
            "overflow_y": null,
            "padding": null,
            "right": null,
            "top": null,
            "visibility": null,
            "width": null
          }
        },
        "863fc70057804284ad27529cae4f0dc2": {
          "model_module": "@jupyter-widgets/controls",
          "model_name": "ProgressStyleModel",
          "model_module_version": "1.5.0",
          "state": {
            "_model_module": "@jupyter-widgets/controls",
            "_model_module_version": "1.5.0",
            "_model_name": "ProgressStyleModel",
            "_view_count": null,
            "_view_module": "@jupyter-widgets/base",
            "_view_module_version": "1.2.0",
            "_view_name": "StyleView",
            "bar_color": null,
            "description_width": ""
          }
        },
        "ca03856c2c0e4e4bab9db4f5707ef151": {
          "model_module": "@jupyter-widgets/base",
          "model_name": "LayoutModel",
          "model_module_version": "1.2.0",
          "state": {
            "_model_module": "@jupyter-widgets/base",
            "_model_module_version": "1.2.0",
            "_model_name": "LayoutModel",
            "_view_count": null,
            "_view_module": "@jupyter-widgets/base",
            "_view_module_version": "1.2.0",
            "_view_name": "LayoutView",
            "align_content": null,
            "align_items": null,
            "align_self": null,
            "border": null,
            "bottom": null,
            "display": null,
            "flex": null,
            "flex_flow": null,
            "grid_area": null,
            "grid_auto_columns": null,
            "grid_auto_flow": null,
            "grid_auto_rows": null,
            "grid_column": null,
            "grid_gap": null,
            "grid_row": null,
            "grid_template_areas": null,
            "grid_template_columns": null,
            "grid_template_rows": null,
            "height": null,
            "justify_content": null,
            "justify_items": null,
            "left": null,
            "margin": null,
            "max_height": null,
            "max_width": null,
            "min_height": null,
            "min_width": null,
            "object_fit": null,
            "object_position": null,
            "order": null,
            "overflow": null,
            "overflow_x": null,
            "overflow_y": null,
            "padding": null,
            "right": null,
            "top": null,
            "visibility": null,
            "width": null
          }
        },
        "cea85b6253954f00a9f14211d888d0c2": {
          "model_module": "@jupyter-widgets/controls",
          "model_name": "DescriptionStyleModel",
          "model_module_version": "1.5.0",
          "state": {
            "_model_module": "@jupyter-widgets/controls",
            "_model_module_version": "1.5.0",
            "_model_name": "DescriptionStyleModel",
            "_view_count": null,
            "_view_module": "@jupyter-widgets/base",
            "_view_module_version": "1.2.0",
            "_view_name": "StyleView",
            "description_width": ""
          }
        },
        "be772d559df240bf9e25ec74cf19025c": {
          "model_module": "@jupyter-widgets/controls",
          "model_name": "HBoxModel",
          "model_module_version": "1.5.0",
          "state": {
            "_dom_classes": [],
            "_model_module": "@jupyter-widgets/controls",
            "_model_module_version": "1.5.0",
            "_model_name": "HBoxModel",
            "_view_count": null,
            "_view_module": "@jupyter-widgets/controls",
            "_view_module_version": "1.5.0",
            "_view_name": "HBoxView",
            "box_style": "",
            "children": [
              "IPY_MODEL_977403a5e35f49e18a7ae8e25796d0f4",
              "IPY_MODEL_a1cf1965c9ab4cb985275af4f195f69f",
              "IPY_MODEL_e39bd073a0154a9e8d12aaef1ffebd52"
            ],
            "layout": "IPY_MODEL_9884bcb0e8534c50aab6a245b014de1a"
          }
        },
        "977403a5e35f49e18a7ae8e25796d0f4": {
          "model_module": "@jupyter-widgets/controls",
          "model_name": "HTMLModel",
          "model_module_version": "1.5.0",
          "state": {
            "_dom_classes": [],
            "_model_module": "@jupyter-widgets/controls",
            "_model_module_version": "1.5.0",
            "_model_name": "HTMLModel",
            "_view_count": null,
            "_view_module": "@jupyter-widgets/controls",
            "_view_module_version": "1.5.0",
            "_view_name": "HTMLView",
            "description": "",
            "description_tooltip": null,
            "layout": "IPY_MODEL_72bc757ec6fd4c30b513874172285446",
            "placeholder": "​",
            "style": "IPY_MODEL_c99153d7891a4cb581dd9de3c2f05c73",
            "value": "special_tokens_map.json: 100%"
          }
        },
        "a1cf1965c9ab4cb985275af4f195f69f": {
          "model_module": "@jupyter-widgets/controls",
          "model_name": "FloatProgressModel",
          "model_module_version": "1.5.0",
          "state": {
            "_dom_classes": [],
            "_model_module": "@jupyter-widgets/controls",
            "_model_module_version": "1.5.0",
            "_model_name": "FloatProgressModel",
            "_view_count": null,
            "_view_module": "@jupyter-widgets/controls",
            "_view_module_version": "1.5.0",
            "_view_name": "ProgressView",
            "bar_style": "success",
            "description": "",
            "description_tooltip": null,
            "layout": "IPY_MODEL_ceb2a17f4b76432ab09899d25d82c4fa",
            "max": 134,
            "min": 0,
            "orientation": "horizontal",
            "style": "IPY_MODEL_44b890f2e2084734a1e1d52788baab0b",
            "value": 134
          }
        },
        "e39bd073a0154a9e8d12aaef1ffebd52": {
          "model_module": "@jupyter-widgets/controls",
          "model_name": "HTMLModel",
          "model_module_version": "1.5.0",
          "state": {
            "_dom_classes": [],
            "_model_module": "@jupyter-widgets/controls",
            "_model_module_version": "1.5.0",
            "_model_name": "HTMLModel",
            "_view_count": null,
            "_view_module": "@jupyter-widgets/controls",
            "_view_module_version": "1.5.0",
            "_view_name": "HTMLView",
            "description": "",
            "description_tooltip": null,
            "layout": "IPY_MODEL_505337c8b38f409cbc96cd40bb8ee8ad",
            "placeholder": "​",
            "style": "IPY_MODEL_5875e369aa91417f88d5821e2921187c",
            "value": " 134/134 [00:00&lt;00:00, 13.4kB/s]"
          }
        },
        "9884bcb0e8534c50aab6a245b014de1a": {
          "model_module": "@jupyter-widgets/base",
          "model_name": "LayoutModel",
          "model_module_version": "1.2.0",
          "state": {
            "_model_module": "@jupyter-widgets/base",
            "_model_module_version": "1.2.0",
            "_model_name": "LayoutModel",
            "_view_count": null,
            "_view_module": "@jupyter-widgets/base",
            "_view_module_version": "1.2.0",
            "_view_name": "LayoutView",
            "align_content": null,
            "align_items": null,
            "align_self": null,
            "border": null,
            "bottom": null,
            "display": null,
            "flex": null,
            "flex_flow": null,
            "grid_area": null,
            "grid_auto_columns": null,
            "grid_auto_flow": null,
            "grid_auto_rows": null,
            "grid_column": null,
            "grid_gap": null,
            "grid_row": null,
            "grid_template_areas": null,
            "grid_template_columns": null,
            "grid_template_rows": null,
            "height": null,
            "justify_content": null,
            "justify_items": null,
            "left": null,
            "margin": null,
            "max_height": null,
            "max_width": null,
            "min_height": null,
            "min_width": null,
            "object_fit": null,
            "object_position": null,
            "order": null,
            "overflow": null,
            "overflow_x": null,
            "overflow_y": null,
            "padding": null,
            "right": null,
            "top": null,
            "visibility": null,
            "width": null
          }
        },
        "72bc757ec6fd4c30b513874172285446": {
          "model_module": "@jupyter-widgets/base",
          "model_name": "LayoutModel",
          "model_module_version": "1.2.0",
          "state": {
            "_model_module": "@jupyter-widgets/base",
            "_model_module_version": "1.2.0",
            "_model_name": "LayoutModel",
            "_view_count": null,
            "_view_module": "@jupyter-widgets/base",
            "_view_module_version": "1.2.0",
            "_view_name": "LayoutView",
            "align_content": null,
            "align_items": null,
            "align_self": null,
            "border": null,
            "bottom": null,
            "display": null,
            "flex": null,
            "flex_flow": null,
            "grid_area": null,
            "grid_auto_columns": null,
            "grid_auto_flow": null,
            "grid_auto_rows": null,
            "grid_column": null,
            "grid_gap": null,
            "grid_row": null,
            "grid_template_areas": null,
            "grid_template_columns": null,
            "grid_template_rows": null,
            "height": null,
            "justify_content": null,
            "justify_items": null,
            "left": null,
            "margin": null,
            "max_height": null,
            "max_width": null,
            "min_height": null,
            "min_width": null,
            "object_fit": null,
            "object_position": null,
            "order": null,
            "overflow": null,
            "overflow_x": null,
            "overflow_y": null,
            "padding": null,
            "right": null,
            "top": null,
            "visibility": null,
            "width": null
          }
        },
        "c99153d7891a4cb581dd9de3c2f05c73": {
          "model_module": "@jupyter-widgets/controls",
          "model_name": "DescriptionStyleModel",
          "model_module_version": "1.5.0",
          "state": {
            "_model_module": "@jupyter-widgets/controls",
            "_model_module_version": "1.5.0",
            "_model_name": "DescriptionStyleModel",
            "_view_count": null,
            "_view_module": "@jupyter-widgets/base",
            "_view_module_version": "1.2.0",
            "_view_name": "StyleView",
            "description_width": ""
          }
        },
        "ceb2a17f4b76432ab09899d25d82c4fa": {
          "model_module": "@jupyter-widgets/base",
          "model_name": "LayoutModel",
          "model_module_version": "1.2.0",
          "state": {
            "_model_module": "@jupyter-widgets/base",
            "_model_module_version": "1.2.0",
            "_model_name": "LayoutModel",
            "_view_count": null,
            "_view_module": "@jupyter-widgets/base",
            "_view_module_version": "1.2.0",
            "_view_name": "LayoutView",
            "align_content": null,
            "align_items": null,
            "align_self": null,
            "border": null,
            "bottom": null,
            "display": null,
            "flex": null,
            "flex_flow": null,
            "grid_area": null,
            "grid_auto_columns": null,
            "grid_auto_flow": null,
            "grid_auto_rows": null,
            "grid_column": null,
            "grid_gap": null,
            "grid_row": null,
            "grid_template_areas": null,
            "grid_template_columns": null,
            "grid_template_rows": null,
            "height": null,
            "justify_content": null,
            "justify_items": null,
            "left": null,
            "margin": null,
            "max_height": null,
            "max_width": null,
            "min_height": null,
            "min_width": null,
            "object_fit": null,
            "object_position": null,
            "order": null,
            "overflow": null,
            "overflow_x": null,
            "overflow_y": null,
            "padding": null,
            "right": null,
            "top": null,
            "visibility": null,
            "width": null
          }
        },
        "44b890f2e2084734a1e1d52788baab0b": {
          "model_module": "@jupyter-widgets/controls",
          "model_name": "ProgressStyleModel",
          "model_module_version": "1.5.0",
          "state": {
            "_model_module": "@jupyter-widgets/controls",
            "_model_module_version": "1.5.0",
            "_model_name": "ProgressStyleModel",
            "_view_count": null,
            "_view_module": "@jupyter-widgets/base",
            "_view_module_version": "1.2.0",
            "_view_name": "StyleView",
            "bar_color": null,
            "description_width": ""
          }
        },
        "505337c8b38f409cbc96cd40bb8ee8ad": {
          "model_module": "@jupyter-widgets/base",
          "model_name": "LayoutModel",
          "model_module_version": "1.2.0",
          "state": {
            "_model_module": "@jupyter-widgets/base",
            "_model_module_version": "1.2.0",
            "_model_name": "LayoutModel",
            "_view_count": null,
            "_view_module": "@jupyter-widgets/base",
            "_view_module_version": "1.2.0",
            "_view_name": "LayoutView",
            "align_content": null,
            "align_items": null,
            "align_self": null,
            "border": null,
            "bottom": null,
            "display": null,
            "flex": null,
            "flex_flow": null,
            "grid_area": null,
            "grid_auto_columns": null,
            "grid_auto_flow": null,
            "grid_auto_rows": null,
            "grid_column": null,
            "grid_gap": null,
            "grid_row": null,
            "grid_template_areas": null,
            "grid_template_columns": null,
            "grid_template_rows": null,
            "height": null,
            "justify_content": null,
            "justify_items": null,
            "left": null,
            "margin": null,
            "max_height": null,
            "max_width": null,
            "min_height": null,
            "min_width": null,
            "object_fit": null,
            "object_position": null,
            "order": null,
            "overflow": null,
            "overflow_x": null,
            "overflow_y": null,
            "padding": null,
            "right": null,
            "top": null,
            "visibility": null,
            "width": null
          }
        },
        "5875e369aa91417f88d5821e2921187c": {
          "model_module": "@jupyter-widgets/controls",
          "model_name": "DescriptionStyleModel",
          "model_module_version": "1.5.0",
          "state": {
            "_model_module": "@jupyter-widgets/controls",
            "_model_module_version": "1.5.0",
            "_model_name": "DescriptionStyleModel",
            "_view_count": null,
            "_view_module": "@jupyter-widgets/base",
            "_view_module_version": "1.2.0",
            "_view_name": "StyleView",
            "description_width": ""
          }
        },
        "689c9085c99b406baecf6759d964a699": {
          "model_module": "@jupyter-widgets/controls",
          "model_name": "HBoxModel",
          "model_module_version": "1.5.0",
          "state": {
            "_dom_classes": [],
            "_model_module": "@jupyter-widgets/controls",
            "_model_module_version": "1.5.0",
            "_model_name": "HBoxModel",
            "_view_count": null,
            "_view_module": "@jupyter-widgets/controls",
            "_view_module_version": "1.5.0",
            "_view_name": "HBoxView",
            "box_style": "",
            "children": [
              "IPY_MODEL_71f3b46a6ba04a35a0443786ff6a8285",
              "IPY_MODEL_e726a5c39ec8419e8ba7944e356abfd4",
              "IPY_MODEL_7b24e9ccf5aa477c8ddda52cafd7d615"
            ],
            "layout": "IPY_MODEL_81a3cb2f6afa41b285a60c8ae804dd70"
          }
        },
        "71f3b46a6ba04a35a0443786ff6a8285": {
          "model_module": "@jupyter-widgets/controls",
          "model_name": "HTMLModel",
          "model_module_version": "1.5.0",
          "state": {
            "_dom_classes": [],
            "_model_module": "@jupyter-widgets/controls",
            "_model_module_version": "1.5.0",
            "_model_name": "HTMLModel",
            "_view_count": null,
            "_view_module": "@jupyter-widgets/controls",
            "_view_module_version": "1.5.0",
            "_view_name": "HTMLView",
            "description": "",
            "description_tooltip": null,
            "layout": "IPY_MODEL_64c73e4f7b6e45b2a47f583d337c25a5",
            "placeholder": "​",
            "style": "IPY_MODEL_5ced5f94827c419e93e1adec090eab8a",
            "value": "tokenizer.json: 100%"
          }
        },
        "e726a5c39ec8419e8ba7944e356abfd4": {
          "model_module": "@jupyter-widgets/controls",
          "model_name": "FloatProgressModel",
          "model_module_version": "1.5.0",
          "state": {
            "_dom_classes": [],
            "_model_module": "@jupyter-widgets/controls",
            "_model_module_version": "1.5.0",
            "_model_name": "FloatProgressModel",
            "_view_count": null,
            "_view_module": "@jupyter-widgets/controls",
            "_view_module_version": "1.5.0",
            "_view_name": "ProgressView",
            "bar_style": "success",
            "description": "",
            "description_tooltip": null,
            "layout": "IPY_MODEL_c948d21b995742158a788d7a2059b17c",
            "max": 480199,
            "min": 0,
            "orientation": "horizontal",
            "style": "IPY_MODEL_c2869fb8d2544b2b96a95a630fc0cbc7",
            "value": 480199
          }
        },
        "7b24e9ccf5aa477c8ddda52cafd7d615": {
          "model_module": "@jupyter-widgets/controls",
          "model_name": "HTMLModel",
          "model_module_version": "1.5.0",
          "state": {
            "_dom_classes": [],
            "_model_module": "@jupyter-widgets/controls",
            "_model_module_version": "1.5.0",
            "_model_name": "HTMLModel",
            "_view_count": null,
            "_view_module": "@jupyter-widgets/controls",
            "_view_module_version": "1.5.0",
            "_view_name": "HTMLView",
            "description": "",
            "description_tooltip": null,
            "layout": "IPY_MODEL_73e022d5b9fa435b975683eab447555c",
            "placeholder": "​",
            "style": "IPY_MODEL_f9fa37dc256d4044841738f6cdca4d7d",
            "value": " 480k/480k [00:00&lt;00:00, 6.73MB/s]"
          }
        },
        "81a3cb2f6afa41b285a60c8ae804dd70": {
          "model_module": "@jupyter-widgets/base",
          "model_name": "LayoutModel",
          "model_module_version": "1.2.0",
          "state": {
            "_model_module": "@jupyter-widgets/base",
            "_model_module_version": "1.2.0",
            "_model_name": "LayoutModel",
            "_view_count": null,
            "_view_module": "@jupyter-widgets/base",
            "_view_module_version": "1.2.0",
            "_view_name": "LayoutView",
            "align_content": null,
            "align_items": null,
            "align_self": null,
            "border": null,
            "bottom": null,
            "display": null,
            "flex": null,
            "flex_flow": null,
            "grid_area": null,
            "grid_auto_columns": null,
            "grid_auto_flow": null,
            "grid_auto_rows": null,
            "grid_column": null,
            "grid_gap": null,
            "grid_row": null,
            "grid_template_areas": null,
            "grid_template_columns": null,
            "grid_template_rows": null,
            "height": null,
            "justify_content": null,
            "justify_items": null,
            "left": null,
            "margin": null,
            "max_height": null,
            "max_width": null,
            "min_height": null,
            "min_width": null,
            "object_fit": null,
            "object_position": null,
            "order": null,
            "overflow": null,
            "overflow_x": null,
            "overflow_y": null,
            "padding": null,
            "right": null,
            "top": null,
            "visibility": null,
            "width": null
          }
        },
        "64c73e4f7b6e45b2a47f583d337c25a5": {
          "model_module": "@jupyter-widgets/base",
          "model_name": "LayoutModel",
          "model_module_version": "1.2.0",
          "state": {
            "_model_module": "@jupyter-widgets/base",
            "_model_module_version": "1.2.0",
            "_model_name": "LayoutModel",
            "_view_count": null,
            "_view_module": "@jupyter-widgets/base",
            "_view_module_version": "1.2.0",
            "_view_name": "LayoutView",
            "align_content": null,
            "align_items": null,
            "align_self": null,
            "border": null,
            "bottom": null,
            "display": null,
            "flex": null,
            "flex_flow": null,
            "grid_area": null,
            "grid_auto_columns": null,
            "grid_auto_flow": null,
            "grid_auto_rows": null,
            "grid_column": null,
            "grid_gap": null,
            "grid_row": null,
            "grid_template_areas": null,
            "grid_template_columns": null,
            "grid_template_rows": null,
            "height": null,
            "justify_content": null,
            "justify_items": null,
            "left": null,
            "margin": null,
            "max_height": null,
            "max_width": null,
            "min_height": null,
            "min_width": null,
            "object_fit": null,
            "object_position": null,
            "order": null,
            "overflow": null,
            "overflow_x": null,
            "overflow_y": null,
            "padding": null,
            "right": null,
            "top": null,
            "visibility": null,
            "width": null
          }
        },
        "5ced5f94827c419e93e1adec090eab8a": {
          "model_module": "@jupyter-widgets/controls",
          "model_name": "DescriptionStyleModel",
          "model_module_version": "1.5.0",
          "state": {
            "_model_module": "@jupyter-widgets/controls",
            "_model_module_version": "1.5.0",
            "_model_name": "DescriptionStyleModel",
            "_view_count": null,
            "_view_module": "@jupyter-widgets/base",
            "_view_module_version": "1.2.0",
            "_view_name": "StyleView",
            "description_width": ""
          }
        },
        "c948d21b995742158a788d7a2059b17c": {
          "model_module": "@jupyter-widgets/base",
          "model_name": "LayoutModel",
          "model_module_version": "1.2.0",
          "state": {
            "_model_module": "@jupyter-widgets/base",
            "_model_module_version": "1.2.0",
            "_model_name": "LayoutModel",
            "_view_count": null,
            "_view_module": "@jupyter-widgets/base",
            "_view_module_version": "1.2.0",
            "_view_name": "LayoutView",
            "align_content": null,
            "align_items": null,
            "align_self": null,
            "border": null,
            "bottom": null,
            "display": null,
            "flex": null,
            "flex_flow": null,
            "grid_area": null,
            "grid_auto_columns": null,
            "grid_auto_flow": null,
            "grid_auto_rows": null,
            "grid_column": null,
            "grid_gap": null,
            "grid_row": null,
            "grid_template_areas": null,
            "grid_template_columns": null,
            "grid_template_rows": null,
            "height": null,
            "justify_content": null,
            "justify_items": null,
            "left": null,
            "margin": null,
            "max_height": null,
            "max_width": null,
            "min_height": null,
            "min_width": null,
            "object_fit": null,
            "object_position": null,
            "order": null,
            "overflow": null,
            "overflow_x": null,
            "overflow_y": null,
            "padding": null,
            "right": null,
            "top": null,
            "visibility": null,
            "width": null
          }
        },
        "c2869fb8d2544b2b96a95a630fc0cbc7": {
          "model_module": "@jupyter-widgets/controls",
          "model_name": "ProgressStyleModel",
          "model_module_version": "1.5.0",
          "state": {
            "_model_module": "@jupyter-widgets/controls",
            "_model_module_version": "1.5.0",
            "_model_name": "ProgressStyleModel",
            "_view_count": null,
            "_view_module": "@jupyter-widgets/base",
            "_view_module_version": "1.2.0",
            "_view_name": "StyleView",
            "bar_color": null,
            "description_width": ""
          }
        },
        "73e022d5b9fa435b975683eab447555c": {
          "model_module": "@jupyter-widgets/base",
          "model_name": "LayoutModel",
          "model_module_version": "1.2.0",
          "state": {
            "_model_module": "@jupyter-widgets/base",
            "_model_module_version": "1.2.0",
            "_model_name": "LayoutModel",
            "_view_count": null,
            "_view_module": "@jupyter-widgets/base",
            "_view_module_version": "1.2.0",
            "_view_name": "LayoutView",
            "align_content": null,
            "align_items": null,
            "align_self": null,
            "border": null,
            "bottom": null,
            "display": null,
            "flex": null,
            "flex_flow": null,
            "grid_area": null,
            "grid_auto_columns": null,
            "grid_auto_flow": null,
            "grid_auto_rows": null,
            "grid_column": null,
            "grid_gap": null,
            "grid_row": null,
            "grid_template_areas": null,
            "grid_template_columns": null,
            "grid_template_rows": null,
            "height": null,
            "justify_content": null,
            "justify_items": null,
            "left": null,
            "margin": null,
            "max_height": null,
            "max_width": null,
            "min_height": null,
            "min_width": null,
            "object_fit": null,
            "object_position": null,
            "order": null,
            "overflow": null,
            "overflow_x": null,
            "overflow_y": null,
            "padding": null,
            "right": null,
            "top": null,
            "visibility": null,
            "width": null
          }
        },
        "f9fa37dc256d4044841738f6cdca4d7d": {
          "model_module": "@jupyter-widgets/controls",
          "model_name": "DescriptionStyleModel",
          "model_module_version": "1.5.0",
          "state": {
            "_model_module": "@jupyter-widgets/controls",
            "_model_module_version": "1.5.0",
            "_model_name": "DescriptionStyleModel",
            "_view_count": null,
            "_view_module": "@jupyter-widgets/base",
            "_view_module_version": "1.2.0",
            "_view_name": "StyleView",
            "description_width": ""
          }
        },
        "928c5a91989c4f5386625c1d76065381": {
          "model_module": "@jupyter-widgets/controls",
          "model_name": "HBoxModel",
          "model_module_version": "1.5.0",
          "state": {
            "_dom_classes": [],
            "_model_module": "@jupyter-widgets/controls",
            "_model_module_version": "1.5.0",
            "_model_name": "HBoxModel",
            "_view_count": null,
            "_view_module": "@jupyter-widgets/controls",
            "_view_module_version": "1.5.0",
            "_view_name": "HBoxView",
            "box_style": "",
            "children": [
              "IPY_MODEL_9c0e07c959d84392af4f396f374e4064",
              "IPY_MODEL_79f5c9013d874e4b8bab65afdc4cc095",
              "IPY_MODEL_5f7b93cfe4bc4595a280079b8c68ea52"
            ],
            "layout": "IPY_MODEL_c75035e629bb4350aed1be8a49395ce8"
          }
        },
        "9c0e07c959d84392af4f396f374e4064": {
          "model_module": "@jupyter-widgets/controls",
          "model_name": "HTMLModel",
          "model_module_version": "1.5.0",
          "state": {
            "_dom_classes": [],
            "_model_module": "@jupyter-widgets/controls",
            "_model_module_version": "1.5.0",
            "_model_name": "HTMLModel",
            "_view_count": null,
            "_view_module": "@jupyter-widgets/controls",
            "_view_module_version": "1.5.0",
            "_view_name": "HTMLView",
            "description": "",
            "description_tooltip": null,
            "layout": "IPY_MODEL_0946ca89bcdb4f5cb8f671ffcd7b81f1",
            "placeholder": "​",
            "style": "IPY_MODEL_31dc249d54144be2a5a5c2442b70eea3",
            "value": "config.json: 100%"
          }
        },
        "79f5c9013d874e4b8bab65afdc4cc095": {
          "model_module": "@jupyter-widgets/controls",
          "model_name": "FloatProgressModel",
          "model_module_version": "1.5.0",
          "state": {
            "_dom_classes": [],
            "_model_module": "@jupyter-widgets/controls",
            "_model_module_version": "1.5.0",
            "_model_name": "FloatProgressModel",
            "_view_count": null,
            "_view_module": "@jupyter-widgets/controls",
            "_view_module_version": "1.5.0",
            "_view_name": "ProgressView",
            "bar_style": "success",
            "description": "",
            "description_tooltip": null,
            "layout": "IPY_MODEL_f8929ff9f75b4a14a229d08480d1633f",
            "max": 648,
            "min": 0,
            "orientation": "horizontal",
            "style": "IPY_MODEL_ce96f8c5d8ba4f36b8d343e12ed3af74",
            "value": 648
          }
        },
        "5f7b93cfe4bc4595a280079b8c68ea52": {
          "model_module": "@jupyter-widgets/controls",
          "model_name": "HTMLModel",
          "model_module_version": "1.5.0",
          "state": {
            "_dom_classes": [],
            "_model_module": "@jupyter-widgets/controls",
            "_model_module_version": "1.5.0",
            "_model_name": "HTMLModel",
            "_view_count": null,
            "_view_module": "@jupyter-widgets/controls",
            "_view_module_version": "1.5.0",
            "_view_name": "HTMLView",
            "description": "",
            "description_tooltip": null,
            "layout": "IPY_MODEL_89498e0a5f4e43339e54026821a29c33",
            "placeholder": "​",
            "style": "IPY_MODEL_64f74961689647b98d1a80f98da3aba7",
            "value": " 648/648 [00:00&lt;00:00, 58.3kB/s]"
          }
        },
        "c75035e629bb4350aed1be8a49395ce8": {
          "model_module": "@jupyter-widgets/base",
          "model_name": "LayoutModel",
          "model_module_version": "1.2.0",
          "state": {
            "_model_module": "@jupyter-widgets/base",
            "_model_module_version": "1.2.0",
            "_model_name": "LayoutModel",
            "_view_count": null,
            "_view_module": "@jupyter-widgets/base",
            "_view_module_version": "1.2.0",
            "_view_name": "LayoutView",
            "align_content": null,
            "align_items": null,
            "align_self": null,
            "border": null,
            "bottom": null,
            "display": null,
            "flex": null,
            "flex_flow": null,
            "grid_area": null,
            "grid_auto_columns": null,
            "grid_auto_flow": null,
            "grid_auto_rows": null,
            "grid_column": null,
            "grid_gap": null,
            "grid_row": null,
            "grid_template_areas": null,
            "grid_template_columns": null,
            "grid_template_rows": null,
            "height": null,
            "justify_content": null,
            "justify_items": null,
            "left": null,
            "margin": null,
            "max_height": null,
            "max_width": null,
            "min_height": null,
            "min_width": null,
            "object_fit": null,
            "object_position": null,
            "order": null,
            "overflow": null,
            "overflow_x": null,
            "overflow_y": null,
            "padding": null,
            "right": null,
            "top": null,
            "visibility": null,
            "width": null
          }
        },
        "0946ca89bcdb4f5cb8f671ffcd7b81f1": {
          "model_module": "@jupyter-widgets/base",
          "model_name": "LayoutModel",
          "model_module_version": "1.2.0",
          "state": {
            "_model_module": "@jupyter-widgets/base",
            "_model_module_version": "1.2.0",
            "_model_name": "LayoutModel",
            "_view_count": null,
            "_view_module": "@jupyter-widgets/base",
            "_view_module_version": "1.2.0",
            "_view_name": "LayoutView",
            "align_content": null,
            "align_items": null,
            "align_self": null,
            "border": null,
            "bottom": null,
            "display": null,
            "flex": null,
            "flex_flow": null,
            "grid_area": null,
            "grid_auto_columns": null,
            "grid_auto_flow": null,
            "grid_auto_rows": null,
            "grid_column": null,
            "grid_gap": null,
            "grid_row": null,
            "grid_template_areas": null,
            "grid_template_columns": null,
            "grid_template_rows": null,
            "height": null,
            "justify_content": null,
            "justify_items": null,
            "left": null,
            "margin": null,
            "max_height": null,
            "max_width": null,
            "min_height": null,
            "min_width": null,
            "object_fit": null,
            "object_position": null,
            "order": null,
            "overflow": null,
            "overflow_x": null,
            "overflow_y": null,
            "padding": null,
            "right": null,
            "top": null,
            "visibility": null,
            "width": null
          }
        },
        "31dc249d54144be2a5a5c2442b70eea3": {
          "model_module": "@jupyter-widgets/controls",
          "model_name": "DescriptionStyleModel",
          "model_module_version": "1.5.0",
          "state": {
            "_model_module": "@jupyter-widgets/controls",
            "_model_module_version": "1.5.0",
            "_model_name": "DescriptionStyleModel",
            "_view_count": null,
            "_view_module": "@jupyter-widgets/base",
            "_view_module_version": "1.2.0",
            "_view_name": "StyleView",
            "description_width": ""
          }
        },
        "f8929ff9f75b4a14a229d08480d1633f": {
          "model_module": "@jupyter-widgets/base",
          "model_name": "LayoutModel",
          "model_module_version": "1.2.0",
          "state": {
            "_model_module": "@jupyter-widgets/base",
            "_model_module_version": "1.2.0",
            "_model_name": "LayoutModel",
            "_view_count": null,
            "_view_module": "@jupyter-widgets/base",
            "_view_module_version": "1.2.0",
            "_view_name": "LayoutView",
            "align_content": null,
            "align_items": null,
            "align_self": null,
            "border": null,
            "bottom": null,
            "display": null,
            "flex": null,
            "flex_flow": null,
            "grid_area": null,
            "grid_auto_columns": null,
            "grid_auto_flow": null,
            "grid_auto_rows": null,
            "grid_column": null,
            "grid_gap": null,
            "grid_row": null,
            "grid_template_areas": null,
            "grid_template_columns": null,
            "grid_template_rows": null,
            "height": null,
            "justify_content": null,
            "justify_items": null,
            "left": null,
            "margin": null,
            "max_height": null,
            "max_width": null,
            "min_height": null,
            "min_width": null,
            "object_fit": null,
            "object_position": null,
            "order": null,
            "overflow": null,
            "overflow_x": null,
            "overflow_y": null,
            "padding": null,
            "right": null,
            "top": null,
            "visibility": null,
            "width": null
          }
        },
        "ce96f8c5d8ba4f36b8d343e12ed3af74": {
          "model_module": "@jupyter-widgets/controls",
          "model_name": "ProgressStyleModel",
          "model_module_version": "1.5.0",
          "state": {
            "_model_module": "@jupyter-widgets/controls",
            "_model_module_version": "1.5.0",
            "_model_name": "ProgressStyleModel",
            "_view_count": null,
            "_view_module": "@jupyter-widgets/base",
            "_view_module_version": "1.2.0",
            "_view_name": "StyleView",
            "bar_color": null,
            "description_width": ""
          }
        },
        "89498e0a5f4e43339e54026821a29c33": {
          "model_module": "@jupyter-widgets/base",
          "model_name": "LayoutModel",
          "model_module_version": "1.2.0",
          "state": {
            "_model_module": "@jupyter-widgets/base",
            "_model_module_version": "1.2.0",
            "_model_name": "LayoutModel",
            "_view_count": null,
            "_view_module": "@jupyter-widgets/base",
            "_view_module_version": "1.2.0",
            "_view_name": "LayoutView",
            "align_content": null,
            "align_items": null,
            "align_self": null,
            "border": null,
            "bottom": null,
            "display": null,
            "flex": null,
            "flex_flow": null,
            "grid_area": null,
            "grid_auto_columns": null,
            "grid_auto_flow": null,
            "grid_auto_rows": null,
            "grid_column": null,
            "grid_gap": null,
            "grid_row": null,
            "grid_template_areas": null,
            "grid_template_columns": null,
            "grid_template_rows": null,
            "height": null,
            "justify_content": null,
            "justify_items": null,
            "left": null,
            "margin": null,
            "max_height": null,
            "max_width": null,
            "min_height": null,
            "min_width": null,
            "object_fit": null,
            "object_position": null,
            "order": null,
            "overflow": null,
            "overflow_x": null,
            "overflow_y": null,
            "padding": null,
            "right": null,
            "top": null,
            "visibility": null,
            "width": null
          }
        },
        "64f74961689647b98d1a80f98da3aba7": {
          "model_module": "@jupyter-widgets/controls",
          "model_name": "DescriptionStyleModel",
          "model_module_version": "1.5.0",
          "state": {
            "_model_module": "@jupyter-widgets/controls",
            "_model_module_version": "1.5.0",
            "_model_name": "DescriptionStyleModel",
            "_view_count": null,
            "_view_module": "@jupyter-widgets/base",
            "_view_module_version": "1.2.0",
            "_view_name": "StyleView",
            "description_width": ""
          }
        },
        "640407533c17407287277665a9def3d1": {
          "model_module": "@jupyter-widgets/controls",
          "model_name": "HBoxModel",
          "model_module_version": "1.5.0",
          "state": {
            "_dom_classes": [],
            "_model_module": "@jupyter-widgets/controls",
            "_model_module_version": "1.5.0",
            "_model_name": "HBoxModel",
            "_view_count": null,
            "_view_module": "@jupyter-widgets/controls",
            "_view_module_version": "1.5.0",
            "_view_name": "HBoxView",
            "box_style": "",
            "children": [
              "IPY_MODEL_e75bf317299a4f9e8c7d4b3913af6931",
              "IPY_MODEL_b95d87b154f74b19bf37ec5fbd25bf7e",
              "IPY_MODEL_006ea6d53528444482a0b9a46a842221"
            ],
            "layout": "IPY_MODEL_f71ef80f07994352979f4ed4f47f2ef5"
          }
        },
        "e75bf317299a4f9e8c7d4b3913af6931": {
          "model_module": "@jupyter-widgets/controls",
          "model_name": "HTMLModel",
          "model_module_version": "1.5.0",
          "state": {
            "_dom_classes": [],
            "_model_module": "@jupyter-widgets/controls",
            "_model_module_version": "1.5.0",
            "_model_name": "HTMLModel",
            "_view_count": null,
            "_view_module": "@jupyter-widgets/controls",
            "_view_module_version": "1.5.0",
            "_view_name": "HTMLView",
            "description": "",
            "description_tooltip": null,
            "layout": "IPY_MODEL_41deaa490d2d44c190dc4ecb471f85d7",
            "placeholder": "​",
            "style": "IPY_MODEL_a1593e93651744beb16ddffb8d1173c5",
            "value": "pytorch_model.bin: 100%"
          }
        },
        "b95d87b154f74b19bf37ec5fbd25bf7e": {
          "model_module": "@jupyter-widgets/controls",
          "model_name": "FloatProgressModel",
          "model_module_version": "1.5.0",
          "state": {
            "_dom_classes": [],
            "_model_module": "@jupyter-widgets/controls",
            "_model_module_version": "1.5.0",
            "_model_name": "FloatProgressModel",
            "_view_count": null,
            "_view_module": "@jupyter-widgets/controls",
            "_view_module_version": "1.5.0",
            "_view_name": "ProgressView",
            "bar_style": "success",
            "description": "",
            "description_tooltip": null,
            "layout": "IPY_MODEL_10016acf06514ce2acfe0c832bbf33e4",
            "max": 439621341,
            "min": 0,
            "orientation": "horizontal",
            "style": "IPY_MODEL_491324345a81449e8728b4e6880bb4ee",
            "value": 439621341
          }
        },
        "006ea6d53528444482a0b9a46a842221": {
          "model_module": "@jupyter-widgets/controls",
          "model_name": "HTMLModel",
          "model_module_version": "1.5.0",
          "state": {
            "_dom_classes": [],
            "_model_module": "@jupyter-widgets/controls",
            "_model_module_version": "1.5.0",
            "_model_name": "HTMLModel",
            "_view_count": null,
            "_view_module": "@jupyter-widgets/controls",
            "_view_module_version": "1.5.0",
            "_view_name": "HTMLView",
            "description": "",
            "description_tooltip": null,
            "layout": "IPY_MODEL_4faec45dac3d42c882fc557f26f00bd3",
            "placeholder": "​",
            "style": "IPY_MODEL_9248e6e8fcbc4fc5afef6c7336a20e1a",
            "value": " 440M/440M [00:04&lt;00:00, 56.6MB/s]"
          }
        },
        "f71ef80f07994352979f4ed4f47f2ef5": {
          "model_module": "@jupyter-widgets/base",
          "model_name": "LayoutModel",
          "model_module_version": "1.2.0",
          "state": {
            "_model_module": "@jupyter-widgets/base",
            "_model_module_version": "1.2.0",
            "_model_name": "LayoutModel",
            "_view_count": null,
            "_view_module": "@jupyter-widgets/base",
            "_view_module_version": "1.2.0",
            "_view_name": "LayoutView",
            "align_content": null,
            "align_items": null,
            "align_self": null,
            "border": null,
            "bottom": null,
            "display": null,
            "flex": null,
            "flex_flow": null,
            "grid_area": null,
            "grid_auto_columns": null,
            "grid_auto_flow": null,
            "grid_auto_rows": null,
            "grid_column": null,
            "grid_gap": null,
            "grid_row": null,
            "grid_template_areas": null,
            "grid_template_columns": null,
            "grid_template_rows": null,
            "height": null,
            "justify_content": null,
            "justify_items": null,
            "left": null,
            "margin": null,
            "max_height": null,
            "max_width": null,
            "min_height": null,
            "min_width": null,
            "object_fit": null,
            "object_position": null,
            "order": null,
            "overflow": null,
            "overflow_x": null,
            "overflow_y": null,
            "padding": null,
            "right": null,
            "top": null,
            "visibility": null,
            "width": null
          }
        },
        "41deaa490d2d44c190dc4ecb471f85d7": {
          "model_module": "@jupyter-widgets/base",
          "model_name": "LayoutModel",
          "model_module_version": "1.2.0",
          "state": {
            "_model_module": "@jupyter-widgets/base",
            "_model_module_version": "1.2.0",
            "_model_name": "LayoutModel",
            "_view_count": null,
            "_view_module": "@jupyter-widgets/base",
            "_view_module_version": "1.2.0",
            "_view_name": "LayoutView",
            "align_content": null,
            "align_items": null,
            "align_self": null,
            "border": null,
            "bottom": null,
            "display": null,
            "flex": null,
            "flex_flow": null,
            "grid_area": null,
            "grid_auto_columns": null,
            "grid_auto_flow": null,
            "grid_auto_rows": null,
            "grid_column": null,
            "grid_gap": null,
            "grid_row": null,
            "grid_template_areas": null,
            "grid_template_columns": null,
            "grid_template_rows": null,
            "height": null,
            "justify_content": null,
            "justify_items": null,
            "left": null,
            "margin": null,
            "max_height": null,
            "max_width": null,
            "min_height": null,
            "min_width": null,
            "object_fit": null,
            "object_position": null,
            "order": null,
            "overflow": null,
            "overflow_x": null,
            "overflow_y": null,
            "padding": null,
            "right": null,
            "top": null,
            "visibility": null,
            "width": null
          }
        },
        "a1593e93651744beb16ddffb8d1173c5": {
          "model_module": "@jupyter-widgets/controls",
          "model_name": "DescriptionStyleModel",
          "model_module_version": "1.5.0",
          "state": {
            "_model_module": "@jupyter-widgets/controls",
            "_model_module_version": "1.5.0",
            "_model_name": "DescriptionStyleModel",
            "_view_count": null,
            "_view_module": "@jupyter-widgets/base",
            "_view_module_version": "1.2.0",
            "_view_name": "StyleView",
            "description_width": ""
          }
        },
        "10016acf06514ce2acfe0c832bbf33e4": {
          "model_module": "@jupyter-widgets/base",
          "model_name": "LayoutModel",
          "model_module_version": "1.2.0",
          "state": {
            "_model_module": "@jupyter-widgets/base",
            "_model_module_version": "1.2.0",
            "_model_name": "LayoutModel",
            "_view_count": null,
            "_view_module": "@jupyter-widgets/base",
            "_view_module_version": "1.2.0",
            "_view_name": "LayoutView",
            "align_content": null,
            "align_items": null,
            "align_self": null,
            "border": null,
            "bottom": null,
            "display": null,
            "flex": null,
            "flex_flow": null,
            "grid_area": null,
            "grid_auto_columns": null,
            "grid_auto_flow": null,
            "grid_auto_rows": null,
            "grid_column": null,
            "grid_gap": null,
            "grid_row": null,
            "grid_template_areas": null,
            "grid_template_columns": null,
            "grid_template_rows": null,
            "height": null,
            "justify_content": null,
            "justify_items": null,
            "left": null,
            "margin": null,
            "max_height": null,
            "max_width": null,
            "min_height": null,
            "min_width": null,
            "object_fit": null,
            "object_position": null,
            "order": null,
            "overflow": null,
            "overflow_x": null,
            "overflow_y": null,
            "padding": null,
            "right": null,
            "top": null,
            "visibility": null,
            "width": null
          }
        },
        "491324345a81449e8728b4e6880bb4ee": {
          "model_module": "@jupyter-widgets/controls",
          "model_name": "ProgressStyleModel",
          "model_module_version": "1.5.0",
          "state": {
            "_model_module": "@jupyter-widgets/controls",
            "_model_module_version": "1.5.0",
            "_model_name": "ProgressStyleModel",
            "_view_count": null,
            "_view_module": "@jupyter-widgets/base",
            "_view_module_version": "1.2.0",
            "_view_name": "StyleView",
            "bar_color": null,
            "description_width": ""
          }
        },
        "4faec45dac3d42c882fc557f26f00bd3": {
          "model_module": "@jupyter-widgets/base",
          "model_name": "LayoutModel",
          "model_module_version": "1.2.0",
          "state": {
            "_model_module": "@jupyter-widgets/base",
            "_model_module_version": "1.2.0",
            "_model_name": "LayoutModel",
            "_view_count": null,
            "_view_module": "@jupyter-widgets/base",
            "_view_module_version": "1.2.0",
            "_view_name": "LayoutView",
            "align_content": null,
            "align_items": null,
            "align_self": null,
            "border": null,
            "bottom": null,
            "display": null,
            "flex": null,
            "flex_flow": null,
            "grid_area": null,
            "grid_auto_columns": null,
            "grid_auto_flow": null,
            "grid_auto_rows": null,
            "grid_column": null,
            "grid_gap": null,
            "grid_row": null,
            "grid_template_areas": null,
            "grid_template_columns": null,
            "grid_template_rows": null,
            "height": null,
            "justify_content": null,
            "justify_items": null,
            "left": null,
            "margin": null,
            "max_height": null,
            "max_width": null,
            "min_height": null,
            "min_width": null,
            "object_fit": null,
            "object_position": null,
            "order": null,
            "overflow": null,
            "overflow_x": null,
            "overflow_y": null,
            "padding": null,
            "right": null,
            "top": null,
            "visibility": null,
            "width": null
          }
        },
        "9248e6e8fcbc4fc5afef6c7336a20e1a": {
          "model_module": "@jupyter-widgets/controls",
          "model_name": "DescriptionStyleModel",
          "model_module_version": "1.5.0",
          "state": {
            "_model_module": "@jupyter-widgets/controls",
            "_model_module_version": "1.5.0",
            "_model_name": "DescriptionStyleModel",
            "_view_count": null,
            "_view_module": "@jupyter-widgets/base",
            "_view_module_version": "1.2.0",
            "_view_name": "StyleView",
            "description_width": ""
          }
        },
        "20bf0332057e4d9dab1d013a66d6e525": {
          "model_module": "@jupyter-widgets/controls",
          "model_name": "HBoxModel",
          "model_module_version": "1.5.0",
          "state": {
            "_dom_classes": [],
            "_model_module": "@jupyter-widgets/controls",
            "_model_module_version": "1.5.0",
            "_model_name": "HBoxModel",
            "_view_count": null,
            "_view_module": "@jupyter-widgets/controls",
            "_view_module_version": "1.5.0",
            "_view_name": "HBoxView",
            "box_style": "",
            "children": [
              "IPY_MODEL_3f3c138e86df4c14a419cc907fcc6dbe",
              "IPY_MODEL_9d87ec92a30647968a7513e04a0c8537",
              "IPY_MODEL_fb1c11b11b6e45e6914052054d9e1661"
            ],
            "layout": "IPY_MODEL_01dc2a490e464da2888be46de623b00a"
          }
        },
        "3f3c138e86df4c14a419cc907fcc6dbe": {
          "model_module": "@jupyter-widgets/controls",
          "model_name": "HTMLModel",
          "model_module_version": "1.5.0",
          "state": {
            "_dom_classes": [],
            "_model_module": "@jupyter-widgets/controls",
            "_model_module_version": "1.5.0",
            "_model_name": "HTMLModel",
            "_view_count": null,
            "_view_module": "@jupyter-widgets/controls",
            "_view_module_version": "1.5.0",
            "_view_name": "HTMLView",
            "description": "",
            "description_tooltip": null,
            "layout": "IPY_MODEL_c7dff11abbf2477ab5bd852c3b1c0025",
            "placeholder": "​",
            "style": "IPY_MODEL_34b58f12ac2941c4830d4f6c3814d9e6",
            "value": "model.safetensors: 100%"
          }
        },
        "9d87ec92a30647968a7513e04a0c8537": {
          "model_module": "@jupyter-widgets/controls",
          "model_name": "FloatProgressModel",
          "model_module_version": "1.5.0",
          "state": {
            "_dom_classes": [],
            "_model_module": "@jupyter-widgets/controls",
            "_model_module_version": "1.5.0",
            "_model_name": "FloatProgressModel",
            "_view_count": null,
            "_view_module": "@jupyter-widgets/controls",
            "_view_module_version": "1.5.0",
            "_view_name": "ProgressView",
            "bar_style": "success",
            "description": "",
            "description_tooltip": null,
            "layout": "IPY_MODEL_9729bdc02a554cdf9f5ed84032066a7d",
            "max": 439561688,
            "min": 0,
            "orientation": "horizontal",
            "style": "IPY_MODEL_52917168d27148f4b9898e9a516fe1b8",
            "value": 439561688
          }
        },
        "fb1c11b11b6e45e6914052054d9e1661": {
          "model_module": "@jupyter-widgets/controls",
          "model_name": "HTMLModel",
          "model_module_version": "1.5.0",
          "state": {
            "_dom_classes": [],
            "_model_module": "@jupyter-widgets/controls",
            "_model_module_version": "1.5.0",
            "_model_name": "HTMLModel",
            "_view_count": null,
            "_view_module": "@jupyter-widgets/controls",
            "_view_module_version": "1.5.0",
            "_view_name": "HTMLView",
            "description": "",
            "description_tooltip": null,
            "layout": "IPY_MODEL_f949e3a2bed54f82bb3f2d99791e683f",
            "placeholder": "​",
            "style": "IPY_MODEL_7b1bd0270cc54a6b80e268416f3f54e3",
            "value": " 440M/440M [00:07&lt;00:00, 119MB/s]"
          }
        },
        "01dc2a490e464da2888be46de623b00a": {
          "model_module": "@jupyter-widgets/base",
          "model_name": "LayoutModel",
          "model_module_version": "1.2.0",
          "state": {
            "_model_module": "@jupyter-widgets/base",
            "_model_module_version": "1.2.0",
            "_model_name": "LayoutModel",
            "_view_count": null,
            "_view_module": "@jupyter-widgets/base",
            "_view_module_version": "1.2.0",
            "_view_name": "LayoutView",
            "align_content": null,
            "align_items": null,
            "align_self": null,
            "border": null,
            "bottom": null,
            "display": null,
            "flex": null,
            "flex_flow": null,
            "grid_area": null,
            "grid_auto_columns": null,
            "grid_auto_flow": null,
            "grid_auto_rows": null,
            "grid_column": null,
            "grid_gap": null,
            "grid_row": null,
            "grid_template_areas": null,
            "grid_template_columns": null,
            "grid_template_rows": null,
            "height": null,
            "justify_content": null,
            "justify_items": null,
            "left": null,
            "margin": null,
            "max_height": null,
            "max_width": null,
            "min_height": null,
            "min_width": null,
            "object_fit": null,
            "object_position": null,
            "order": null,
            "overflow": null,
            "overflow_x": null,
            "overflow_y": null,
            "padding": null,
            "right": null,
            "top": null,
            "visibility": null,
            "width": null
          }
        },
        "c7dff11abbf2477ab5bd852c3b1c0025": {
          "model_module": "@jupyter-widgets/base",
          "model_name": "LayoutModel",
          "model_module_version": "1.2.0",
          "state": {
            "_model_module": "@jupyter-widgets/base",
            "_model_module_version": "1.2.0",
            "_model_name": "LayoutModel",
            "_view_count": null,
            "_view_module": "@jupyter-widgets/base",
            "_view_module_version": "1.2.0",
            "_view_name": "LayoutView",
            "align_content": null,
            "align_items": null,
            "align_self": null,
            "border": null,
            "bottom": null,
            "display": null,
            "flex": null,
            "flex_flow": null,
            "grid_area": null,
            "grid_auto_columns": null,
            "grid_auto_flow": null,
            "grid_auto_rows": null,
            "grid_column": null,
            "grid_gap": null,
            "grid_row": null,
            "grid_template_areas": null,
            "grid_template_columns": null,
            "grid_template_rows": null,
            "height": null,
            "justify_content": null,
            "justify_items": null,
            "left": null,
            "margin": null,
            "max_height": null,
            "max_width": null,
            "min_height": null,
            "min_width": null,
            "object_fit": null,
            "object_position": null,
            "order": null,
            "overflow": null,
            "overflow_x": null,
            "overflow_y": null,
            "padding": null,
            "right": null,
            "top": null,
            "visibility": null,
            "width": null
          }
        },
        "34b58f12ac2941c4830d4f6c3814d9e6": {
          "model_module": "@jupyter-widgets/controls",
          "model_name": "DescriptionStyleModel",
          "model_module_version": "1.5.0",
          "state": {
            "_model_module": "@jupyter-widgets/controls",
            "_model_module_version": "1.5.0",
            "_model_name": "DescriptionStyleModel",
            "_view_count": null,
            "_view_module": "@jupyter-widgets/base",
            "_view_module_version": "1.2.0",
            "_view_name": "StyleView",
            "description_width": ""
          }
        },
        "9729bdc02a554cdf9f5ed84032066a7d": {
          "model_module": "@jupyter-widgets/base",
          "model_name": "LayoutModel",
          "model_module_version": "1.2.0",
          "state": {
            "_model_module": "@jupyter-widgets/base",
            "_model_module_version": "1.2.0",
            "_model_name": "LayoutModel",
            "_view_count": null,
            "_view_module": "@jupyter-widgets/base",
            "_view_module_version": "1.2.0",
            "_view_name": "LayoutView",
            "align_content": null,
            "align_items": null,
            "align_self": null,
            "border": null,
            "bottom": null,
            "display": null,
            "flex": null,
            "flex_flow": null,
            "grid_area": null,
            "grid_auto_columns": null,
            "grid_auto_flow": null,
            "grid_auto_rows": null,
            "grid_column": null,
            "grid_gap": null,
            "grid_row": null,
            "grid_template_areas": null,
            "grid_template_columns": null,
            "grid_template_rows": null,
            "height": null,
            "justify_content": null,
            "justify_items": null,
            "left": null,
            "margin": null,
            "max_height": null,
            "max_width": null,
            "min_height": null,
            "min_width": null,
            "object_fit": null,
            "object_position": null,
            "order": null,
            "overflow": null,
            "overflow_x": null,
            "overflow_y": null,
            "padding": null,
            "right": null,
            "top": null,
            "visibility": null,
            "width": null
          }
        },
        "52917168d27148f4b9898e9a516fe1b8": {
          "model_module": "@jupyter-widgets/controls",
          "model_name": "ProgressStyleModel",
          "model_module_version": "1.5.0",
          "state": {
            "_model_module": "@jupyter-widgets/controls",
            "_model_module_version": "1.5.0",
            "_model_name": "ProgressStyleModel",
            "_view_count": null,
            "_view_module": "@jupyter-widgets/base",
            "_view_module_version": "1.2.0",
            "_view_name": "StyleView",
            "bar_color": null,
            "description_width": ""
          }
        },
        "f949e3a2bed54f82bb3f2d99791e683f": {
          "model_module": "@jupyter-widgets/base",
          "model_name": "LayoutModel",
          "model_module_version": "1.2.0",
          "state": {
            "_model_module": "@jupyter-widgets/base",
            "_model_module_version": "1.2.0",
            "_model_name": "LayoutModel",
            "_view_count": null,
            "_view_module": "@jupyter-widgets/base",
            "_view_module_version": "1.2.0",
            "_view_name": "LayoutView",
            "align_content": null,
            "align_items": null,
            "align_self": null,
            "border": null,
            "bottom": null,
            "display": null,
            "flex": null,
            "flex_flow": null,
            "grid_area": null,
            "grid_auto_columns": null,
            "grid_auto_flow": null,
            "grid_auto_rows": null,
            "grid_column": null,
            "grid_gap": null,
            "grid_row": null,
            "grid_template_areas": null,
            "grid_template_columns": null,
            "grid_template_rows": null,
            "height": null,
            "justify_content": null,
            "justify_items": null,
            "left": null,
            "margin": null,
            "max_height": null,
            "max_width": null,
            "min_height": null,
            "min_width": null,
            "object_fit": null,
            "object_position": null,
            "order": null,
            "overflow": null,
            "overflow_x": null,
            "overflow_y": null,
            "padding": null,
            "right": null,
            "top": null,
            "visibility": null,
            "width": null
          }
        },
        "7b1bd0270cc54a6b80e268416f3f54e3": {
          "model_module": "@jupyter-widgets/controls",
          "model_name": "DescriptionStyleModel",
          "model_module_version": "1.5.0",
          "state": {
            "_model_module": "@jupyter-widgets/controls",
            "_model_module_version": "1.5.0",
            "_model_name": "DescriptionStyleModel",
            "_view_count": null,
            "_view_module": "@jupyter-widgets/base",
            "_view_module_version": "1.2.0",
            "_view_name": "StyleView",
            "description_width": ""
          }
        }
      }
    }
  },
  "cells": [
    {
      "cell_type": "code",
      "execution_count": null,
      "metadata": {
        "colab": {
          "base_uri": "https://localhost:8080/"
        },
        "id": "XSXn0hhAQahP",
        "outputId": "cd290f86-47cc-42ab-bd20-94d5f9a983fd"
      },
      "outputs": [
        {
          "output_type": "stream",
          "name": "stdout",
          "text": [
            "Drive already mounted at /content/drive; to attempt to forcibly remount, call drive.mount(\"/content/drive\", force_remount=True).\n"
          ]
        }
      ],
      "source": [
        "from google.colab import drive\n",
        "drive.mount('/content/drive')\n"
      ]
    },
    {
      "cell_type": "markdown",
      "source": [
        "### **Cargar los datos**"
      ],
      "metadata": {
        "id": "GiC1iyJWWrOC"
      }
    },
    {
      "cell_type": "code",
      "source": [
        "import pandas as pd\n",
        "\n",
        "# Cargar los datos desde Google Drive\n",
        "file_path = \"/content/drive/My Drive/IA/Rest-Mex_2025_train.csv\"\n",
        "df = pd.read_csv(file_path)\n",
        "\n",
        "# Contar instancias antes del preprocesamiento\n",
        "print(\"Instancias antes del preprocesamiento:\", len(df))\n",
        "\n",
        "# Verificar las primeras filas\n",
        "print(df.head())\n"
      ],
      "metadata": {
        "colab": {
          "base_uri": "https://localhost:8080/"
        },
        "id": "bN0P5B6OWJBL",
        "outputId": "69860745-f3c5-4a2a-f19c-dbaa89ca1c7f"
      },
      "execution_count": null,
      "outputs": [
        {
          "output_type": "stream",
          "name": "stdout",
          "text": [
            "Instancias antes del preprocesamiento: 208051\n",
            "                               Title  \\\n",
            "0              Mi Lugar Favorito!!!!   \n",
            "1  lugares interesantes para visitar   \n",
            "2             No es el mismo Dreams    \n",
            "3  un buen panorama cerca de CancÃºn   \n",
            "4                           El mejor   \n",
            "\n",
            "                                              Review  Polarity          Town  \\\n",
            "0  Excelente lugar para comer y pasar una buena n...       5.0      Sayulita   \n",
            "1  andar mucho, así que un poco difícil para pers...       4.0         Tulum   \n",
            "2  Es nuestra cuarta visita a Dreams Tulum, elegi...       3.0         Tulum   \n",
            "3  Estando en CancÃºn, fuimos al puerto y tomamos...       4.0  Isla_Mujeres   \n",
            "4  Es un lugar antiguo y por eso me encanto tiene...       5.0     Patzcuaro   \n",
            "\n",
            "        Region        Type  \n",
            "0      Nayarit  Restaurant  \n",
            "1  QuintanaRoo  Attractive  \n",
            "2  QuintanaRoo       Hotel  \n",
            "3  QuintanaRoo  Attractive  \n",
            "4    Michoacan       Hotel  \n"
          ]
        }
      ]
    },
    {
      "cell_type": "markdown",
      "source": [
        "# **Preprocesamiento: Limpiar texto**"
      ],
      "metadata": {
        "id": "3SgAYOHLWnRb"
      }
    },
    {
      "cell_type": "markdown",
      "source": [
        "## **PASO 1: Vamos a identificar que tipo de codificacion está usando**\n",
        "usaremos el **file_path**"
      ],
      "metadata": {
        "id": "mYmPg_EJEAni"
      }
    },
    {
      "cell_type": "code",
      "source": [
        "# Opción 1: utf-8\n",
        "try:\n",
        "    df = pd.read_csv(file_path, encoding='utf-8')\n",
        "    print(\"Codificación utf-8 cargada con éxito\")\n",
        "    print(df.head())\n",
        "except Exception as e:\n",
        "    print(\"Error con utf-8:\", e)\n",
        "\n",
        "# Opción 2: latin1\n",
        "try:\n",
        "    df = pd.read_csv(file_path, encoding='latin1')\n",
        "    print(\"Codificación latin1 cargada con éxito\")\n",
        "    print(df.head())\n",
        "except Exception as e:\n",
        "    print(\"Error con latin1:\", e)\n",
        "\n",
        "# Opción 3: cp1252 (Windows)\n",
        "try:\n",
        "    df = pd.read_csv(file_path, encoding='cp1252')\n",
        "    print(\"Codificación cp1252 cargada con éxito\")\n",
        "    print(df.head())\n",
        "except Exception as e:\n",
        "    print(\"Error con cp1252:\", e)\n"
      ],
      "metadata": {
        "colab": {
          "base_uri": "https://localhost:8080/"
        },
        "id": "vIsII4uPEAKk",
        "outputId": "c78c6252-2bec-462a-caac-04d5d7329f0a"
      },
      "execution_count": null,
      "outputs": [
        {
          "output_type": "stream",
          "name": "stdout",
          "text": [
            "Codificación utf-8 cargada con éxito\n",
            "                               Title  \\\n",
            "0              Mi Lugar Favorito!!!!   \n",
            "1  lugares interesantes para visitar   \n",
            "2             No es el mismo Dreams    \n",
            "3  un buen panorama cerca de CancÃºn   \n",
            "4                           El mejor   \n",
            "\n",
            "                                              Review  Polarity          Town  \\\n",
            "0  Excelente lugar para comer y pasar una buena n...       5.0      Sayulita   \n",
            "1  andar mucho, así que un poco difícil para pers...       4.0         Tulum   \n",
            "2  Es nuestra cuarta visita a Dreams Tulum, elegi...       3.0         Tulum   \n",
            "3  Estando en CancÃºn, fuimos al puerto y tomamos...       4.0  Isla_Mujeres   \n",
            "4  Es un lugar antiguo y por eso me encanto tiene...       5.0     Patzcuaro   \n",
            "\n",
            "        Region        Type  \n",
            "0      Nayarit  Restaurant  \n",
            "1  QuintanaRoo  Attractive  \n",
            "2  QuintanaRoo       Hotel  \n",
            "3  QuintanaRoo  Attractive  \n",
            "4    Michoacan       Hotel  \n",
            "Codificación latin1 cargada con éxito\n",
            "                                 Title  \\\n",
            "0                Mi Lugar Favorito!!!!   \n",
            "1    lugares interesantes para visitar   \n",
            "2               No es el mismo Dreams    \n",
            "3  un buen panorama cerca de CancÃÂºn   \n",
            "4                             El mejor   \n",
            "\n",
            "                                              Review  Polarity          Town  \\\n",
            "0  Excelente lugar para comer y pasar una buena n...       5.0      Sayulita   \n",
            "1  andar mucho, asÃ­ que un poco difÃ­cil para pe...       4.0         Tulum   \n",
            "2  Es nuestra cuarta visita a Dreams Tulum, elegi...       3.0         Tulum   \n",
            "3  Estando en CancÃÂºn, fuimos al puerto y tomam...       4.0  Isla_Mujeres   \n",
            "4  Es un lugar antiguo y por eso me encanto tiene...       5.0     Patzcuaro   \n",
            "\n",
            "        Region        Type  \n",
            "0      Nayarit  Restaurant  \n",
            "1  QuintanaRoo  Attractive  \n",
            "2  QuintanaRoo       Hotel  \n",
            "3  QuintanaRoo  Attractive  \n",
            "4    Michoacan       Hotel  \n",
            "Error con cp1252: 'charmap' codec can't decode byte 0x8d in position 80114: character maps to <undefined>\n"
          ]
        }
      ]
    },
    {
      "cell_type": "markdown",
      "source": [
        "**Opcion B:**\n",
        "Usamos Chardet y nos indicará que codificación se está usando , claro que debemos tener en cuenta que va a demorar porque analiza todas las instancias , una alternativa seria usar una muestra de por ejem: 10Kbytes"
      ],
      "metadata": {
        "id": "igjla3TOIgD1"
      }
    },
    {
      "cell_type": "code",
      "source": [
        "import chardet\n",
        "\n",
        "          # Leer los primeros bytes del archivo\n",
        "          #with open(file_path, 'rb') as f:\n",
        "          #   result = chardet.detect(f.read(10000))  # Detecta usando los primeros 10k bytes\n",
        "\n",
        "\n",
        "# Leer todo el contenido del archivo\n",
        "with open(file_path, 'rb') as f:\n",
        "    result = chardet.detect(f.read())  # Detecta usando todo el archivo\n",
        "\n",
        "print(\"Codificación detectada:\", result['encoding'])\n",
        "\n"
      ],
      "metadata": {
        "colab": {
          "base_uri": "https://localhost:8080/"
        },
        "id": "KrFAAUVOGJoU",
        "outputId": "31b2081a-b6a2-44a2-e8a9-c062ecd19cfd"
      },
      "execution_count": null,
      "outputs": [
        {
          "output_type": "stream",
          "name": "stdout",
          "text": [
            "Codificación detectada: utf-8\n"
          ]
        }
      ]
    },
    {
      "cell_type": "markdown",
      "source": [
        "### **PASO 2: Vamos a revisar que caracteres extraños hay en cada instancia**\n",
        "Aqui ya conociendo que la codificacion usada es utf-8"
      ],
      "metadata": {
        "id": "Ka8XnqXaJyxc"
      }
    },
    {
      "cell_type": "code",
      "source": [
        "import re\n",
        "import pandas as pd\n",
        "\n",
        "# Función que evalúa la rareza del texto (porcentaje de caracteres \"extraños\")\n",
        "def porcentaje_caracteres_no_comunes(texto):\n",
        "    # Lista de caracteres válidos (puedes ajustarlo si es necesario)\n",
        "    caracteres_comunes = re.findall(r\"[a-zA-ZáéíóúÁÉÍÓÚñÑüÜ .,;:¡!¿?0-9]\", texto)\n",
        "\n",
        "    # Calculamos la \"rareza\" como la proporción de caracteres no comunes\n",
        "    return 1 - len(caracteres_comunes) / max(1, len(texto))\n",
        "\n",
        "# Función para identificar si un texto contiene caracteres sospechosos\n",
        "def contiene_caracteres_sospechosos(texto):\n",
        "    return bool(re.search(r'[ÃÂ¢â€œâ€]', texto))  # Puedes agregar más patrones aquí si necesitas\n",
        "\n",
        "# Leer el dataset\n",
        "df = pd.read_csv(\"/content/drive/My Drive/IA/Rest-Mex_2025_train.csv\", encoding=\"utf-8\")\n",
        "\n",
        "# Evaluamos el porcentaje de caracteres raros para cada instancia (fila)\n",
        "df['error_ratio'] = df['Review'].apply(porcentaje_caracteres_no_comunes)\n",
        "\n",
        "# Identificamos filas con más del 20% de caracteres raros\n",
        "filas_con_errores = df[df['error_ratio'] > 0.15]\n",
        "\n",
        "# Mostrar las filas problemáticas\n",
        "print(\"Número de filas con posibles problemas de codificación:\", filas_con_errores.shape[0])\n",
        "print(filas_con_errores[['Title', 'Review', 'error_ratio']])\n"
      ],
      "metadata": {
        "colab": {
          "base_uri": "https://localhost:8080/"
        },
        "id": "q75pYYQXHrw2",
        "outputId": "c1e0230e-33d2-41b7-df30-e9056887e466"
      },
      "execution_count": null,
      "outputs": [
        {
          "output_type": "stream",
          "name": "stdout",
          "text": [
            "Número de filas con posibles problemas de codificación: 6\n",
            "                                      Title  \\\n",
            "41921   Es un restaurant fuera de lo común.   \n",
            "94937                       variedad-comida   \n",
            "121944                          Las Tinajas   \n",
            "127316                            Increíble   \n",
            "153199                            BUENISIMO   \n",
            "170002               vista-panorámica-Taxco   \n",
            "\n",
            "                                                   Review  error_ratio  \n",
            "41921   Precios muy accesibles. excelente servicio. To...     0.246154  \n",
            "94937   -recomiendo-bufet-buen-precio&variedad-comida(...     0.160221  \n",
            "121944  Gran mole___________________________________ d...     0.660377  \n",
            "127316  En resúmen:\\n\\nambiente increíble comida\\nincr...     0.324786  \n",
            "153199  Estuve por negocio 10 días y la pasé super bie...     0.167305  \n",
            "170002  -excelente-vista\\n-opciones-menú:\\nplato-entra...     0.162963  \n"
          ]
        }
      ]
    },
    {
      "cell_type": "code",
      "source": [
        "# Eliminar las filas con más del 20% de caracteres raros\n",
        "df_limpio = df[df['error_ratio'] <= 0.15]\n",
        "\n",
        "# Verificar el número de filas después de la eliminación\n",
        "print(\"Número de filas después de eliminar las filas problemáticas:\", df_limpio.shape[0])\n",
        "\n",
        "# Mostrar las primeras filas del DataFrame limpio\n",
        "print(df_limpio.head())\n"
      ],
      "metadata": {
        "colab": {
          "base_uri": "https://localhost:8080/"
        },
        "id": "f513KwEvL2hk",
        "outputId": "c26953b2-9ba7-47fe-9ed4-7dd74bca9379"
      },
      "execution_count": null,
      "outputs": [
        {
          "output_type": "stream",
          "name": "stdout",
          "text": [
            "Número de filas después de eliminar las filas problemáticas: 208045\n",
            "                               Title  \\\n",
            "0              Mi Lugar Favorito!!!!   \n",
            "1  lugares interesantes para visitar   \n",
            "2             No es el mismo Dreams    \n",
            "3  un buen panorama cerca de CancÃºn   \n",
            "4                           El mejor   \n",
            "\n",
            "                                              Review  Polarity          Town  \\\n",
            "0  Excelente lugar para comer y pasar una buena n...       5.0      Sayulita   \n",
            "1  andar mucho, así que un poco difícil para pers...       4.0         Tulum   \n",
            "2  Es nuestra cuarta visita a Dreams Tulum, elegi...       3.0         Tulum   \n",
            "3  Estando en CancÃºn, fuimos al puerto y tomamos...       4.0  Isla_Mujeres   \n",
            "4  Es un lugar antiguo y por eso me encanto tiene...       5.0     Patzcuaro   \n",
            "\n",
            "        Region        Type  error_ratio  \n",
            "0      Nayarit  Restaurant     0.009615  \n",
            "1  QuintanaRoo  Attractive     0.000000  \n",
            "2  QuintanaRoo       Hotel     0.003797  \n",
            "3  QuintanaRoo  Attractive     0.026549  \n",
            "4    Michoacan       Hotel     0.000000  \n"
          ]
        }
      ]
    },
    {
      "cell_type": "code",
      "source": [
        "import re\n",
        "\n",
        "# Función de limpieza mejorada\n",
        "def clean_text(text):\n",
        "    text = text.strip()  # Eliminar espacios extra\n",
        "    # Solo eliminar caracteres no alfabéticos, pero mantener los acentos y la puntuación\n",
        "    text = re.sub(r\"[^a-zA-ZáéíóúüñÁÉÍÓÚÜÑ0-9,.!? ]\", \"\", text)\n",
        "    return text\n",
        "\n",
        "\n",
        "# Aplicar la limpieza a las reseñas\n",
        "df_limpio[\"Review\"] = df_limpio[\"Review\"].apply(clean_text)\n",
        "\n",
        "# Verificar el número de filas después de la eliminación\n",
        "print(\"Número de filas:\", df_limpio.shape[0])\n",
        "\n",
        "# Mostrar las primeras filas del DataFrame limpio\n",
        "print(df_limpio.head())\n",
        "\n"
      ],
      "metadata": {
        "id": "RrFgq2hgWROz",
        "colab": {
          "base_uri": "https://localhost:8080/"
        },
        "outputId": "fba8812a-67a0-4ba1-ad91-ae2cfd7b8c90"
      },
      "execution_count": null,
      "outputs": [
        {
          "output_type": "stream",
          "name": "stdout",
          "text": [
            "Número de filas: 208045\n",
            "                               Title  \\\n",
            "0              Mi Lugar Favorito!!!!   \n",
            "1  lugares interesantes para visitar   \n",
            "2             No es el mismo Dreams    \n",
            "3  un buen panorama cerca de CancÃºn   \n",
            "4                           El mejor   \n",
            "\n",
            "                                              Review  Polarity          Town  \\\n",
            "0  Excelente lugar para comer y pasar una buena n...       5.0      Sayulita   \n",
            "1  andar mucho, así que un poco difícil para pers...       4.0         Tulum   \n",
            "2  Es nuestra cuarta visita a Dreams Tulum, elegi...       3.0         Tulum   \n",
            "3  Estando en Cancn, fuimos al puerto y tomamos u...       4.0  Isla_Mujeres   \n",
            "4  Es un lugar antiguo y por eso me encanto tiene...       5.0     Patzcuaro   \n",
            "\n",
            "        Region        Type  error_ratio  \n",
            "0      Nayarit  Restaurant     0.009615  \n",
            "1  QuintanaRoo  Attractive     0.000000  \n",
            "2  QuintanaRoo       Hotel     0.003797  \n",
            "3  QuintanaRoo  Attractive     0.026549  \n",
            "4    Michoacan       Hotel     0.000000  \n"
          ]
        },
        {
          "output_type": "stream",
          "name": "stderr",
          "text": [
            "<ipython-input-16-6edf93186282>:12: SettingWithCopyWarning: \n",
            "A value is trying to be set on a copy of a slice from a DataFrame.\n",
            "Try using .loc[row_indexer,col_indexer] = value instead\n",
            "\n",
            "See the caveats in the documentation: https://pandas.pydata.org/pandas-docs/stable/user_guide/indexing.html#returning-a-view-versus-a-copy\n",
            "  df_limpio[\"Review\"] = df_limpio[\"Review\"].apply(clean_text)\n"
          ]
        }
      ]
    },
    {
      "cell_type": "code",
      "source": [
        "# Eliminar filas con valores faltantes en cualquier columna\n",
        "df_limpio = df_limpio.dropna()\n",
        "\n",
        "# Asegurarse de que la columna 'Polarity' sea numérica\n",
        "df_limpio['Polarity'] = pd.to_numeric(df_limpio['Polarity'], errors='coerce')\n",
        "\n",
        "# Eliminar filas donde 'Polarity' es NaN (después de la conversión) y filtrar valores válidos entre 1.0 y 5.0\n",
        "df_limpio = df_limpio[(df_limpio['Polarity'] >= 1.0) & (df_limpio['Polarity'] <= 5.0)]\n",
        "\n",
        "# Reiniciar el índice después de eliminar filas\n",
        "df_limpio = df_limpio.reset_index(drop=True)\n",
        "\n",
        "# Contar instancias después del preprocesamiento\n",
        "print(\"Instancias después del preprocesamiento:\", len(df_limpio))\n",
        "\n",
        "# Mostrar una muestra del DataFrame limpio\n",
        "print(df_limpio.head(10))\n",
        "\n"
      ],
      "metadata": {
        "colab": {
          "base_uri": "https://localhost:8080/"
        },
        "id": "5vbbimjwRY1G",
        "outputId": "3bbc329d-0c41-4f06-e6a5-99ac0147cec3"
      },
      "execution_count": null,
      "outputs": [
        {
          "output_type": "stream",
          "name": "stdout",
          "text": [
            "Instancias después del preprocesamiento: 208043\n",
            "                                               Title  \\\n",
            "0                              Mi Lugar Favorito!!!!   \n",
            "1                  lugares interesantes para visitar   \n",
            "2                             No es el mismo Dreams    \n",
            "3                  un buen panorama cerca de CancÃºn   \n",
            "4                                           El mejor   \n",
            "5                                           Preciosa   \n",
            "6                                 Maravillosa Playa.   \n",
            "7  Un muy buen lugar para quedarse y comer en Pal...   \n",
            "8                                  Tiempo para mi...   \n",
            "9                           Buena Ubicación y limpio   \n",
            "\n",
            "                                              Review  Polarity  \\\n",
            "0  Excelente lugar para comer y pasar una buena n...       5.0   \n",
            "1  andar mucho, así que un poco difícil para pers...       4.0   \n",
            "2  Es nuestra cuarta visita a Dreams Tulum, elegi...       3.0   \n",
            "3  Estando en Cancn, fuimos al puerto y tomamos u...       4.0   \n",
            "4  Es un lugar antiguo y por eso me encanto tiene...       5.0   \n",
            "5  La mejor playa en la que he estado. Arena blan...       5.0   \n",
            "6  Visitar la zona arqueologica de Tulum y disfru...       5.0   \n",
            "7  Conozco Mayabel desde hace más de 15 años. Es ...       4.0   \n",
            "8  las instalaciones están hermosas, es de esos l...       4.0   \n",
            "9  estuvimoa hospedados para participar en el eve...       4.0   \n",
            "\n",
            "             Town            Region        Type  error_ratio  \n",
            "0        Sayulita           Nayarit  Restaurant     0.009615  \n",
            "1           Tulum       QuintanaRoo  Attractive     0.000000  \n",
            "2           Tulum       QuintanaRoo       Hotel     0.003797  \n",
            "3    Isla_Mujeres       QuintanaRoo  Attractive     0.026549  \n",
            "4       Patzcuaro         Michoacan       Hotel     0.000000  \n",
            "5           Tulum       QuintanaRoo  Attractive     0.000000  \n",
            "6           Tulum       QuintanaRoo  Attractive     0.000000  \n",
            "7        Palenque           Chiapas       Hotel     0.000000  \n",
            "8  Valle_de_Bravo  Estado_de_Mexico       Hotel     0.000000  \n",
            "9        Palenque           Chiapas       Hotel     0.000000  \n"
          ]
        },
        {
          "output_type": "stream",
          "name": "stderr",
          "text": [
            "<ipython-input-17-0968a9e0d10f>:5: SettingWithCopyWarning: \n",
            "A value is trying to be set on a copy of a slice from a DataFrame.\n",
            "Try using .loc[row_indexer,col_indexer] = value instead\n",
            "\n",
            "See the caveats in the documentation: https://pandas.pydata.org/pandas-docs/stable/user_guide/indexing.html#returning-a-view-versus-a-copy\n",
            "  df_limpio['Polarity'] = pd.to_numeric(df_limpio['Polarity'], errors='coerce')\n"
          ]
        }
      ]
    },
    {
      "cell_type": "markdown",
      "source": [
        "### **Distribución (frecuencia) de longitud de palabras**"
      ],
      "metadata": {
        "id": "jeYDzMpIArG7"
      }
    },
    {
      "cell_type": "markdown",
      "source": [
        "Primero revisaremos la longitud y frecuencia de estos textos para, segun lo obtenido ver si truncamos o realizamos otra tarea previa\n"
      ],
      "metadata": {
        "id": "jEVHR5lL6dYx"
      }
    },
    {
      "cell_type": "code",
      "source": [
        "import matplotlib.pyplot as plt\n",
        "\n",
        "# Contar palabras por texto en el DataFrame limpio\n",
        "df_limpio[\"word_count\"] = df_limpio[\"Review\"].apply(lambda x: len(x.split()))\n",
        "\n",
        "# Graficar distribución de cantidad de palabras\n",
        "plt.figure(figsize=(10,5))\n",
        "plt.hist(df_limpio[\"word_count\"], bins=50, color=\"blue\", alpha=0.7)\n",
        "plt.xlabel(\"Cantidad de palabras\")\n",
        "plt.ylabel(\"Frecuencia\")\n",
        "plt.title(\"Distribución de la cantidad de palabras por reseña\")\n",
        "plt.show()\n",
        "\n",
        "\n"
      ],
      "metadata": {
        "colab": {
          "base_uri": "https://localhost:8080/",
          "height": 488
        },
        "id": "4Zfe2GKq6biM",
        "outputId": "bb5762e7-c37e-4a71-b473-1b98aa6c3c84"
      },
      "execution_count": null,
      "outputs": [
        {
          "output_type": "display_data",
          "data": {
            "text/plain": [
              "<Figure size 1000x500 with 1 Axes>"
            ],
            "image/png": "[encoded data removed]"
          },
          "metadata": {}
        }
      ]
    },
    {
      "cell_type": "markdown",
      "source": [
        "Analizando el balanceo de las instancias segun polarity"
      ],
      "metadata": {
        "id": "5Sx55WS7Sqwu"
      }
    },
    {
      "cell_type": "code",
      "source": [
        "import matplotlib.pyplot as plt\n",
        "\n",
        "# Contar la cantidad de instancias por cada clase de polaridad\n",
        "polaridad_counts = df_limpio['Type'].value_counts().sort_index()\n",
        "\n",
        "# Visualizar la distribución de la polaridad\n",
        "plt.figure(figsize=(10,5))\n",
        "polaridad_counts.plot(kind='bar', color='green', alpha=0.7)\n",
        "plt.xlabel(\"Polaridad\")\n",
        "plt.ylabel(\"Frecuencia\")\n",
        "plt.title(\"Distribución de la polaridad en las reseñas\")\n",
        "plt.xticks(rotation=0)\n",
        "plt.show()\n",
        "\n",
        "# Mostrar el conteo de instancias por clase de polaridad\n",
        "print(\"Conteo de instancias por polaridad:\")\n",
        "print(polaridad_counts)\n",
        "\n",
        "# Calcular el porcentaje de cada clase de polaridad\n",
        "polaridad_percentage = (polaridad_counts / polaridad_counts.sum()) * 100\n",
        "print(\"\\nPorcentaje de instancias por polaridad:\")\n",
        "print(polaridad_percentage)\n"
      ],
      "metadata": {
        "colab": {
          "base_uri": "https://localhost:8080/",
          "height": 714
        },
        "id": "0O1nEO-FSlJV",
        "outputId": "3f1475a7-f082-4303-b9de-54268394b32e"
      },
      "execution_count": null,
      "outputs": [
        {
          "output_type": "display_data",
          "data": {
            "text/plain": [
              "<Figure size 1000x500 with 1 Axes>"
            ],
            "image/png": "[encoded data removed]"
          },
          "metadata": {}
        },
        {
          "output_type": "stream",
          "name": "stdout",
          "text": [
            "Conteo de instancias por polaridad:\n",
            "Type\n",
            "Attractive    69920\n",
            "Hotel         51409\n",
            "Restaurant    86714\n",
            "Name: count, dtype: int64\n",
            "\n",
            "Porcentaje de instancias por polaridad:\n",
            "Type\n",
            "Attractive    33.608437\n",
            "Hotel         24.710757\n",
            "Restaurant    41.680806\n",
            "Name: count, dtype: float64\n"
          ]
        }
      ]
    },
    {
      "cell_type": "markdown",
      "source": [
        "Con los resultados podemos observar que la distribución de Polarity está bastante desbalanceada. La mayoría de las instancias (alrededor del 65.64%) están en la clase Polarity = 5.0, mientras que las otras clases tienen una representación mucho menor. Esto podría ser un problema para modelos de machine learning, ya que podrían estar sesgados hacia la clase más frecuente."
      ],
      "metadata": {
        "id": "ckxiMzclTJ-X"
      }
    },
    {
      "cell_type": "markdown",
      "source": [
        "## **Submuestreo (undersampling)**\n",
        "La biblioteca **imbalanced-learn** tiene una implementación sencilla de undersampling llamada **RandomUnderSampler**"
      ],
      "metadata": {
        "id": "N24AwWB2TNcu"
      }
    },
    {
      "cell_type": "code",
      "source": [
        "from imblearn.under_sampling import RandomUnderSampler\n",
        "\n",
        "# Supongo que df_limpio es el DataFrame limpio con las reseñas y la polaridad\n",
        "\n",
        "# Dividir el dataset en características (X) y etiquetas (y)\n",
        "X = df_limpio.drop('Type', axis=1)\n",
        "y = df_limpio['Type']\n",
        "\n",
        "# Aplicar el submuestreo (undersampling) sobre el conjunto completo\n",
        "undersampler = RandomUnderSampler(sampling_strategy='auto', random_state=42)\n",
        "X_resampled, y_resampled = undersampler.fit_resample(X, y)\n",
        "\n",
        "# Verificar la distribución de clases después del submuestreo\n",
        "print(\"Distribución de clases después de submuestro (undersampling):\")\n",
        "print(y_resampled.value_counts())\n",
        "\n",
        "# Ahora X_resampled y y_resampled contienen los datos balanceados.\n"
      ],
      "metadata": {
        "colab": {
          "base_uri": "https://localhost:8080/"
        },
        "id": "Sbima6KDThPF",
        "outputId": "3af5c85c-56ef-42ef-c5ea-d606d505b016"
      },
      "execution_count": null,
      "outputs": [
        {
          "output_type": "stream",
          "name": "stdout",
          "text": [
            "Distribución de clases después de submuestro (undersampling):\n",
            "Type\n",
            "Attractive    51409\n",
            "Hotel         51409\n",
            "Restaurant    51409\n",
            "Name: count, dtype: int64\n"
          ]
        }
      ]
    },
    {
      "cell_type": "markdown",
      "source": [
        "### **REENSAMBLANDO**\n",
        "en uno dataframe nuevo llamado **df_new**"
      ],
      "metadata": {
        "id": "97CFuNjdWJ7Y"
      }
    },
    {
      "cell_type": "code",
      "source": [
        "# Crear un nuevo DataFrame con las características y etiquetas balanceadas\n",
        "df_new = pd.DataFrame(X_resampled, columns=X.columns)  # Las columnas de X\n",
        "df_new['Type'] = y_resampled  # Agregar la columna 'Polarity' con las etiquetas balanceadas\n",
        "\n",
        "\n",
        "# 🔹 Reiniciar los índices del DataFrame\n",
        "df_new.reset_index(drop=True, inplace=True)\n",
        "\n",
        "# Ver las primeras filas del DataFrame\n",
        "print(df_new.head())\n",
        "\n",
        "# 🔹 Guardar el DataFrame en un archivo CSV temporal en la memoria de Colab\n",
        "df_new.to_csv(\"/content/df_balanceado.csv\", index=False)\n",
        "\n",
        "# 🔹 Código para descargar el archivo\n",
        "#from google.colab import files\n",
        "#files.download(\"/content/df_balanceado.csv\")\n"
      ],
      "metadata": {
        "colab": {
          "base_uri": "https://localhost:8080/"
        },
        "id": "NwZiOMZ6WERm",
        "outputId": "2c56d373-5ec1-4fae-8263-4835418f43ab"
      },
      "execution_count": null,
      "outputs": [
        {
          "output_type": "stream",
          "name": "stdout",
          "text": [
            "                                  Title  \\\n",
            "0  Bonito pero consultaciones Vic Falls   \n",
            "1                         Digno de ver!   \n",
            "2                       Hermoso es poco   \n",
            "3  El origen del PH?,.. yo creo que sí.   \n",
            "4   Cansado para adultos de la 4ta edad   \n",
            "\n",
            "                                              Review  Polarity      Town  \\\n",
            "0  No está mal, pero es bastante peatonal . Largo...       3.0  Palenque   \n",
            "1  Ya he visto muchos del mundo, pero esto es inc...       5.0     Tulum   \n",
            "2  Es un excelente lugar, super accesible el acce...       5.0   Bacalar   \n",
            "3  Intersante lugar de Orizaba. Los pequeños muse...       4.0   Orizaba   \n",
            "4  Con el calor de la Riviera Maya sin duda es to...       4.0     Tulum   \n",
            "\n",
            "        Region  error_ratio  word_count        Type  \n",
            "0      Chiapas     0.000000          26  Attractive  \n",
            "1  QuintanaRoo     0.012605          43  Attractive  \n",
            "2  QuintanaRoo     0.001709          99  Attractive  \n",
            "3     Veracruz     0.002252          80  Attractive  \n",
            "4  QuintanaRoo     0.000000         107  Attractive  \n"
          ]
        }
      ]
    },
    {
      "cell_type": "code",
      "source": [
        "# Contar instancias después del preprocesamiento\n",
        "print(\"Instancias después del reemsablar:\", len(df_new))"
      ],
      "metadata": {
        "colab": {
          "base_uri": "https://localhost:8080/"
        },
        "id": "OR4smRvJWb-o",
        "outputId": "b5ac7f54-4d6d-4505-818d-b79f6daafcef"
      },
      "execution_count": null,
      "outputs": [
        {
          "output_type": "stream",
          "name": "stdout",
          "text": [
            "Instancias después del reemsablar: 154227\n"
          ]
        }
      ]
    },
    {
      "cell_type": "code",
      "source": [
        "print(df_new['Type'].value_counts())\n"
      ],
      "metadata": {
        "colab": {
          "base_uri": "https://localhost:8080/"
        },
        "id": "wYXbqrOCWyFX",
        "outputId": "e5f80234-ff0d-4d22-994e-31a6c082eb81"
      },
      "execution_count": null,
      "outputs": [
        {
          "output_type": "stream",
          "name": "stdout",
          "text": [
            "Type\n",
            "Attractive    51409\n",
            "Hotel         51409\n",
            "Restaurant    51409\n",
            "Name: count, dtype: int64\n"
          ]
        }
      ]
    },
    {
      "cell_type": "code",
      "source": [
        "from transformers import BertTokenizer\n",
        "\n",
        "# Cargar el tokenizer de BERT en español\n",
        "tokenizer = BertTokenizer.from_pretrained(\"dccuchile/bert-base-spanish-wwm-cased\")\n",
        "\n",
        "# Tokenizar las reseñas sin truncation ni padding\n",
        "token_lengths = [len(tokenizer.encode(text, truncation=False, padding=False)) for text in df_new[\"Review\"]]\n",
        "\n",
        "# Ver las primeras longitudes de los tokens para ver cómo quedan\n",
        "print(token_lengths[:10])  # Imprimir las primeras 10 longitudes de tokens\n"
      ],
      "metadata": {
        "id": "oymdMPPZWTlk",
        "colab": {
          "base_uri": "https://localhost:8080/",
          "height": 316,
          "referenced_widgets": [
            "6dd62095045d4b1ca576c1b80cacb86b",
            "9a8abeef061246d49cca6b18746d2b2d",
            "f0c3f24e0d064f8893ef1215836e02f5",
            "bf32e982edcb4621abbf687ccef68a9b",
            "2afca8a6a0604db39bb22390ce3771a3",
            "5d1cf86d274e405598bb7d889d013ae8",
            "2932e056254b47e0a087d5010dbc1e7c",
            "1fea4ed517b549e9952f11840f766244",
            "4c1ed32da44c4c5aa61359a16dd4d501",
            "a8e7dc9d636c4b879e975dce858a282f",
            "c61d827e70814f8283e147fcd58aba1f",
            "76d5c2211d884598837771890d7bed79",
            "9e19ca5a76df44e5b1362b1715a749b0",
            "32eaf6b5dd844a51871c1bfdd0513534",
            "d0391d7ae303412a9d992e1cadd3b0f0",
            "b6d7439b5600407496a5683ae36b53e6",
            "c6e58a3a5f094b30b9179217e43fb629",
            "a0aab0362ffa4d8c9b4bd6385c5afc12",
            "a384ea809650430fa142dfd771b98ab8",
            "863fc70057804284ad27529cae4f0dc2",
            "ca03856c2c0e4e4bab9db4f5707ef151",
            "cea85b6253954f00a9f14211d888d0c2",
            "be772d559df240bf9e25ec74cf19025c",
            "977403a5e35f49e18a7ae8e25796d0f4",
            "a1cf1965c9ab4cb985275af4f195f69f",
            "e39bd073a0154a9e8d12aaef1ffebd52",
            "9884bcb0e8534c50aab6a245b014de1a",
            "72bc757ec6fd4c30b513874172285446",
            "c99153d7891a4cb581dd9de3c2f05c73",
            "ceb2a17f4b76432ab09899d25d82c4fa",
            "44b890f2e2084734a1e1d52788baab0b",
            "505337c8b38f409cbc96cd40bb8ee8ad",
            "5875e369aa91417f88d5821e2921187c",
            "689c9085c99b406baecf6759d964a699",
            "71f3b46a6ba04a35a0443786ff6a8285",
            "e726a5c39ec8419e8ba7944e356abfd4",
            "7b24e9ccf5aa477c8ddda52cafd7d615",
            "81a3cb2f6afa41b285a60c8ae804dd70",
            "64c73e4f7b6e45b2a47f583d337c25a5",
            "5ced5f94827c419e93e1adec090eab8a",
            "c948d21b995742158a788d7a2059b17c",
            "c2869fb8d2544b2b96a95a630fc0cbc7",
            "73e022d5b9fa435b975683eab447555c",
            "f9fa37dc256d4044841738f6cdca4d7d",
            "928c5a91989c4f5386625c1d76065381",
            "9c0e07c959d84392af4f396f374e4064",
            "79f5c9013d874e4b8bab65afdc4cc095",
            "5f7b93cfe4bc4595a280079b8c68ea52",
            "c75035e629bb4350aed1be8a49395ce8",
            "0946ca89bcdb4f5cb8f671ffcd7b81f1",
            "31dc249d54144be2a5a5c2442b70eea3",
            "f8929ff9f75b4a14a229d08480d1633f",
            "ce96f8c5d8ba4f36b8d343e12ed3af74",
            "89498e0a5f4e43339e54026821a29c33",
            "64f74961689647b98d1a80f98da3aba7"
          ]
        },
        "outputId": "5c856859-69b8-4f74-b3b7-98bcda95856c"
      },
      "execution_count": null,
      "outputs": [
        {
          "output_type": "stream",
          "name": "stderr",
          "text": [
            "/usr/local/lib/python3.11/dist-packages/huggingface_hub/utils/_auth.py:94: UserWarning: \n",
            "The secret `HF_TOKEN` does not exist in your Colab secrets.\n",
            "To authenticate with the Hugging Face Hub, create a token in your settings tab (https://huggingface.co/settings/tokens), set it as secret in your Google Colab and restart your session.\n",
            "You will be able to reuse this secret in all of your notebooks.\n",
            "Please note that authentication is recommended but still optional to access public models or datasets.\n",
            "  warnings.warn(\n"
          ]
        },
        {
          "output_type": "display_data",
          "data": {
            "text/plain": [
              "tokenizer_config.json:   0%|          | 0.00/364 [00:00<?, ?B/s]"
            ],
            "application/vnd.jupyter.widget-view+json": {
              "version_major": 2,
              "version_minor": 0,
              "model_id": "6dd62095045d4b1ca576c1b80cacb86b"
            }
          },
          "metadata": {}
        },
        {
          "output_type": "display_data",
          "data": {
            "text/plain": [
              "vocab.txt:   0%|          | 0.00/242k [00:00<?, ?B/s]"
            ],
            "application/vnd.jupyter.widget-view+json": {
              "version_major": 2,
              "version_minor": 0,
              "model_id": "76d5c2211d884598837771890d7bed79"
            }
          },
          "metadata": {}
        },
        {
          "output_type": "display_data",
          "data": {
            "text/plain": [
              "special_tokens_map.json:   0%|          | 0.00/134 [00:00<?, ?B/s]"
            ],
            "application/vnd.jupyter.widget-view+json": {
              "version_major": 2,
              "version_minor": 0,
              "model_id": "be772d559df240bf9e25ec74cf19025c"
            }
          },
          "metadata": {}
        },
        {
          "output_type": "display_data",
          "data": {
            "text/plain": [
              "tokenizer.json:   0%|          | 0.00/480k [00:00<?, ?B/s]"
            ],
            "application/vnd.jupyter.widget-view+json": {
              "version_major": 2,
              "version_minor": 0,
              "model_id": "689c9085c99b406baecf6759d964a699"
            }
          },
          "metadata": {}
        },
        {
          "output_type": "display_data",
          "data": {
            "text/plain": [
              "config.json:   0%|          | 0.00/648 [00:00<?, ?B/s]"
            ],
            "application/vnd.jupyter.widget-view+json": {
              "version_major": 2,
              "version_minor": 0,
              "model_id": "928c5a91989c4f5386625c1d76065381"
            }
          },
          "metadata": {}
        },
        {
          "output_type": "stream",
          "name": "stderr",
          "text": [
            "Token indices sequence length is longer than the specified maximum sequence length for this model (522 > 512). Running this sequence through the model will result in indexing errors\n"
          ]
        },
        {
          "output_type": "stream",
          "name": "stdout",
          "text": [
            "[37, 56, 125, 106, 150, 24, 41, 196, 28, 43]\n"
          ]
        }
      ]
    },
    {
      "cell_type": "code",
      "source": [
        "import matplotlib.pyplot as plt\n",
        "import numpy as np\n",
        "\n",
        "# Visualizar distribución de tokens\n",
        "plt.figure(figsize=(10, 5))\n",
        "plt.hist(token_lengths, bins=50, color='green', alpha=0.7)\n",
        "plt.xlabel(\"Número de tokens\")\n",
        "plt.ylabel(\"Frecuencia\")\n",
        "plt.title(\"Distribución del número de tokens por reseña\")\n",
        "\n",
        "# Agregar línea para el percentil 95\n",
        "plt.axvline(np.percentile(token_lengths, 95), color='red', linestyle='dashed', linewidth=2, label='95 Percentil')\n",
        "plt.legend()\n",
        "\n",
        "plt.show()\n",
        "\n",
        "# Obtener estadísticas\n",
        "mean_tokens = np.mean(token_lengths)\n",
        "median_tokens = np.median(token_lengths)\n",
        "percentile_90 = np.percentile(token_lengths, 90)\n",
        "percentile_95 = np.percentile(token_lengths, 95)\n",
        "percentile_99 = np.percentile(token_lengths, 99)\n",
        "\n",
        "# Imprimir estadísticas\n",
        "print(f\"Media de tokens: {mean_tokens:.2f}\")\n",
        "print(f\"Mediana de tokens: {median_tokens:.2f}\")\n",
        "print(f\"90 percentil: {percentile_90:.2f} tokens\")\n",
        "print(f\"95 percentil: {percentile_95:.2f} tokens\")\n",
        "print(f\"99 percentil: {percentile_99:.2f} tokens\")\n",
        "\n",
        "# Recomendación para max_length\n",
        "recommended_max_tokens = int(percentile_95)\n",
        "print(f\"Recomendación para max_length en el tokenizer: {recommended_max_tokens} tokens\")\n",
        "\n",
        "# Opcional: Verificar cuántas reseñas superan el percentil 95\n",
        "long_reviews = sum([token_length > recommended_max_tokens for token_length in token_lengths])\n",
        "print(f\"Cantidad de reseñas que superan el 95 percentil de tokens: {long_reviews}\")\n"
      ],
      "metadata": {
        "colab": {
          "base_uri": "https://localhost:8080/",
          "height": 610
        },
        "id": "9KedrOQIYBGb",
        "outputId": "2865c688-daa8-40e1-ad5a-e3f834c1ad5e"
      },
      "execution_count": null,
      "outputs": [
        {
          "output_type": "display_data",
          "data": {
            "text/plain": [
              "<Figure size 1000x500 with 1 Axes>"
            ],
            "image/png": "[encoded data removed]"
          },
          "metadata": {}
        },
        {
          "output_type": "stream",
          "name": "stdout",
          "text": [
            "Media de tokens: 83.18\n",
            "Mediana de tokens: 62.00\n",
            "90 percentil: 164.00 tokens\n",
            "95 percentil: 177.00 tokens\n",
            "99 percentil: 298.00 tokens\n",
            "Recomendación para max_length en el tokenizer: 177 tokens\n",
            "Cantidad de reseñas que superan el 95 percentil de tokens: 7660\n"
          ]
        }
      ]
    },
    {
      "cell_type": "code",
      "source": [
        "# Ver valores únicos originales\n",
        "print(\"Valores únicos antes de la actualización:\", sorted(df_new['Type'].unique()))\n"
      ],
      "metadata": {
        "colab": {
          "base_uri": "https://localhost:8080/"
        },
        "id": "bjy_xfnuISjy",
        "outputId": "fd31d477-dd4f-47c1-e7a2-39fe13a94938"
      },
      "execution_count": null,
      "outputs": [
        {
          "output_type": "stream",
          "name": "stdout",
          "text": [
            "Valores únicos antes de la actualización: ['Attractive', 'Hotel', 'Restaurant']\n"
          ]
        }
      ]
    },
    {
      "cell_type": "code",
      "source": [
        "import numpy as np\n",
        "\n",
        "# Mapeo deseado\n",
        "type_mapping = {\n",
        "    'Attractive': 0,\n",
        "    'Hotel': 1,\n",
        "    'Restaurant': 2\n",
        "}\n",
        "\n",
        "# Aplicar el mapeo a la columna 'Type' y crear/actualizar la columna 'Polarity'\n",
        "df_new['Type'] = df_new['Type'].map(type_mapping).astype(np.int64)\n",
        "\n",
        "# Verificar valores únicos después de la transformación\n",
        "print(\"Valores únicos después de la actualización:\", sorted(df_new['Type'].unique()))\n"
      ],
      "metadata": {
        "colab": {
          "base_uri": "https://localhost:8080/"
        },
        "id": "HT_AxbcJIjtn",
        "outputId": "b97aa59d-ddfc-428f-a79e-d6240fa3d335"
      },
      "execution_count": null,
      "outputs": [
        {
          "output_type": "stream",
          "name": "stdout",
          "text": [
            "Valores únicos después de la actualización: [np.int64(0), np.int64(1), np.int64(2)]\n"
          ]
        }
      ]
    },
    {
      "cell_type": "code",
      "source": [
        "# Ver filas del índice 1 al 10 después de la actualización\n",
        "print(df_new.iloc[24011:24021])\n"
      ],
      "metadata": {
        "colab": {
          "base_uri": "https://localhost:8080/"
        },
        "id": "IvRodx1aKM0a",
        "outputId": "48be83a2-3a5a-472a-cce6-5fafd7fc9bf3"
      },
      "execution_count": null,
      "outputs": [
        {
          "output_type": "stream",
          "name": "stdout",
          "text": [
            "                                   Title  \\\n",
            "24011             No se lo pueden perder   \n",
            "24012                    Casa de duendes   \n",
            "24013      Parte histórica parte natural   \n",
            "24014           Y más azul qué el cielo.   \n",
            "24015                          Excelente   \n",
            "24016    Natación y zip forro de Cenote.   \n",
            "24017        7 km de playa impresionante   \n",
            "24018                  Inmejorable vista   \n",
            "24019                     El mejor lejos   \n",
            "24020  No regresaremos, mala ecpetiencia   \n",
            "\n",
            "                                                  Review  Polarity  \\\n",
            "24011  El museo está lleno de escenas típicas de la v...       5.0   \n",
            "24012  El lugar para se un lugar pequeño te hace sent...       4.0   \n",
            "24013  Increíble parada cultural con tanta cultura ma...       5.0   \n",
            "24014  De los cenotes más hermosos que he conocido. T...       5.0   \n",
            "24015  Me gustó mucho la caminata de Tepozteco mucho....       5.0   \n",
            "24016  Excursión impresionante a través de la jungla ...       5.0   \n",
            "24017  Tan relajante que leer 6 libros en 9 días, lo ...       5.0   \n",
            "24018  Playa norte esta increble para caminar, con un...       5.0   \n",
            "24019  Habíamos visitado otro cenote con mi marido y ...       5.0   \n",
            "24020  Es un lugar muy polvoso y sucio.En las tiendas...       1.0   \n",
            "\n",
            "                   Town              Region  error_ratio  word_count  Type  \n",
            "24011     Tequisquiapan           Queretaro     0.000000          63     0  \n",
            "24012  Huasca_de_Ocampo             Hidalgo     0.000000          55     0  \n",
            "24013             Tulum         QuintanaRoo     0.000000          37     0  \n",
            "24014           Bacalar         QuintanaRoo     0.000000          19     0  \n",
            "24015         Tepoztlan             Morelos     0.004032          43     0  \n",
            "24016             Tulum         QuintanaRoo     0.000000          23     0  \n",
            "24017             Tulum         QuintanaRoo     0.003861          47     0  \n",
            "24018      Isla_Mujeres         QuintanaRoo     0.031746          20     0  \n",
            "24019             Tulum         QuintanaRoo     0.000000          65     0  \n",
            "24020       TodosSantos  Baja_CaliforniaSur     0.000000         117     0  \n"
          ]
        }
      ]
    },
    {
      "cell_type": "code",
      "source": [
        "# Contar las instancias por cada valor de 'Polarity'\n",
        "polarity_counts = df_new['Type'].value_counts().sort_index()\n",
        "\n",
        "# Imprimir el resumen de las instancias por polaridad\n",
        "print(\"Resumen de las instancias por polaridad:\")\n",
        "print(polarity_counts)\n"
      ],
      "metadata": {
        "colab": {
          "base_uri": "https://localhost:8080/"
        },
        "id": "9CW3cUxFLvxT",
        "outputId": "b239c9fd-2536-40fb-ec09-5390dbd43641"
      },
      "execution_count": null,
      "outputs": [
        {
          "output_type": "stream",
          "name": "stdout",
          "text": [
            "Resumen de las instancias por polaridad:\n",
            "Type\n",
            "0    51409\n",
            "1    51409\n",
            "2    51409\n",
            "Name: count, dtype: int64\n"
          ]
        }
      ]
    },
    {
      "cell_type": "markdown",
      "source": [
        "**Fin de paso 2**\n"
      ],
      "metadata": {
        "id": "EIc4SlClOpmO"
      }
    },
    {
      "cell_type": "code",
      "source": [
        "from sklearn.model_selection import train_test_split\n",
        "from transformers import BertTokenizer\n",
        "import torch\n",
        "\n",
        "# Usar el percentil 95 como max_length (has decidido basarte en esto)\n",
        "#recommended_max_tokens = int(percentile_95)\n",
        "recommended_max_tokens = 220\n",
        "\n",
        "# 🔹 Concatenar 'Title' y 'Review' en una sola cadena de texto por fila, llamada nuevamente Review2\n",
        "df_new['Review2'] = df_new['Title'] + \". \" + df_new['Review']  # Puedes ajustar el separador si quieres\n",
        "\n",
        "# 🔹 Dividir los datos balanceados (df_new) en entrenamiento (75%) y prueba (25%)\n",
        "train_texts, test_texts, train_labels, test_labels = train_test_split(\n",
        "    df_new[\"Review2\"].tolist(),         # Lista de reseñas\n",
        "    df_new[\"Type\"].tolist(),      # Lista de etiquetas\n",
        "    test_size=0.25,                   # 25% para test\n",
        "    random_state=42                   # Para reproducibilidad\n",
        ")\n",
        "\n",
        "# 🔹 Ahora dividir el conjunto de entrenamiento en entrenamiento (80%) y validación (20%)\n",
        "train_texts, val_texts, train_labels, val_labels = train_test_split(\n",
        "    train_texts, train_labels,\n",
        "    test_size=0.20,                   # 20% de los datos de entrenamiento va a validación\n",
        "    random_state=42\n",
        ")\n",
        "\n",
        "\n"
      ],
      "metadata": {
        "id": "d5r1YwkVZ66o"
      },
      "execution_count": null,
      "outputs": []
    },
    {
      "cell_type": "markdown",
      "source": [
        "# **TOKENIZACION**"
      ],
      "metadata": {
        "id": "VxzLFdmo_GCQ"
      }
    },
    {
      "cell_type": "code",
      "source": [
        "from transformers import BertTokenizer\n",
        "\n",
        "tokenizer = BertTokenizer.from_pretrained(\"dccuchile/bert-base-spanish-wwm-cased\")\n",
        "\n",
        "# 🔹 Tokenizar las reseñas con truncamiento y padding\n",
        "# return_tensors=\"pt\" devuelve tensores de PyTorch\n",
        "train_encodings = tokenizer(train_texts, padding=True, truncation=True, max_length=recommended_max_tokens, return_tensors=\"pt\")\n",
        "val_encodings = tokenizer(val_texts, padding=True, truncation=True, max_length=recommended_max_tokens, return_tensors=\"pt\")\n",
        "test_encodings = tokenizer(test_texts, padding=True, truncation=True, max_length=recommended_max_tokens, return_tensors=\"pt\")\n",
        "\n",
        "\n",
        "# Ver las primeras filas con el texto concatenado\n",
        "print(df_new[['Title', 'Review', 'Review2','Type']].head())"
      ],
      "metadata": {
        "colab": {
          "base_uri": "https://localhost:8080/"
        },
        "id": "aHl40slY_FRi",
        "outputId": "7e2c71f0-2d61-4182-8d7f-2beaa40a46d5"
      },
      "execution_count": null,
      "outputs": [
        {
          "output_type": "stream",
          "name": "stdout",
          "text": [
            "                                  Title  \\\n",
            "0  Bonito pero consultaciones Vic Falls   \n",
            "1                         Digno de ver!   \n",
            "2                       Hermoso es poco   \n",
            "3  El origen del PH?,.. yo creo que sí.   \n",
            "4   Cansado para adultos de la 4ta edad   \n",
            "\n",
            "                                              Review  \\\n",
            "0  No está mal, pero es bastante peatonal . Largo...   \n",
            "1  Ya he visto muchos del mundo, pero esto es inc...   \n",
            "2  Es un excelente lugar, super accesible el acce...   \n",
            "3  Intersante lugar de Orizaba. Los pequeños muse...   \n",
            "4  Con el calor de la Riviera Maya sin duda es to...   \n",
            "\n",
            "                                             Review2  Type  \n",
            "0  Bonito pero consultaciones Vic Falls. No está ...     0  \n",
            "1  Digno de ver!. Ya he visto muchos del mundo, p...     0  \n",
            "2  Hermoso es poco. Es un excelente lugar, super ...     0  \n",
            "3  El origen del PH?,.. yo creo que sí.. Intersan...     0  \n",
            "4  Cansado para adultos de la 4ta edad. Con el ca...     0  \n"
          ]
        }
      ]
    },
    {
      "cell_type": "markdown",
      "source": [
        "### **VERIFICANDO LAS ETIQUETAS**"
      ],
      "metadata": {
        "id": "EJ_YLVPzZTQL"
      }
    },
    {
      "cell_type": "code",
      "source": [
        "# Verificar los primeros valores de 'Polarity' en df_new\n",
        "print(\"Primeras 5 etiquetas en df_new['Type']:\", df_new['Type'][:5])\n",
        "\n",
        "# Verificar las primeras 5 etiquetas en train_labels\n",
        "print(\"Primeras 5 etiquetas en train_labels:\", train_labels[:5])\n"
      ],
      "metadata": {
        "colab": {
          "base_uri": "https://localhost:8080/"
        },
        "id": "Q8XrsruEVRda",
        "outputId": "2dd8ef98-e6e4-471a-f638-44defd6308bc"
      },
      "execution_count": null,
      "outputs": [
        {
          "output_type": "stream",
          "name": "stdout",
          "text": [
            "Primeras 5 etiquetas en df_new['Type']: 0    0\n",
            "1    0\n",
            "2    0\n",
            "3    0\n",
            "4    0\n",
            "Name: Type, dtype: int64\n",
            "Primeras 5 etiquetas en train_labels: [2, 2, 2, 1, 2]\n"
          ]
        }
      ]
    },
    {
      "cell_type": "markdown",
      "source": [
        "### **nuevo**"
      ],
      "metadata": {
        "id": "9c75agUDdSN_"
      }
    },
    {
      "cell_type": "code",
      "source": [
        "import torch\n",
        "\n",
        "# Verificar tamaños\n",
        "print(f\"Cantidad de textos de entrenamiento: {len(train_texts)}\")\n",
        "print(f\"Cantidad de etiquetas de entrenamiento: {len(train_labels)}\")\n",
        "print(f\"Cantidad de textos de validación: {len(val_texts)}\")\n",
        "print(f\"Cantidad de etiquetas de validación: {len(val_labels)}\")\n",
        "print(f\"Cantidad de textos de prueba: {len(test_texts)}\")\n",
        "print(f\"Cantidad de etiquetas de prueba: {len(test_labels)}\")\n",
        "\n",
        "# Verificar si las etiquetas y textos están correctamente alineados (es decir, el número de etiquetas coincide con el número de textos)\n",
        "assert len(train_texts) == len(train_labels), \"El número de textos de entrenamiento no coincide con el número de etiquetas\"\n",
        "assert len(val_texts) == len(val_labels), \"El número de textos de validación no coincide con el número de etiquetas\"\n",
        "assert len(test_texts) == len(test_labels), \"El número de textos de prueba no coincide con el número de etiquetas\"\n",
        "\n",
        "# Verificar una muestra de las primeras 3 entradas\n",
        "print(f\"Primeras 3 reseñas de entrenamiento: {train_texts[:3]}\")\n",
        "print(f\"Primeras 3 etiquetas de entrenamiento: {train_labels[:3]}\")\n"
      ],
      "metadata": {
        "colab": {
          "base_uri": "https://localhost:8080/"
        },
        "id": "zZx6qQLPdUPn",
        "outputId": "92bd37d8-fe12-43e6-8cf7-a0c05448f37c"
      },
      "execution_count": null,
      "outputs": [
        {
          "output_type": "stream",
          "name": "stdout",
          "text": [
            "Cantidad de textos de entrenamiento: 92536\n",
            "Cantidad de etiquetas de entrenamiento: 92536\n",
            "Cantidad de textos de validación: 23134\n",
            "Cantidad de etiquetas de validación: 23134\n",
            "Cantidad de textos de prueba: 38557\n",
            "Cantidad de etiquetas de prueba: 38557\n",
            "Primeras 3 reseñas de entrenamiento: ['Opción diferente. Es un lugar pequeñito pero es una buena opción para disfrutar de un concepto diferente. Son expertos en pan artesanal y pasta. En este lugar se ve que hay pasión por lo que hacen.', 'Excelente lugar. Es, en mi opinión, el mejor lugar para comer en Metepec llevo viviendo ahí casi 20 años buena cocina, magnífica ambientación y el servicio es buenísimo', 'riquísimo!. Hay comida deliciosa y poco usual, de diversos paises del mundo, lo que pidas esta delicioso y llenador! Son porciones grandes, vale la pena pedir dos y compartir, las bebidas tambien estan deliciosas, un lugar ademas con vista agradable y t tratan muy bien.']\n",
            "Primeras 3 etiquetas de entrenamiento: [2, 2, 2]\n"
          ]
        }
      ]
    },
    {
      "cell_type": "code",
      "source": [
        "# Verificar el tipo y tamaño de los tensores después de la tokenización\n",
        "print(f\"Tamaño de los tensores de entrenamiento: {train_encodings['input_ids'].shape}\")\n",
        "print(f\"Tamaño de los tensores de validación: {val_encodings['input_ids'].shape}\")\n",
        "print(f\"Tamaño de los tensores de prueba: {test_encodings['input_ids'].shape}\")\n",
        "\n",
        "# Verificar que las etiquetas sean tensores y tengan la misma longitud que los tensores de entrada\n",
        "train_labels_tensor = torch.tensor(train_labels)\n",
        "val_labels_tensor = torch.tensor(val_labels)\n",
        "test_labels_tensor = torch.tensor(test_labels)\n",
        "\n",
        "print(f\"Tamaño de las etiquetas de entrenamiento: {train_labels_tensor.shape}\")\n",
        "print(f\"Tamaño de las etiquetas de validación: {val_labels_tensor.shape}\")\n",
        "print(f\"Tamaño de las etiquetas de prueba: {test_labels_tensor.shape}\")\n"
      ],
      "metadata": {
        "colab": {
          "base_uri": "https://localhost:8080/"
        },
        "id": "ND0wh3d6dXdv",
        "outputId": "5a10301e-a4a2-4afb-81aa-7751b0876e81"
      },
      "execution_count": null,
      "outputs": [
        {
          "output_type": "stream",
          "name": "stdout",
          "text": [
            "Tamaño de los tensores de entrenamiento: torch.Size([92536, 220])\n",
            "Tamaño de los tensores de validación: torch.Size([23134, 220])\n",
            "Tamaño de los tensores de prueba: torch.Size([38557, 220])\n",
            "Tamaño de las etiquetas de entrenamiento: torch.Size([92536])\n",
            "Tamaño de las etiquetas de validación: torch.Size([23134])\n",
            "Tamaño de las etiquetas de prueba: torch.Size([38557])\n"
          ]
        }
      ]
    },
    {
      "cell_type": "markdown",
      "source": [
        "### **CONTINUAMOS CON LA CONVERSION DE LAS ETIQUETAS A PYTORCH**"
      ],
      "metadata": {
        "id": "ilxhGaVm_5WS"
      }
    },
    {
      "cell_type": "code",
      "source": [
        "import torch\n",
        "from torch.utils.data import DataLoader, TensorDataset\n",
        "from transformers import BertTokenizer\n",
        "\n",
        "# Convertir etiquetas a tensores\n",
        "train_labels_tensor = torch.tensor(train_labels).clone().detach()  # Convertir a tensor y evitar gradientes\n",
        "val_labels_tensor = torch.tensor(val_labels).clone().detach()  # Convertir a tensor y evitar gradientes\n",
        "test_labels_tensor = torch.tensor(test_labels).clone().detach()  # Convertir a tensor y evitar gradientes\n",
        "\n",
        "# Crear datasets\n",
        "train_dataset = TensorDataset(\n",
        "    train_encodings['input_ids'].clone().detach(),  # Usamos clone().detach() en lugar de torch.tensor()\n",
        "    train_encodings['attention_mask'].clone().detach(),  # Lo mismo aquí\n",
        "    train_labels_tensor\n",
        ")\n",
        "\n",
        "val_dataset = TensorDataset(\n",
        "    val_encodings['input_ids'].clone().detach(),  # Lo mismo aquí\n",
        "    val_encodings['attention_mask'].clone().detach(),  # Lo mismo aquí\n",
        "    val_labels_tensor\n",
        ")\n",
        "\n",
        "test_dataset = TensorDataset(\n",
        "    test_encodings['input_ids'].clone().detach(),  # Lo mismo aquí\n",
        "    test_encodings['attention_mask'].clone().detach(),  # Lo mismo aquí\n",
        "    test_labels_tensor\n",
        ")\n",
        "\n",
        "# Crear DataLoaders\n",
        "train_dataloader = DataLoader(train_dataset, batch_size=16, shuffle=True)\n",
        "val_dataloader = DataLoader(val_dataset, batch_size=16)\n",
        "test_dataloader = DataLoader(test_dataset, batch_size=16)\n",
        "\n",
        "# 🔹 Verificar la primera entrada de un batch para asegurar que todo esté bien\n",
        "print(\"Ejemplo de batch del DataLoader de entrenamiento:\")\n",
        "for batch in train_dataloader:\n",
        "    input_ids_batch, attention_mask_batch, labels_batch = batch\n",
        "    print(f\"Input IDs shape: {input_ids_batch.shape}\")\n",
        "    print(f\"Attention Mask shape: {attention_mask_batch.shape}\")\n",
        "    print(f\"Labels shape: {labels_batch.shape}\")\n",
        "    break  # Solo imprimimos el primer batch\n",
        "\n",
        "# 🔹 Verificar que las longitudes de las listas de datos y etiquetas coincidan\n",
        "print(f\"Cantidad de textos de entrenamiento: {len(train_labels_tensor)}\")\n",
        "print(f\"Cantidad de textos de validación: {len(val_labels_tensor)}\")\n",
        "print(f\"Cantidad de textos de prueba: {len(test_labels_tensor)}\")\n",
        "\n"
      ],
      "metadata": {
        "colab": {
          "base_uri": "https://localhost:8080/"
        },
        "id": "V_84hYqqdaBH",
        "outputId": "2f8717ae-dd07-4c11-bb3d-ad563175a223"
      },
      "execution_count": null,
      "outputs": [
        {
          "output_type": "stream",
          "name": "stdout",
          "text": [
            "Ejemplo de batch del DataLoader de entrenamiento:\n",
            "Input IDs shape: torch.Size([16, 220])\n",
            "Attention Mask shape: torch.Size([16, 220])\n",
            "Labels shape: torch.Size([16])\n",
            "Cantidad de textos de entrenamiento: 92536\n",
            "Cantidad de textos de validación: 23134\n",
            "Cantidad de textos de prueba: 38557\n"
          ]
        }
      ]
    },
    {
      "cell_type": "code",
      "source": [
        "num_labels = len(set(train_labels))\n",
        "print(f\"El número de etiquetas únicas en el conjunto de entrenamiento es: {num_labels}\")"
      ],
      "metadata": {
        "colab": {
          "base_uri": "https://localhost:8080/"
        },
        "id": "KSY0X5OCAkpp",
        "outputId": "5e9bdd3c-0a24-4b44-93dc-4432f548e781"
      },
      "execution_count": null,
      "outputs": [
        {
          "output_type": "stream",
          "name": "stdout",
          "text": [
            "El número de etiquetas únicas en el conjunto de entrenamiento es: 3\n"
          ]
        }
      ]
    },
    {
      "cell_type": "markdown",
      "source": [
        "Optimizador"
      ],
      "metadata": {
        "id": "2rvIunu1dyrA"
      }
    },
    {
      "cell_type": "code",
      "source": [
        "import torch\n",
        "from torch.optim import AdamW  # Cambio en la importación de AdamW\n",
        "import torch.nn as nn\n",
        "from transformers import BertForSequenceClassification\n",
        "\n",
        "# Paso 1: Seleccionar dispositivo\n",
        "device = torch.device(\"cuda\" if torch.cuda.is_available() else \"cpu\")\n",
        "print(f\"✅ Usando el dispositivo: {device}\")\n",
        "\n",
        "# Paso 2: Cargar modelo BERT preentrenado en inglés para clasificación con 5 clases ---------------------\n",
        "model = BertForSequenceClassification.from_pretrained(\"dccuchile/bert-base-spanish-wwm-cased\", num_labels=3)\n",
        "\n",
        "# Paso 3: Congelar capas de BERT (por ejemplo, las primeras 6 de 12)\n",
        "for name, param in model.bert.encoder.layer[:6].named_parameters():\n",
        "    param.requires_grad = False\n",
        "print(\"🔒 Capas congeladas: 0 a 5\")\n",
        "\n",
        "# Paso 4: Mover modelo al dispositivo (GPU o CPU)\n",
        "model.to(device)\n",
        "\n",
        "# Paso 5: Optimización y función de pérdida\n",
        "optimizer = AdamW(model.parameters(), lr=1e-5) # Ajustar la tasa de aprendizaje si es necesario\n",
        "\n",
        "# Definir la función de pérdida (Cross Entropy Loss)\n",
        "criterion = nn.CrossEntropyLoss()"
      ],
      "metadata": {
        "colab": {
          "base_uri": "https://localhost:8080/",
          "height": 138,
          "referenced_widgets": [
            "640407533c17407287277665a9def3d1",
            "e75bf317299a4f9e8c7d4b3913af6931",
            "b95d87b154f74b19bf37ec5fbd25bf7e",
            "006ea6d53528444482a0b9a46a842221",
            "f71ef80f07994352979f4ed4f47f2ef5",
            "41deaa490d2d44c190dc4ecb471f85d7",
            "a1593e93651744beb16ddffb8d1173c5",
            "10016acf06514ce2acfe0c832bbf33e4",
            "491324345a81449e8728b4e6880bb4ee",
            "4faec45dac3d42c882fc557f26f00bd3",
            "9248e6e8fcbc4fc5afef6c7336a20e1a"
          ]
        },
        "id": "3gnwxn49ScHb",
        "outputId": "0755eae1-3797-4039-cbfe-da808b5c87f3"
      },
      "execution_count": null,
      "outputs": [
        {
          "output_type": "stream",
          "name": "stdout",
          "text": [
            "✅ Usando el dispositivo: cuda\n"
          ]
        },
        {
          "output_type": "display_data",
          "data": {
            "text/plain": [
              "pytorch_model.bin:   0%|          | 0.00/440M [00:00<?, ?B/s]"
            ],
            "application/vnd.jupyter.widget-view+json": {
              "version_major": 2,
              "version_minor": 0,
              "model_id": "640407533c17407287277665a9def3d1"
            }
          },
          "metadata": {}
        },
        {
          "output_type": "stream",
          "name": "stderr",
          "text": [
            "Some weights of BertForSequenceClassification were not initialized from the model checkpoint at dccuchile/bert-base-spanish-wwm-cased and are newly initialized: ['bert.pooler.dense.bias', 'bert.pooler.dense.weight', 'classifier.bias', 'classifier.weight']\n",
            "You should probably TRAIN this model on a down-stream task to be able to use it for predictions and inference.\n"
          ]
        },
        {
          "output_type": "stream",
          "name": "stdout",
          "text": [
            "🔒 Capas congeladas: 0 a 5\n"
          ]
        }
      ]
    },
    {
      "cell_type": "code",
      "source": [
        "import numpy as np\n",
        "\n",
        "# Verificar las primeras 5 etiquetas\n",
        "print(\"Primeras 5 etiquetas:\", train_labels[:5])\n",
        "\n",
        "# Comprobar si alguna etiqueta es un vector one-hot\n",
        "for i, label in enumerate(train_labels[:10]):  # Verifica las primeras 10 etiquetas\n",
        "    if isinstance(label, list) or isinstance(label, np.ndarray):\n",
        "        if sum(label) != 1:\n",
        "            print(f\"Etiqueta en formato one-hot en el índice {i}: {label}\")\n",
        "        else:\n",
        "            print(f\"Etiqueta en formato one-hot válida en el índice {i}: {label}\")\n",
        "    else:\n",
        "        print(f\"Etiqueta en formato índice de clase en el índice {i}: {label}\")"
      ],
      "metadata": {
        "colab": {
          "base_uri": "https://localhost:8080/"
        },
        "id": "4v8ZS725Ty2N",
        "outputId": "ce09401c-3d26-450e-846a-b523e0414722"
      },
      "execution_count": null,
      "outputs": [
        {
          "output_type": "stream",
          "name": "stdout",
          "text": [
            "Primeras 5 etiquetas: [2, 2, 2, 1, 2]\n",
            "Etiqueta en formato índice de clase en el índice 0: 2\n",
            "Etiqueta en formato índice de clase en el índice 1: 2\n",
            "Etiqueta en formato índice de clase en el índice 2: 2\n",
            "Etiqueta en formato índice de clase en el índice 3: 1\n",
            "Etiqueta en formato índice de clase en el índice 4: 2\n",
            "Etiqueta en formato índice de clase en el índice 5: 0\n",
            "Etiqueta en formato índice de clase en el índice 6: 0\n",
            "Etiqueta en formato índice de clase en el índice 7: 1\n",
            "Etiqueta en formato índice de clase en el índice 8: 2\n",
            "Etiqueta en formato índice de clase en el índice 9: 0\n"
          ]
        }
      ]
    },
    {
      "cell_type": "markdown",
      "source": [
        "### **Parte 5: Entrenamiento (model.train())**\n",
        "Aquí es donde ocurre el fine-tuning real, es decir, se ajustan los pesos del modelo con tus propios datos.\n",
        "\n",
        "Lo que sucede:\n",
        "* Se activa el modo entrenamiento (model.train()).\n",
        "* Se pasan los datos por el modelo (outputs = model(...)).\n",
        "* Se calcula la pérdida (loss = outputs.loss).\n",
        "* Se hace backpropagation (loss.backward()).\n",
        "* Se actualizan los pesos con el optimizador (optimizer.step())."
      ],
      "metadata": {
        "id": "srvDdn2QQMb1"
      }
    },
    {
      "cell_type": "markdown",
      "source": [
        "**02 de Mayo Full data**"
      ],
      "metadata": {
        "id": "Fy2MCgZ2nBLZ"
      }
    },
    {
      "cell_type": "code",
      "source": [
        "import os\n",
        "import matplotlib.pyplot as plt\n",
        "\n",
        "# ---------------- Listas para guardar métricas  ----------------------------\n",
        "train_losses = []\n",
        "val_losses = []\n",
        "val_accuracies = []\n",
        "#----------------------------------------------------------------------------\n",
        "\n",
        "# Inicializar early stopping\n",
        "best_val_loss = float('inf')\n",
        "patience = 2  # Número de épocas sin mejora para detener\n",
        "patience_counter = 0\n",
        "\n",
        "# Número de épocas de entrenamiento\n",
        "num_epochs = 10  # Puedes aumentarlo gracias a early stopping\n",
        "\n",
        "# 📂 Carpeta donde guardarás el mejor modelo\n",
        "best_model_dir = \"/content/drive/MyDrive/IA/best_model_types\"\n",
        "os.makedirs(best_model_dir, exist_ok=True)\n",
        "\n",
        "# ========================== ENTRENAMIENTO ==========================\n",
        "for epoch in range(num_epochs):\n",
        "    model.train()\n",
        "    total_train_loss = 0\n",
        "\n",
        "    for batch in train_dataloader:  # 🔄 corregido\n",
        "        input_ids, attention_mask, labels = [item.to(device) for item in batch]\n",
        "\n",
        "        optimizer.zero_grad()\n",
        "        outputs = model(input_ids, attention_mask=attention_mask, labels=labels)\n",
        "        loss = outputs.loss\n",
        "        loss.backward()\n",
        "        optimizer.step()\n",
        "\n",
        "        total_train_loss += loss.item()\n",
        "\n",
        "    avg_train_loss = total_train_loss / len(train_dataloader)\n",
        "\n",
        "    # ---------------- Evaluación ----------------\n",
        "    model.eval()\n",
        "    total_val_loss = 0\n",
        "    correct_predictions = 0\n",
        "\n",
        "    for batch in val_dataloader:  # 🔄 corregido\n",
        "        input_ids, attention_mask, labels = [item.to(device) for item in batch]\n",
        "\n",
        "        with torch.no_grad():\n",
        "            outputs = model(input_ids, attention_mask=attention_mask, labels=labels)\n",
        "            loss = outputs.loss\n",
        "            logits = outputs.logits\n",
        "\n",
        "        total_val_loss += loss.item()\n",
        "        preds = torch.argmax(logits, dim=1)\n",
        "        correct_predictions += (preds == labels).sum().item()\n",
        "\n",
        "    avg_val_loss = total_val_loss / len(val_dataloader)\n",
        "    accuracy = correct_predictions / len(val_dataloader.dataset)\n",
        "\n",
        "    train_losses.append(avg_train_loss)\n",
        "    val_losses.append(avg_val_loss)\n",
        "    val_accuracies.append(accuracy)\n",
        "\n",
        "    print(f\"Epoch {epoch + 1}/{num_epochs}\")\n",
        "    print(f\"  🔹 Train loss: {avg_train_loss:.4f}\")\n",
        "    print(f\"  🔹 Validation loss: {avg_val_loss:.4f}\")\n",
        "    print(f\"  ✅ Validation accuracy: {accuracy * 100:.2f}%\")\n",
        "\n",
        "    # ---------- EARLY STOPPING ----------\n",
        "    if avg_val_loss < best_val_loss:\n",
        "        best_val_loss = avg_val_loss\n",
        "        patience_counter = 0\n",
        "\n",
        "        # ✅ Guardar modelo y tokenizer\n",
        "        model.save_pretrained(best_model_dir)\n",
        "        tokenizer.save_pretrained(best_model_dir)\n",
        "        print(f\"💾 Mejor modelo guardado en {best_model_dir}\")\n",
        "    else:\n",
        "        patience_counter += 1\n",
        "        if patience_counter >= patience:\n",
        "            print(\"🛑 Early stopping activado.\")\n",
        "            break\n",
        "\n",
        "# ---------------- GRAFICAR RESULTADOS ----------------\n",
        "plt.figure(figsize=(10, 5))\n",
        "plt.plot(train_losses, label='Train Loss')\n",
        "plt.plot(val_losses, label='Validation Loss')\n",
        "plt.xlabel(\"Epoch\")\n",
        "plt.ylabel(\"Loss\")\n",
        "plt.title(\"Pérdida de entrenamiento vs validación\")\n",
        "plt.legend()\n",
        "plt.grid(True)\n",
        "plt.show()\n",
        "\n",
        "plt.figure(figsize=(10, 5))\n",
        "plt.plot([acc * 100 for acc in val_accuracies], label='Validation Accuracy', color='green')\n",
        "plt.xlabel(\"Epoch\")\n",
        "plt.ylabel(\"Accuracy (%)\")\n",
        "plt.title(\"Precisión en validación por época\")\n",
        "plt.legend()\n",
        "plt.grid(True)\n",
        "plt.show()\n"
      ],
      "metadata": {
        "colab": {
          "base_uri": "https://localhost:8080/",
          "height": 49,
          "referenced_widgets": [
            "20bf0332057e4d9dab1d013a66d6e525",
            "3f3c138e86df4c14a419cc907fcc6dbe",
            "9d87ec92a30647968a7513e04a0c8537",
            "fb1c11b11b6e45e6914052054d9e1661",
            "01dc2a490e464da2888be46de623b00a",
            "c7dff11abbf2477ab5bd852c3b1c0025",
            "34b58f12ac2941c4830d4f6c3814d9e6",
            "9729bdc02a554cdf9f5ed84032066a7d",
            "52917168d27148f4b9898e9a516fe1b8",
            "f949e3a2bed54f82bb3f2d99791e683f",
            "7b1bd0270cc54a6b80e268416f3f54e3"
          ]
        },
        "id": "LzHubZE1ZtEd",
        "outputId": "da2de1be-27de-4537-a60f-82dc721d7019"
      },
      "execution_count": null,
      "outputs": [
        {
          "data": {
            "application/vnd.jupyter.widget-view+json": {
              "model_id": "20bf0332057e4d9dab1d013a66d6e525",
              "version_major": 2,
              "version_minor": 0
            },
            "text/plain": [
              "model.safetensors:   0%|          | 0.00/440M [00:00<?, ?B/s]"
            ]
          },
          "metadata": {},
          "output_type": "display_data"
        }
      ]
    },
    {
      "cell_type": "code",
      "source": [
        "import torch\n",
        "from sklearn.metrics import accuracy_score, precision_recall_fscore_support, classification_report, confusion_matrix\n",
        "from transformers import BertForSequenceClassification\n",
        "import matplotlib.pyplot as plt\n",
        "import seaborn as sns\n",
        "\n",
        "# 📥 Cargar mejor modelo entrenado con 3 clases (Attractive, Hotel, Restaurant)\n",
        "best_model = BertForSequenceClassification.from_pretrained(best_model_dir).to(device)\n",
        "best_model.eval()\n",
        "\n",
        "all_preds = []\n",
        "all_labels = []\n",
        "\n",
        "# 🔍 Realizar predicciones\n",
        "with torch.no_grad():\n",
        "    for batch in test_dataloader:\n",
        "        input_ids, attention_mask, labels = [x.to(device) for x in batch]\n",
        "\n",
        "        outputs = best_model(input_ids, attention_mask=attention_mask)\n",
        "        logits = outputs.logits\n",
        "        preds = torch.argmax(logits, dim=1)\n",
        "\n",
        "        all_preds.extend(preds.cpu().numpy())\n",
        "        all_labels.extend(labels.cpu().numpy())\n",
        "\n",
        "# 📊 Calcular métricas\n",
        "accuracy = accuracy_score(all_labels, all_preds)\n",
        "precision, recall, f1, _ = precision_recall_fscore_support(all_labels, all_preds, average='weighted')\n",
        "report = classification_report(all_labels, all_preds, digits=4)\n",
        "\n",
        "# 🖨️ Mostrar métricas\n",
        "print(\"\\n📊 Resultados en el conjunto de TEST:\")\n",
        "print(f\"✅ Accuracy:  {accuracy:.4f}\")\n",
        "print(f\"✅ Precision: {precision:.4f}\")\n",
        "print(f\"✅ Recall:    {recall:.4f}\")\n",
        "print(f\"✅ F1 Score:  {f1:.4f}\")\n",
        "print(\"\\n📄 Reporte de clasificación por clase:\\n\")\n",
        "print(report)\n",
        "\n",
        "# 🧱 Matriz de confusión\n",
        "label_map = {0: \"Attractive\", 1: \"Hotel\", 2: \"Restaurant\"}\n",
        "labels_names = [label_map[i] for i in sorted(label_map.keys())]\n",
        "\n",
        "cm = confusion_matrix(all_labels, all_preds)\n",
        "\n",
        "plt.figure(figsize=(6, 5))\n",
        "sns.heatmap(cm, annot=True, fmt=\"d\", cmap=\"Blues\", xticklabels=labels_names, yticklabels=labels_names)\n",
        "plt.xlabel(\"Predicción\")\n",
        "plt.ylabel(\"Etiqueta real\")\n",
        "plt.title(\"🧱 Matriz de Confusión en Test Set\")\n",
        "plt.tight_layout()\n",
        "plt.show()\n"
      ],
      "metadata": {
        "id": "gBGMe1TkJDcc"
      },
      "execution_count": null,
      "outputs": []
    },
    {
      "cell_type": "markdown",
      "source": [
        "**Pruebas con el conjunto Test**"
      ],
      "metadata": {
        "id": "kyxYqt-lIY_S"
      }
    },
    {
      "cell_type": "code",
      "source": [
        "from sklearn.metrics import accuracy_score, precision_recall_fscore_support, classification_report\n",
        "from transformers import BertForSequenceClassification\n",
        "\n",
        "# Cargar mejor modelo entrenado con 3 etiquetas (Attractive, Hotel, Restaurant)\n",
        "best_model = BertForSequenceClassification.from_pretrained(best_model_dir).to(device)\n",
        "best_model.eval()\n",
        "\n",
        "all_preds = []\n",
        "all_labels = []\n",
        "\n",
        "with torch.no_grad():\n",
        "    for batch in test_dataloader:\n",
        "        input_ids, attention_mask, labels = [x.to(device) for x in batch]\n",
        "\n",
        "        outputs = best_model(input_ids, attention_mask=attention_mask)\n",
        "        logits = outputs.logits\n",
        "        preds = torch.argmax(logits, dim=1)\n",
        "\n",
        "        all_preds.extend(preds.cpu().numpy())\n",
        "        all_labels.extend(labels.cpu().numpy())\n",
        "\n",
        "# Métricas\n",
        "accuracy = accuracy_score(all_labels, all_preds)\n",
        "precision, recall, f1, _ = precision_recall_fscore_support(all_labels, all_preds, average='weighted')\n",
        "report = classification_report(all_labels, all_preds, digits=4)\n",
        "\n",
        "print(\"\\n📊 Resultados en el conjunto de TEST:\")\n",
        "print(f\"✅ Accuracy:  {accuracy:.4f}\")\n",
        "print(f\"✅ Precision: {precision:.4f}\")\n",
        "print(f\"✅ Recall:    {recall:.4f}\")\n",
        "print(f\"✅ F1 Score:  {f1:.4f}\")\n",
        "print(\"\\n📄 Reporte de clasificación por clase:\\n\")\n",
        "print(report)\n"
      ],
      "metadata": {
        "id": "u_EOS7RLf3cl"
      },
      "execution_count": null,
      "outputs": []
    },
    {
      "cell_type": "markdown",
      "source": [
        "**Cargar Modelo BERT previamente entrenado para clasificación de texto**"
      ],
      "metadata": {
        "id": "5Xc-M1miE59x"
      }
    },
    {
      "cell_type": "code",
      "source": [
        "import pandas as pd\n",
        "import torch\n",
        "from transformers import BertTokenizer, BertForSequenceClassification\n",
        "from torch.utils.data import DataLoader, TensorDataset\n",
        "from tqdm import tqdm\n",
        "\n",
        "# 1. 📥 Leer el archivo\n",
        "file_path = \"/content/drive/MyDrive/IA/Rest-Mex_2025_test.xlsx\"\n",
        "df_test = pd.read_excel(file_path)\n",
        "\n",
        "# 2. 🧾 Concatenar 'Title' y 'Review'\n",
        "df_test[\"text\"] = df_test[\"Title\"].astype(str) + \". \" + df_test[\"Review\"].astype(str)\n",
        "\n",
        "# 3. 🔤 Cargar el tokenizer correcto\n",
        "tokenizer = BertTokenizer.from_pretrained(\"dccuchile/bert-base-spanish-wwm-cased\")\n",
        "\n",
        "# 4. 🧠 Cargar el modelo entrenado para Types\n",
        "model_path = \"/content/drive/MyDrive/IA/best_model_types\"\n",
        "model = BertForSequenceClassification.from_pretrained(model_path).to(\"cuda\" if torch.cuda.is_available() else \"cpu\")\n",
        "device = model.device\n",
        "model.eval()\n",
        "\n",
        "# 5. 🧹 Tokenizar los textos\n",
        "encodings = tokenizer(df_test['text'].tolist(),\n",
        "                      truncation=True,\n",
        "                      padding=True,\n",
        "                      max_length=128,\n",
        "                      return_tensors=\"pt\")\n",
        "\n",
        "# 6. 📦 Crear DataLoader\n",
        "dataset = TensorDataset(encodings[\"input_ids\"], encodings[\"attention_mask\"])\n",
        "dataloader = DataLoader(dataset, batch_size=32)\n",
        "\n",
        "# 7. 🔍 Predicción\n",
        "all_preds = []\n",
        "\n",
        "with torch.no_grad():\n",
        "    for batch in tqdm(dataloader, desc=\"Clasificando Types\"):\n",
        "        input_ids, attention_mask = [x.to(device) for x in batch]\n",
        "\n",
        "        outputs = model(input_ids, attention_mask=attention_mask)\n",
        "        logits = outputs.logits\n",
        "        preds = torch.argmax(logits, dim=1)\n",
        "\n",
        "        all_preds.extend(preds.cpu().numpy())\n",
        "\n",
        "# 8. 🔁 Opcional: Mapear predicciones de números a etiquetas si se quiere\n",
        "type_reverse_mapping = {\n",
        "    0: \"Attractive\",\n",
        "    1: \"Hotel\",\n",
        "    2: \"Restaurant\"\n",
        "}\n",
        "predicted_labels = [type_reverse_mapping[p] for p in all_preds]\n",
        "\n",
        "# 9. 💾 Guardar resultados\n",
        "df_result = pd.DataFrame({\n",
        "    \"ID\": df_test[\"ID\"],\n",
        "    \"Predicted_Type\": predicted_labels  # o usa all_preds si prefieres los números\n",
        "})\n",
        "\n",
        "output_path = \"/content/drive/MyDrive/IA/Rest-Mex_2025_test_results_types.csv\"\n",
        "df_result.to_csv(output_path, index=False)\n",
        "\n",
        "print(f\"✅ Resultados guardados en: {output_path}\")\n"
      ],
      "metadata": {
        "id": "IZocvpr0iphY"
      },
      "execution_count": null,
      "outputs": []
    }
  ]
}