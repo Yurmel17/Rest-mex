{
  "nbformat": 4,
  "nbformat_minor": 0,
  "metadata": {
    "colab": {
      "provenance": [],
      "gpuType": "T4"
    },
    "kernelspec": {
      "name": "python3",
      "display_name": "Python 3"
    },
    "language_info": {
      "name": "python"
    },
    "accelerator": "GPU",
    "widgets": {
      "application/vnd.jupyter.widget-state+json": {
        "564f76de064942d58e67a003965a312b": {
          "model_module": "@jupyter-widgets/controls",
          "model_name": "HBoxModel",
          "model_module_version": "1.5.0",
          "state": {
            "_dom_classes": [],
            "_model_module": "@jupyter-widgets/controls",
            "_model_module_version": "1.5.0",
            "_model_name": "HBoxModel",
            "_view_count": null,
            "_view_module": "@jupyter-widgets/controls",
            "_view_module_version": "1.5.0",
            "_view_name": "HBoxView",
            "box_style": "",
            "children": [
              "IPY_MODEL_50c555436b274a4da84023dcbb670892",
              "IPY_MODEL_bb15b719eca74e50bf84c50c6280a58e",
              "IPY_MODEL_a7026a3b714d40f68a504b32e587afd7"
            ],
            "layout": "IPY_MODEL_3127a528892146998812bc1b6c03feb7"
          }
        },
        "50c555436b274a4da84023dcbb670892": {
          "model_module": "@jupyter-widgets/controls",
          "model_name": "HTMLModel",
          "model_module_version": "1.5.0",
          "state": {
            "_dom_classes": [],
            "_model_module": "@jupyter-widgets/controls",
            "_model_module_version": "1.5.0",
            "_model_name": "HTMLModel",
            "_view_count": null,
            "_view_module": "@jupyter-widgets/controls",
            "_view_module_version": "1.5.0",
            "_view_name": "HTMLView",
            "description": "",
            "description_tooltip": null,
            "layout": "IPY_MODEL_a8e0335e6bea49dd8d772070cee4ce42",
            "placeholder": "​",
            "style": "IPY_MODEL_89da0f125d6043fa8a290750763565bf",
            "value": "tokenizer_config.json: 100%"
          }
        },
        "bb15b719eca74e50bf84c50c6280a58e": {
          "model_module": "@jupyter-widgets/controls",
          "model_name": "FloatProgressModel",
          "model_module_version": "1.5.0",
          "state": {
            "_dom_classes": [],
            "_model_module": "@jupyter-widgets/controls",
            "_model_module_version": "1.5.0",
            "_model_name": "FloatProgressModel",
            "_view_count": null,
            "_view_module": "@jupyter-widgets/controls",
            "_view_module_version": "1.5.0",
            "_view_name": "ProgressView",
            "bar_style": "success",
            "description": "",
            "description_tooltip": null,
            "layout": "IPY_MODEL_80175692c8d64b6bac9252f71443aa84",
            "max": 364,
            "min": 0,
            "orientation": "horizontal",
            "style": "IPY_MODEL_c6be5aee07b34583bd7c12a7ac4383cb",
            "value": 364
          }
        },
        "a7026a3b714d40f68a504b32e587afd7": {
          "model_module": "@jupyter-widgets/controls",
          "model_name": "HTMLModel",
          "model_module_version": "1.5.0",
          "state": {
            "_dom_classes": [],
            "_model_module": "@jupyter-widgets/controls",
            "_model_module_version": "1.5.0",
            "_model_name": "HTMLModel",
            "_view_count": null,
            "_view_module": "@jupyter-widgets/controls",
            "_view_module_version": "1.5.0",
            "_view_name": "HTMLView",
            "description": "",
            "description_tooltip": null,
            "layout": "IPY_MODEL_5a83df91acc446bfb8ee94362e800731",
            "placeholder": "​",
            "style": "IPY_MODEL_d5fb27d6cf754a91b16f9156c5477e04",
            "value": " 364/364 [00:00&lt;00:00, 30.4kB/s]"
          }
        },
        "3127a528892146998812bc1b6c03feb7": {
          "model_module": "@jupyter-widgets/base",
          "model_name": "LayoutModel",
          "model_module_version": "1.2.0",
          "state": {
            "_model_module": "@jupyter-widgets/base",
            "_model_module_version": "1.2.0",
            "_model_name": "LayoutModel",
            "_view_count": null,
            "_view_module": "@jupyter-widgets/base",
            "_view_module_version": "1.2.0",
            "_view_name": "LayoutView",
            "align_content": null,
            "align_items": null,
            "align_self": null,
            "border": null,
            "bottom": null,
            "display": null,
            "flex": null,
            "flex_flow": null,
            "grid_area": null,
            "grid_auto_columns": null,
            "grid_auto_flow": null,
            "grid_auto_rows": null,
            "grid_column": null,
            "grid_gap": null,
            "grid_row": null,
            "grid_template_areas": null,
            "grid_template_columns": null,
            "grid_template_rows": null,
            "height": null,
            "justify_content": null,
            "justify_items": null,
            "left": null,
            "margin": null,
            "max_height": null,
            "max_width": null,
            "min_height": null,
            "min_width": null,
            "object_fit": null,
            "object_position": null,
            "order": null,
            "overflow": null,
            "overflow_x": null,
            "overflow_y": null,
            "padding": null,
            "right": null,
            "top": null,
            "visibility": null,
            "width": null
          }
        },
        "a8e0335e6bea49dd8d772070cee4ce42": {
          "model_module": "@jupyter-widgets/base",
          "model_name": "LayoutModel",
          "model_module_version": "1.2.0",
          "state": {
            "_model_module": "@jupyter-widgets/base",
            "_model_module_version": "1.2.0",
            "_model_name": "LayoutModel",
            "_view_count": null,
            "_view_module": "@jupyter-widgets/base",
            "_view_module_version": "1.2.0",
            "_view_name": "LayoutView",
            "align_content": null,
            "align_items": null,
            "align_self": null,
            "border": null,
            "bottom": null,
            "display": null,
            "flex": null,
            "flex_flow": null,
            "grid_area": null,
            "grid_auto_columns": null,
            "grid_auto_flow": null,
            "grid_auto_rows": null,
            "grid_column": null,
            "grid_gap": null,
            "grid_row": null,
            "grid_template_areas": null,
            "grid_template_columns": null,
            "grid_template_rows": null,
            "height": null,
            "justify_content": null,
            "justify_items": null,
            "left": null,
            "margin": null,
            "max_height": null,
            "max_width": null,
            "min_height": null,
            "min_width": null,
            "object_fit": null,
            "object_position": null,
            "order": null,
            "overflow": null,
            "overflow_x": null,
            "overflow_y": null,
            "padding": null,
            "right": null,
            "top": null,
            "visibility": null,
            "width": null
          }
        },
        "89da0f125d6043fa8a290750763565bf": {
          "model_module": "@jupyter-widgets/controls",
          "model_name": "DescriptionStyleModel",
          "model_module_version": "1.5.0",
          "state": {
            "_model_module": "@jupyter-widgets/controls",
            "_model_module_version": "1.5.0",
            "_model_name": "DescriptionStyleModel",
            "_view_count": null,
            "_view_module": "@jupyter-widgets/base",
            "_view_module_version": "1.2.0",
            "_view_name": "StyleView",
            "description_width": ""
          }
        },
        "80175692c8d64b6bac9252f71443aa84": {
          "model_module": "@jupyter-widgets/base",
          "model_name": "LayoutModel",
          "model_module_version": "1.2.0",
          "state": {
            "_model_module": "@jupyter-widgets/base",
            "_model_module_version": "1.2.0",
            "_model_name": "LayoutModel",
            "_view_count": null,
            "_view_module": "@jupyter-widgets/base",
            "_view_module_version": "1.2.0",
            "_view_name": "LayoutView",
            "align_content": null,
            "align_items": null,
            "align_self": null,
            "border": null,
            "bottom": null,
            "display": null,
            "flex": null,
            "flex_flow": null,
            "grid_area": null,
            "grid_auto_columns": null,
            "grid_auto_flow": null,
            "grid_auto_rows": null,
            "grid_column": null,
            "grid_gap": null,
            "grid_row": null,
            "grid_template_areas": null,
            "grid_template_columns": null,
            "grid_template_rows": null,
            "height": null,
            "justify_content": null,
            "justify_items": null,
            "left": null,
            "margin": null,
            "max_height": null,
            "max_width": null,
            "min_height": null,
            "min_width": null,
            "object_fit": null,
            "object_position": null,
            "order": null,
            "overflow": null,
            "overflow_x": null,
            "overflow_y": null,
            "padding": null,
            "right": null,
            "top": null,
            "visibility": null,
            "width": null
          }
        },
        "c6be5aee07b34583bd7c12a7ac4383cb": {
          "model_module": "@jupyter-widgets/controls",
          "model_name": "ProgressStyleModel",
          "model_module_version": "1.5.0",
          "state": {
            "_model_module": "@jupyter-widgets/controls",
            "_model_module_version": "1.5.0",
            "_model_name": "ProgressStyleModel",
            "_view_count": null,
            "_view_module": "@jupyter-widgets/base",
            "_view_module_version": "1.2.0",
            "_view_name": "StyleView",
            "bar_color": null,
            "description_width": ""
          }
        },
        "5a83df91acc446bfb8ee94362e800731": {
          "model_module": "@jupyter-widgets/base",
          "model_name": "LayoutModel",
          "model_module_version": "1.2.0",
          "state": {
            "_model_module": "@jupyter-widgets/base",
            "_model_module_version": "1.2.0",
            "_model_name": "LayoutModel",
            "_view_count": null,
            "_view_module": "@jupyter-widgets/base",
            "_view_module_version": "1.2.0",
            "_view_name": "LayoutView",
            "align_content": null,
            "align_items": null,
            "align_self": null,
            "border": null,
            "bottom": null,
            "display": null,
            "flex": null,
            "flex_flow": null,
            "grid_area": null,
            "grid_auto_columns": null,
            "grid_auto_flow": null,
            "grid_auto_rows": null,
            "grid_column": null,
            "grid_gap": null,
            "grid_row": null,
            "grid_template_areas": null,
            "grid_template_columns": null,
            "grid_template_rows": null,
            "height": null,
            "justify_content": null,
            "justify_items": null,
            "left": null,
            "margin": null,
            "max_height": null,
            "max_width": null,
            "min_height": null,
            "min_width": null,
            "object_fit": null,
            "object_position": null,
            "order": null,
            "overflow": null,
            "overflow_x": null,
            "overflow_y": null,
            "padding": null,
            "right": null,
            "top": null,
            "visibility": null,
            "width": null
          }
        },
        "d5fb27d6cf754a91b16f9156c5477e04": {
          "model_module": "@jupyter-widgets/controls",
          "model_name": "DescriptionStyleModel",
          "model_module_version": "1.5.0",
          "state": {
            "_model_module": "@jupyter-widgets/controls",
            "_model_module_version": "1.5.0",
            "_model_name": "DescriptionStyleModel",
            "_view_count": null,
            "_view_module": "@jupyter-widgets/base",
            "_view_module_version": "1.2.0",
            "_view_name": "StyleView",
            "description_width": ""
          }
        },
        "b8572273d5e642feb33696d94b692caa": {
          "model_module": "@jupyter-widgets/controls",
          "model_name": "HBoxModel",
          "model_module_version": "1.5.0",
          "state": {
            "_dom_classes": [],
            "_model_module": "@jupyter-widgets/controls",
            "_model_module_version": "1.5.0",
            "_model_name": "HBoxModel",
            "_view_count": null,
            "_view_module": "@jupyter-widgets/controls",
            "_view_module_version": "1.5.0",
            "_view_name": "HBoxView",
            "box_style": "",
            "children": [
              "IPY_MODEL_c00ce178f65a4938ac90d47ff7d61b7a",
              "IPY_MODEL_78396ff57897449d9bdcd5aafe4e2555",
              "IPY_MODEL_987564314bd04291bdc078bd76c41758"
            ],
            "layout": "IPY_MODEL_f3984e15c7d14ec293a54b99bef028a0"
          }
        },
        "c00ce178f65a4938ac90d47ff7d61b7a": {
          "model_module": "@jupyter-widgets/controls",
          "model_name": "HTMLModel",
          "model_module_version": "1.5.0",
          "state": {
            "_dom_classes": [],
            "_model_module": "@jupyter-widgets/controls",
            "_model_module_version": "1.5.0",
            "_model_name": "HTMLModel",
            "_view_count": null,
            "_view_module": "@jupyter-widgets/controls",
            "_view_module_version": "1.5.0",
            "_view_name": "HTMLView",
            "description": "",
            "description_tooltip": null,
            "layout": "IPY_MODEL_7071f9bfb8ec40e3a24f196b02f99311",
            "placeholder": "​",
            "style": "IPY_MODEL_c0e905f67e944c9aaf70bc7a84eb8757",
            "value": "vocab.txt: 100%"
          }
        },
        "78396ff57897449d9bdcd5aafe4e2555": {
          "model_module": "@jupyter-widgets/controls",
          "model_name": "FloatProgressModel",
          "model_module_version": "1.5.0",
          "state": {
            "_dom_classes": [],
            "_model_module": "@jupyter-widgets/controls",
            "_model_module_version": "1.5.0",
            "_model_name": "FloatProgressModel",
            "_view_count": null,
            "_view_module": "@jupyter-widgets/controls",
            "_view_module_version": "1.5.0",
            "_view_name": "ProgressView",
            "bar_style": "success",
            "description": "",
            "description_tooltip": null,
            "layout": "IPY_MODEL_b8110edc6b6b4923965277de1fb8b9d5",
            "max": 241796,
            "min": 0,
            "orientation": "horizontal",
            "style": "IPY_MODEL_523900ad4e0b4ae0be2eda70da272ac1",
            "value": 241796
          }
        },
        "987564314bd04291bdc078bd76c41758": {
          "model_module": "@jupyter-widgets/controls",
          "model_name": "HTMLModel",
          "model_module_version": "1.5.0",
          "state": {
            "_dom_classes": [],
            "_model_module": "@jupyter-widgets/controls",
            "_model_module_version": "1.5.0",
            "_model_name": "HTMLModel",
            "_view_count": null,
            "_view_module": "@jupyter-widgets/controls",
            "_view_module_version": "1.5.0",
            "_view_name": "HTMLView",
            "description": "",
            "description_tooltip": null,
            "layout": "IPY_MODEL_44205d1b833b4edabc94c99ef0bfbb4b",
            "placeholder": "​",
            "style": "IPY_MODEL_be9bcd514f9d47f79844d201c0704c74",
            "value": " 242k/242k [00:00&lt;00:00, 10.7MB/s]"
          }
        },
        "f3984e15c7d14ec293a54b99bef028a0": {
          "model_module": "@jupyter-widgets/base",
          "model_name": "LayoutModel",
          "model_module_version": "1.2.0",
          "state": {
            "_model_module": "@jupyter-widgets/base",
            "_model_module_version": "1.2.0",
            "_model_name": "LayoutModel",
            "_view_count": null,
            "_view_module": "@jupyter-widgets/base",
            "_view_module_version": "1.2.0",
            "_view_name": "LayoutView",
            "align_content": null,
            "align_items": null,
            "align_self": null,
            "border": null,
            "bottom": null,
            "display": null,
            "flex": null,
            "flex_flow": null,
            "grid_area": null,
            "grid_auto_columns": null,
            "grid_auto_flow": null,
            "grid_auto_rows": null,
            "grid_column": null,
            "grid_gap": null,
            "grid_row": null,
            "grid_template_areas": null,
            "grid_template_columns": null,
            "grid_template_rows": null,
            "height": null,
            "justify_content": null,
            "justify_items": null,
            "left": null,
            "margin": null,
            "max_height": null,
            "max_width": null,
            "min_height": null,
            "min_width": null,
            "object_fit": null,
            "object_position": null,
            "order": null,
            "overflow": null,
            "overflow_x": null,
            "overflow_y": null,
            "padding": null,
            "right": null,
            "top": null,
            "visibility": null,
            "width": null
          }
        },
        "7071f9bfb8ec40e3a24f196b02f99311": {
          "model_module": "@jupyter-widgets/base",
          "model_name": "LayoutModel",
          "model_module_version": "1.2.0",
          "state": {
            "_model_module": "@jupyter-widgets/base",
            "_model_module_version": "1.2.0",
            "_model_name": "LayoutModel",
            "_view_count": null,
            "_view_module": "@jupyter-widgets/base",
            "_view_module_version": "1.2.0",
            "_view_name": "LayoutView",
            "align_content": null,
            "align_items": null,
            "align_self": null,
            "border": null,
            "bottom": null,
            "display": null,
            "flex": null,
            "flex_flow": null,
            "grid_area": null,
            "grid_auto_columns": null,
            "grid_auto_flow": null,
            "grid_auto_rows": null,
            "grid_column": null,
            "grid_gap": null,
            "grid_row": null,
            "grid_template_areas": null,
            "grid_template_columns": null,
            "grid_template_rows": null,
            "height": null,
            "justify_content": null,
            "justify_items": null,
            "left": null,
            "margin": null,
            "max_height": null,
            "max_width": null,
            "min_height": null,
            "min_width": null,
            "object_fit": null,
            "object_position": null,
            "order": null,
            "overflow": null,
            "overflow_x": null,
            "overflow_y": null,
            "padding": null,
            "right": null,
            "top": null,
            "visibility": null,
            "width": null
          }
        },
        "c0e905f67e944c9aaf70bc7a84eb8757": {
          "model_module": "@jupyter-widgets/controls",
          "model_name": "DescriptionStyleModel",
          "model_module_version": "1.5.0",
          "state": {
            "_model_module": "@jupyter-widgets/controls",
            "_model_module_version": "1.5.0",
            "_model_name": "DescriptionStyleModel",
            "_view_count": null,
            "_view_module": "@jupyter-widgets/base",
            "_view_module_version": "1.2.0",
            "_view_name": "StyleView",
            "description_width": ""
          }
        },
        "b8110edc6b6b4923965277de1fb8b9d5": {
          "model_module": "@jupyter-widgets/base",
          "model_name": "LayoutModel",
          "model_module_version": "1.2.0",
          "state": {
            "_model_module": "@jupyter-widgets/base",
            "_model_module_version": "1.2.0",
            "_model_name": "LayoutModel",
            "_view_count": null,
            "_view_module": "@jupyter-widgets/base",
            "_view_module_version": "1.2.0",
            "_view_name": "LayoutView",
            "align_content": null,
            "align_items": null,
            "align_self": null,
            "border": null,
            "bottom": null,
            "display": null,
            "flex": null,
            "flex_flow": null,
            "grid_area": null,
            "grid_auto_columns": null,
            "grid_auto_flow": null,
            "grid_auto_rows": null,
            "grid_column": null,
            "grid_gap": null,
            "grid_row": null,
            "grid_template_areas": null,
            "grid_template_columns": null,
            "grid_template_rows": null,
            "height": null,
            "justify_content": null,
            "justify_items": null,
            "left": null,
            "margin": null,
            "max_height": null,
            "max_width": null,
            "min_height": null,
            "min_width": null,
            "object_fit": null,
            "object_position": null,
            "order": null,
            "overflow": null,
            "overflow_x": null,
            "overflow_y": null,
            "padding": null,
            "right": null,
            "top": null,
            "visibility": null,
            "width": null
          }
        },
        "523900ad4e0b4ae0be2eda70da272ac1": {
          "model_module": "@jupyter-widgets/controls",
          "model_name": "ProgressStyleModel",
          "model_module_version": "1.5.0",
          "state": {
            "_model_module": "@jupyter-widgets/controls",
            "_model_module_version": "1.5.0",
            "_model_name": "ProgressStyleModel",
            "_view_count": null,
            "_view_module": "@jupyter-widgets/base",
            "_view_module_version": "1.2.0",
            "_view_name": "StyleView",
            "bar_color": null,
            "description_width": ""
          }
        },
        "44205d1b833b4edabc94c99ef0bfbb4b": {
          "model_module": "@jupyter-widgets/base",
          "model_name": "LayoutModel",
          "model_module_version": "1.2.0",
          "state": {
            "_model_module": "@jupyter-widgets/base",
            "_model_module_version": "1.2.0",
            "_model_name": "LayoutModel",
            "_view_count": null,
            "_view_module": "@jupyter-widgets/base",
            "_view_module_version": "1.2.0",
            "_view_name": "LayoutView",
            "align_content": null,
            "align_items": null,
            "align_self": null,
            "border": null,
            "bottom": null,
            "display": null,
            "flex": null,
            "flex_flow": null,
            "grid_area": null,
            "grid_auto_columns": null,
            "grid_auto_flow": null,
            "grid_auto_rows": null,
            "grid_column": null,
            "grid_gap": null,
            "grid_row": null,
            "grid_template_areas": null,
            "grid_template_columns": null,
            "grid_template_rows": null,
            "height": null,
            "justify_content": null,
            "justify_items": null,
            "left": null,
            "margin": null,
            "max_height": null,
            "max_width": null,
            "min_height": null,
            "min_width": null,
            "object_fit": null,
            "object_position": null,
            "order": null,
            "overflow": null,
            "overflow_x": null,
            "overflow_y": null,
            "padding": null,
            "right": null,
            "top": null,
            "visibility": null,
            "width": null
          }
        },
        "be9bcd514f9d47f79844d201c0704c74": {
          "model_module": "@jupyter-widgets/controls",
          "model_name": "DescriptionStyleModel",
          "model_module_version": "1.5.0",
          "state": {
            "_model_module": "@jupyter-widgets/controls",
            "_model_module_version": "1.5.0",
            "_model_name": "DescriptionStyleModel",
            "_view_count": null,
            "_view_module": "@jupyter-widgets/base",
            "_view_module_version": "1.2.0",
            "_view_name": "StyleView",
            "description_width": ""
          }
        },
        "dae09337fd97458896ac7733e2884276": {
          "model_module": "@jupyter-widgets/controls",
          "model_name": "HBoxModel",
          "model_module_version": "1.5.0",
          "state": {
            "_dom_classes": [],
            "_model_module": "@jupyter-widgets/controls",
            "_model_module_version": "1.5.0",
            "_model_name": "HBoxModel",
            "_view_count": null,
            "_view_module": "@jupyter-widgets/controls",
            "_view_module_version": "1.5.0",
            "_view_name": "HBoxView",
            "box_style": "",
            "children": [
              "IPY_MODEL_cd5901fc36e14680a9c12b2f4cf811e4",
              "IPY_MODEL_ad4ca2d2f6ff4cc9b990d09ebda23460",
              "IPY_MODEL_b2d6b4aab2304041ae25b2e467089ffd"
            ],
            "layout": "IPY_MODEL_4fc2f0c258a94e5b91531f29b1c452a3"
          }
        },
        "cd5901fc36e14680a9c12b2f4cf811e4": {
          "model_module": "@jupyter-widgets/controls",
          "model_name": "HTMLModel",
          "model_module_version": "1.5.0",
          "state": {
            "_dom_classes": [],
            "_model_module": "@jupyter-widgets/controls",
            "_model_module_version": "1.5.0",
            "_model_name": "HTMLModel",
            "_view_count": null,
            "_view_module": "@jupyter-widgets/controls",
            "_view_module_version": "1.5.0",
            "_view_name": "HTMLView",
            "description": "",
            "description_tooltip": null,
            "layout": "IPY_MODEL_d26792ca6a8c41dd83c416d0494031e1",
            "placeholder": "​",
            "style": "IPY_MODEL_58ef25a232d043ecb4080dc85592bf6b",
            "value": "special_tokens_map.json: 100%"
          }
        },
        "ad4ca2d2f6ff4cc9b990d09ebda23460": {
          "model_module": "@jupyter-widgets/controls",
          "model_name": "FloatProgressModel",
          "model_module_version": "1.5.0",
          "state": {
            "_dom_classes": [],
            "_model_module": "@jupyter-widgets/controls",
            "_model_module_version": "1.5.0",
            "_model_name": "FloatProgressModel",
            "_view_count": null,
            "_view_module": "@jupyter-widgets/controls",
            "_view_module_version": "1.5.0",
            "_view_name": "ProgressView",
            "bar_style": "success",
            "description": "",
            "description_tooltip": null,
            "layout": "IPY_MODEL_e0928be570d04206a088b794a470a65e",
            "max": 134,
            "min": 0,
            "orientation": "horizontal",
            "style": "IPY_MODEL_6463fe8b3aa747deb1e358e737a4123c",
            "value": 134
          }
        },
        "b2d6b4aab2304041ae25b2e467089ffd": {
          "model_module": "@jupyter-widgets/controls",
          "model_name": "HTMLModel",
          "model_module_version": "1.5.0",
          "state": {
            "_dom_classes": [],
            "_model_module": "@jupyter-widgets/controls",
            "_model_module_version": "1.5.0",
            "_model_name": "HTMLModel",
            "_view_count": null,
            "_view_module": "@jupyter-widgets/controls",
            "_view_module_version": "1.5.0",
            "_view_name": "HTMLView",
            "description": "",
            "description_tooltip": null,
            "layout": "IPY_MODEL_3faa80c57398482bb5847b50f2fdb128",
            "placeholder": "​",
            "style": "IPY_MODEL_aeb832cc4586470eabd622632110b62f",
            "value": " 134/134 [00:00&lt;00:00, 13.5kB/s]"
          }
        },
        "4fc2f0c258a94e5b91531f29b1c452a3": {
          "model_module": "@jupyter-widgets/base",
          "model_name": "LayoutModel",
          "model_module_version": "1.2.0",
          "state": {
            "_model_module": "@jupyter-widgets/base",
            "_model_module_version": "1.2.0",
            "_model_name": "LayoutModel",
            "_view_count": null,
            "_view_module": "@jupyter-widgets/base",
            "_view_module_version": "1.2.0",
            "_view_name": "LayoutView",
            "align_content": null,
            "align_items": null,
            "align_self": null,
            "border": null,
            "bottom": null,
            "display": null,
            "flex": null,
            "flex_flow": null,
            "grid_area": null,
            "grid_auto_columns": null,
            "grid_auto_flow": null,
            "grid_auto_rows": null,
            "grid_column": null,
            "grid_gap": null,
            "grid_row": null,
            "grid_template_areas": null,
            "grid_template_columns": null,
            "grid_template_rows": null,
            "height": null,
            "justify_content": null,
            "justify_items": null,
            "left": null,
            "margin": null,
            "max_height": null,
            "max_width": null,
            "min_height": null,
            "min_width": null,
            "object_fit": null,
            "object_position": null,
            "order": null,
            "overflow": null,
            "overflow_x": null,
            "overflow_y": null,
            "padding": null,
            "right": null,
            "top": null,
            "visibility": null,
            "width": null
          }
        },
        "d26792ca6a8c41dd83c416d0494031e1": {
          "model_module": "@jupyter-widgets/base",
          "model_name": "LayoutModel",
          "model_module_version": "1.2.0",
          "state": {
            "_model_module": "@jupyter-widgets/base",
            "_model_module_version": "1.2.0",
            "_model_name": "LayoutModel",
            "_view_count": null,
            "_view_module": "@jupyter-widgets/base",
            "_view_module_version": "1.2.0",
            "_view_name": "LayoutView",
            "align_content": null,
            "align_items": null,
            "align_self": null,
            "border": null,
            "bottom": null,
            "display": null,
            "flex": null,
            "flex_flow": null,
            "grid_area": null,
            "grid_auto_columns": null,
            "grid_auto_flow": null,
            "grid_auto_rows": null,
            "grid_column": null,
            "grid_gap": null,
            "grid_row": null,
            "grid_template_areas": null,
            "grid_template_columns": null,
            "grid_template_rows": null,
            "height": null,
            "justify_content": null,
            "justify_items": null,
            "left": null,
            "margin": null,
            "max_height": null,
            "max_width": null,
            "min_height": null,
            "min_width": null,
            "object_fit": null,
            "object_position": null,
            "order": null,
            "overflow": null,
            "overflow_x": null,
            "overflow_y": null,
            "padding": null,
            "right": null,
            "top": null,
            "visibility": null,
            "width": null
          }
        },
        "58ef25a232d043ecb4080dc85592bf6b": {
          "model_module": "@jupyter-widgets/controls",
          "model_name": "DescriptionStyleModel",
          "model_module_version": "1.5.0",
          "state": {
            "_model_module": "@jupyter-widgets/controls",
            "_model_module_version": "1.5.0",
            "_model_name": "DescriptionStyleModel",
            "_view_count": null,
            "_view_module": "@jupyter-widgets/base",
            "_view_module_version": "1.2.0",
            "_view_name": "StyleView",
            "description_width": ""
          }
        },
        "e0928be570d04206a088b794a470a65e": {
          "model_module": "@jupyter-widgets/base",
          "model_name": "LayoutModel",
          "model_module_version": "1.2.0",
          "state": {
            "_model_module": "@jupyter-widgets/base",
            "_model_module_version": "1.2.0",
            "_model_name": "LayoutModel",
            "_view_count": null,
            "_view_module": "@jupyter-widgets/base",
            "_view_module_version": "1.2.0",
            "_view_name": "LayoutView",
            "align_content": null,
            "align_items": null,
            "align_self": null,
            "border": null,
            "bottom": null,
            "display": null,
            "flex": null,
            "flex_flow": null,
            "grid_area": null,
            "grid_auto_columns": null,
            "grid_auto_flow": null,
            "grid_auto_rows": null,
            "grid_column": null,
            "grid_gap": null,
            "grid_row": null,
            "grid_template_areas": null,
            "grid_template_columns": null,
            "grid_template_rows": null,
            "height": null,
            "justify_content": null,
            "justify_items": null,
            "left": null,
            "margin": null,
            "max_height": null,
            "max_width": null,
            "min_height": null,
            "min_width": null,
            "object_fit": null,
            "object_position": null,
            "order": null,
            "overflow": null,
            "overflow_x": null,
            "overflow_y": null,
            "padding": null,
            "right": null,
            "top": null,
            "visibility": null,
            "width": null
          }
        },
        "6463fe8b3aa747deb1e358e737a4123c": {
          "model_module": "@jupyter-widgets/controls",
          "model_name": "ProgressStyleModel",
          "model_module_version": "1.5.0",
          "state": {
            "_model_module": "@jupyter-widgets/controls",
            "_model_module_version": "1.5.0",
            "_model_name": "ProgressStyleModel",
            "_view_count": null,
            "_view_module": "@jupyter-widgets/base",
            "_view_module_version": "1.2.0",
            "_view_name": "StyleView",
            "bar_color": null,
            "description_width": ""
          }
        },
        "3faa80c57398482bb5847b50f2fdb128": {
          "model_module": "@jupyter-widgets/base",
          "model_name": "LayoutModel",
          "model_module_version": "1.2.0",
          "state": {
            "_model_module": "@jupyter-widgets/base",
            "_model_module_version": "1.2.0",
            "_model_name": "LayoutModel",
            "_view_count": null,
            "_view_module": "@jupyter-widgets/base",
            "_view_module_version": "1.2.0",
            "_view_name": "LayoutView",
            "align_content": null,
            "align_items": null,
            "align_self": null,
            "border": null,
            "bottom": null,
            "display": null,
            "flex": null,
            "flex_flow": null,
            "grid_area": null,
            "grid_auto_columns": null,
            "grid_auto_flow": null,
            "grid_auto_rows": null,
            "grid_column": null,
            "grid_gap": null,
            "grid_row": null,
            "grid_template_areas": null,
            "grid_template_columns": null,
            "grid_template_rows": null,
            "height": null,
            "justify_content": null,
            "justify_items": null,
            "left": null,
            "margin": null,
            "max_height": null,
            "max_width": null,
            "min_height": null,
            "min_width": null,
            "object_fit": null,
            "object_position": null,
            "order": null,
            "overflow": null,
            "overflow_x": null,
            "overflow_y": null,
            "padding": null,
            "right": null,
            "top": null,
            "visibility": null,
            "width": null
          }
        },
        "aeb832cc4586470eabd622632110b62f": {
          "model_module": "@jupyter-widgets/controls",
          "model_name": "DescriptionStyleModel",
          "model_module_version": "1.5.0",
          "state": {
            "_model_module": "@jupyter-widgets/controls",
            "_model_module_version": "1.5.0",
            "_model_name": "DescriptionStyleModel",
            "_view_count": null,
            "_view_module": "@jupyter-widgets/base",
            "_view_module_version": "1.2.0",
            "_view_name": "StyleView",
            "description_width": ""
          }
        },
        "20b7e66c839341f08d53064461aa9de5": {
          "model_module": "@jupyter-widgets/controls",
          "model_name": "HBoxModel",
          "model_module_version": "1.5.0",
          "state": {
            "_dom_classes": [],
            "_model_module": "@jupyter-widgets/controls",
            "_model_module_version": "1.5.0",
            "_model_name": "HBoxModel",
            "_view_count": null,
            "_view_module": "@jupyter-widgets/controls",
            "_view_module_version": "1.5.0",
            "_view_name": "HBoxView",
            "box_style": "",
            "children": [
              "IPY_MODEL_0140a8bd80a0401d8bfebc10d2325cae",
              "IPY_MODEL_5640a575e859419b8209df6b79ca43ec",
              "IPY_MODEL_a8457d9d5ee14639a4826b1eee4c68b3"
            ],
            "layout": "IPY_MODEL_10728672168d438896b3d8fc55e834c6"
          }
        },
        "0140a8bd80a0401d8bfebc10d2325cae": {
          "model_module": "@jupyter-widgets/controls",
          "model_name": "HTMLModel",
          "model_module_version": "1.5.0",
          "state": {
            "_dom_classes": [],
            "_model_module": "@jupyter-widgets/controls",
            "_model_module_version": "1.5.0",
            "_model_name": "HTMLModel",
            "_view_count": null,
            "_view_module": "@jupyter-widgets/controls",
            "_view_module_version": "1.5.0",
            "_view_name": "HTMLView",
            "description": "",
            "description_tooltip": null,
            "layout": "IPY_MODEL_60638c9ea5aa4cafa907212df1fa8987",
            "placeholder": "​",
            "style": "IPY_MODEL_6dde906f24d54cc4824673fd74ad468d",
            "value": "tokenizer.json: 100%"
          }
        },
        "5640a575e859419b8209df6b79ca43ec": {
          "model_module": "@jupyter-widgets/controls",
          "model_name": "FloatProgressModel",
          "model_module_version": "1.5.0",
          "state": {
            "_dom_classes": [],
            "_model_module": "@jupyter-widgets/controls",
            "_model_module_version": "1.5.0",
            "_model_name": "FloatProgressModel",
            "_view_count": null,
            "_view_module": "@jupyter-widgets/controls",
            "_view_module_version": "1.5.0",
            "_view_name": "ProgressView",
            "bar_style": "success",
            "description": "",
            "description_tooltip": null,
            "layout": "IPY_MODEL_46db06ac193c434298ee6adc24b65c1a",
            "max": 480199,
            "min": 0,
            "orientation": "horizontal",
            "style": "IPY_MODEL_feb273338d47481094a5775570360d89",
            "value": 480199
          }
        },
        "a8457d9d5ee14639a4826b1eee4c68b3": {
          "model_module": "@jupyter-widgets/controls",
          "model_name": "HTMLModel",
          "model_module_version": "1.5.0",
          "state": {
            "_dom_classes": [],
            "_model_module": "@jupyter-widgets/controls",
            "_model_module_version": "1.5.0",
            "_model_name": "HTMLModel",
            "_view_count": null,
            "_view_module": "@jupyter-widgets/controls",
            "_view_module_version": "1.5.0",
            "_view_name": "HTMLView",
            "description": "",
            "description_tooltip": null,
            "layout": "IPY_MODEL_601d05c84ca44b73b11d446af2f0bd0a",
            "placeholder": "​",
            "style": "IPY_MODEL_490b9f5eacad4b02862afa2eec0eeebb",
            "value": " 480k/480k [00:00&lt;00:00, 8.30MB/s]"
          }
        },
        "10728672168d438896b3d8fc55e834c6": {
          "model_module": "@jupyter-widgets/base",
          "model_name": "LayoutModel",
          "model_module_version": "1.2.0",
          "state": {
            "_model_module": "@jupyter-widgets/base",
            "_model_module_version": "1.2.0",
            "_model_name": "LayoutModel",
            "_view_count": null,
            "_view_module": "@jupyter-widgets/base",
            "_view_module_version": "1.2.0",
            "_view_name": "LayoutView",
            "align_content": null,
            "align_items": null,
            "align_self": null,
            "border": null,
            "bottom": null,
            "display": null,
            "flex": null,
            "flex_flow": null,
            "grid_area": null,
            "grid_auto_columns": null,
            "grid_auto_flow": null,
            "grid_auto_rows": null,
            "grid_column": null,
            "grid_gap": null,
            "grid_row": null,
            "grid_template_areas": null,
            "grid_template_columns": null,
            "grid_template_rows": null,
            "height": null,
            "justify_content": null,
            "justify_items": null,
            "left": null,
            "margin": null,
            "max_height": null,
            "max_width": null,
            "min_height": null,
            "min_width": null,
            "object_fit": null,
            "object_position": null,
            "order": null,
            "overflow": null,
            "overflow_x": null,
            "overflow_y": null,
            "padding": null,
            "right": null,
            "top": null,
            "visibility": null,
            "width": null
          }
        },
        "60638c9ea5aa4cafa907212df1fa8987": {
          "model_module": "@jupyter-widgets/base",
          "model_name": "LayoutModel",
          "model_module_version": "1.2.0",
          "state": {
            "_model_module": "@jupyter-widgets/base",
            "_model_module_version": "1.2.0",
            "_model_name": "LayoutModel",
            "_view_count": null,
            "_view_module": "@jupyter-widgets/base",
            "_view_module_version": "1.2.0",
            "_view_name": "LayoutView",
            "align_content": null,
            "align_items": null,
            "align_self": null,
            "border": null,
            "bottom": null,
            "display": null,
            "flex": null,
            "flex_flow": null,
            "grid_area": null,
            "grid_auto_columns": null,
            "grid_auto_flow": null,
            "grid_auto_rows": null,
            "grid_column": null,
            "grid_gap": null,
            "grid_row": null,
            "grid_template_areas": null,
            "grid_template_columns": null,
            "grid_template_rows": null,
            "height": null,
            "justify_content": null,
            "justify_items": null,
            "left": null,
            "margin": null,
            "max_height": null,
            "max_width": null,
            "min_height": null,
            "min_width": null,
            "object_fit": null,
            "object_position": null,
            "order": null,
            "overflow": null,
            "overflow_x": null,
            "overflow_y": null,
            "padding": null,
            "right": null,
            "top": null,
            "visibility": null,
            "width": null
          }
        },
        "6dde906f24d54cc4824673fd74ad468d": {
          "model_module": "@jupyter-widgets/controls",
          "model_name": "DescriptionStyleModel",
          "model_module_version": "1.5.0",
          "state": {
            "_model_module": "@jupyter-widgets/controls",
            "_model_module_version": "1.5.0",
            "_model_name": "DescriptionStyleModel",
            "_view_count": null,
            "_view_module": "@jupyter-widgets/base",
            "_view_module_version": "1.2.0",
            "_view_name": "StyleView",
            "description_width": ""
          }
        },
        "46db06ac193c434298ee6adc24b65c1a": {
          "model_module": "@jupyter-widgets/base",
          "model_name": "LayoutModel",
          "model_module_version": "1.2.0",
          "state": {
            "_model_module": "@jupyter-widgets/base",
            "_model_module_version": "1.2.0",
            "_model_name": "LayoutModel",
            "_view_count": null,
            "_view_module": "@jupyter-widgets/base",
            "_view_module_version": "1.2.0",
            "_view_name": "LayoutView",
            "align_content": null,
            "align_items": null,
            "align_self": null,
            "border": null,
            "bottom": null,
            "display": null,
            "flex": null,
            "flex_flow": null,
            "grid_area": null,
            "grid_auto_columns": null,
            "grid_auto_flow": null,
            "grid_auto_rows": null,
            "grid_column": null,
            "grid_gap": null,
            "grid_row": null,
            "grid_template_areas": null,
            "grid_template_columns": null,
            "grid_template_rows": null,
            "height": null,
            "justify_content": null,
            "justify_items": null,
            "left": null,
            "margin": null,
            "max_height": null,
            "max_width": null,
            "min_height": null,
            "min_width": null,
            "object_fit": null,
            "object_position": null,
            "order": null,
            "overflow": null,
            "overflow_x": null,
            "overflow_y": null,
            "padding": null,
            "right": null,
            "top": null,
            "visibility": null,
            "width": null
          }
        },
        "feb273338d47481094a5775570360d89": {
          "model_module": "@jupyter-widgets/controls",
          "model_name": "ProgressStyleModel",
          "model_module_version": "1.5.0",
          "state": {
            "_model_module": "@jupyter-widgets/controls",
            "_model_module_version": "1.5.0",
            "_model_name": "ProgressStyleModel",
            "_view_count": null,
            "_view_module": "@jupyter-widgets/base",
            "_view_module_version": "1.2.0",
            "_view_name": "StyleView",
            "bar_color": null,
            "description_width": ""
          }
        },
        "601d05c84ca44b73b11d446af2f0bd0a": {
          "model_module": "@jupyter-widgets/base",
          "model_name": "LayoutModel",
          "model_module_version": "1.2.0",
          "state": {
            "_model_module": "@jupyter-widgets/base",
            "_model_module_version": "1.2.0",
            "_model_name": "LayoutModel",
            "_view_count": null,
            "_view_module": "@jupyter-widgets/base",
            "_view_module_version": "1.2.0",
            "_view_name": "LayoutView",
            "align_content": null,
            "align_items": null,
            "align_self": null,
            "border": null,
            "bottom": null,
            "display": null,
            "flex": null,
            "flex_flow": null,
            "grid_area": null,
            "grid_auto_columns": null,
            "grid_auto_flow": null,
            "grid_auto_rows": null,
            "grid_column": null,
            "grid_gap": null,
            "grid_row": null,
            "grid_template_areas": null,
            "grid_template_columns": null,
            "grid_template_rows": null,
            "height": null,
            "justify_content": null,
            "justify_items": null,
            "left": null,
            "margin": null,
            "max_height": null,
            "max_width": null,
            "min_height": null,
            "min_width": null,
            "object_fit": null,
            "object_position": null,
            "order": null,
            "overflow": null,
            "overflow_x": null,
            "overflow_y": null,
            "padding": null,
            "right": null,
            "top": null,
            "visibility": null,
            "width": null
          }
        },
        "490b9f5eacad4b02862afa2eec0eeebb": {
          "model_module": "@jupyter-widgets/controls",
          "model_name": "DescriptionStyleModel",
          "model_module_version": "1.5.0",
          "state": {
            "_model_module": "@jupyter-widgets/controls",
            "_model_module_version": "1.5.0",
            "_model_name": "DescriptionStyleModel",
            "_view_count": null,
            "_view_module": "@jupyter-widgets/base",
            "_view_module_version": "1.2.0",
            "_view_name": "StyleView",
            "description_width": ""
          }
        },
        "99ce5c8d73e5422890b13c6cb745c3aa": {
          "model_module": "@jupyter-widgets/controls",
          "model_name": "HBoxModel",
          "model_module_version": "1.5.0",
          "state": {
            "_dom_classes": [],
            "_model_module": "@jupyter-widgets/controls",
            "_model_module_version": "1.5.0",
            "_model_name": "HBoxModel",
            "_view_count": null,
            "_view_module": "@jupyter-widgets/controls",
            "_view_module_version": "1.5.0",
            "_view_name": "HBoxView",
            "box_style": "",
            "children": [
              "IPY_MODEL_5ef62075383d47aa99d8646dc6d75d26",
              "IPY_MODEL_6249eaad99364753aa73276351138c34",
              "IPY_MODEL_e3af88c6d7124b5e9b56daeb2980bcba"
            ],
            "layout": "IPY_MODEL_42eb7e40f9224de4a60430923902b3aa"
          }
        },
        "5ef62075383d47aa99d8646dc6d75d26": {
          "model_module": "@jupyter-widgets/controls",
          "model_name": "HTMLModel",
          "model_module_version": "1.5.0",
          "state": {
            "_dom_classes": [],
            "_model_module": "@jupyter-widgets/controls",
            "_model_module_version": "1.5.0",
            "_model_name": "HTMLModel",
            "_view_count": null,
            "_view_module": "@jupyter-widgets/controls",
            "_view_module_version": "1.5.0",
            "_view_name": "HTMLView",
            "description": "",
            "description_tooltip": null,
            "layout": "IPY_MODEL_ec386b7502c148f888dd40d7e2f06c7c",
            "placeholder": "​",
            "style": "IPY_MODEL_2d3d8abb689a4d108bb666c93f068d3f",
            "value": "config.json: 100%"
          }
        },
        "6249eaad99364753aa73276351138c34": {
          "model_module": "@jupyter-widgets/controls",
          "model_name": "FloatProgressModel",
          "model_module_version": "1.5.0",
          "state": {
            "_dom_classes": [],
            "_model_module": "@jupyter-widgets/controls",
            "_model_module_version": "1.5.0",
            "_model_name": "FloatProgressModel",
            "_view_count": null,
            "_view_module": "@jupyter-widgets/controls",
            "_view_module_version": "1.5.0",
            "_view_name": "ProgressView",
            "bar_style": "success",
            "description": "",
            "description_tooltip": null,
            "layout": "IPY_MODEL_d7424271d5f9479ba587e9abca4ef7fe",
            "max": 648,
            "min": 0,
            "orientation": "horizontal",
            "style": "IPY_MODEL_1497a834e8404d098ecb5da102a3f4de",
            "value": 648
          }
        },
        "e3af88c6d7124b5e9b56daeb2980bcba": {
          "model_module": "@jupyter-widgets/controls",
          "model_name": "HTMLModel",
          "model_module_version": "1.5.0",
          "state": {
            "_dom_classes": [],
            "_model_module": "@jupyter-widgets/controls",
            "_model_module_version": "1.5.0",
            "_model_name": "HTMLModel",
            "_view_count": null,
            "_view_module": "@jupyter-widgets/controls",
            "_view_module_version": "1.5.0",
            "_view_name": "HTMLView",
            "description": "",
            "description_tooltip": null,
            "layout": "IPY_MODEL_ebb0b16340f249edb2b9db638d7a773f",
            "placeholder": "​",
            "style": "IPY_MODEL_c24e00c2595943d889bcd9fbef7f5e9b",
            "value": " 648/648 [00:00&lt;00:00, 70.0kB/s]"
          }
        },
        "42eb7e40f9224de4a60430923902b3aa": {
          "model_module": "@jupyter-widgets/base",
          "model_name": "LayoutModel",
          "model_module_version": "1.2.0",
          "state": {
            "_model_module": "@jupyter-widgets/base",
            "_model_module_version": "1.2.0",
            "_model_name": "LayoutModel",
            "_view_count": null,
            "_view_module": "@jupyter-widgets/base",
            "_view_module_version": "1.2.0",
            "_view_name": "LayoutView",
            "align_content": null,
            "align_items": null,
            "align_self": null,
            "border": null,
            "bottom": null,
            "display": null,
            "flex": null,
            "flex_flow": null,
            "grid_area": null,
            "grid_auto_columns": null,
            "grid_auto_flow": null,
            "grid_auto_rows": null,
            "grid_column": null,
            "grid_gap": null,
            "grid_row": null,
            "grid_template_areas": null,
            "grid_template_columns": null,
            "grid_template_rows": null,
            "height": null,
            "justify_content": null,
            "justify_items": null,
            "left": null,
            "margin": null,
            "max_height": null,
            "max_width": null,
            "min_height": null,
            "min_width": null,
            "object_fit": null,
            "object_position": null,
            "order": null,
            "overflow": null,
            "overflow_x": null,
            "overflow_y": null,
            "padding": null,
            "right": null,
            "top": null,
            "visibility": null,
            "width": null
          }
        },
        "ec386b7502c148f888dd40d7e2f06c7c": {
          "model_module": "@jupyter-widgets/base",
          "model_name": "LayoutModel",
          "model_module_version": "1.2.0",
          "state": {
            "_model_module": "@jupyter-widgets/base",
            "_model_module_version": "1.2.0",
            "_model_name": "LayoutModel",
            "_view_count": null,
            "_view_module": "@jupyter-widgets/base",
            "_view_module_version": "1.2.0",
            "_view_name": "LayoutView",
            "align_content": null,
            "align_items": null,
            "align_self": null,
            "border": null,
            "bottom": null,
            "display": null,
            "flex": null,
            "flex_flow": null,
            "grid_area": null,
            "grid_auto_columns": null,
            "grid_auto_flow": null,
            "grid_auto_rows": null,
            "grid_column": null,
            "grid_gap": null,
            "grid_row": null,
            "grid_template_areas": null,
            "grid_template_columns": null,
            "grid_template_rows": null,
            "height": null,
            "justify_content": null,
            "justify_items": null,
            "left": null,
            "margin": null,
            "max_height": null,
            "max_width": null,
            "min_height": null,
            "min_width": null,
            "object_fit": null,
            "object_position": null,
            "order": null,
            "overflow": null,
            "overflow_x": null,
            "overflow_y": null,
            "padding": null,
            "right": null,
            "top": null,
            "visibility": null,
            "width": null
          }
        },
        "2d3d8abb689a4d108bb666c93f068d3f": {
          "model_module": "@jupyter-widgets/controls",
          "model_name": "DescriptionStyleModel",
          "model_module_version": "1.5.0",
          "state": {
            "_model_module": "@jupyter-widgets/controls",
            "_model_module_version": "1.5.0",
            "_model_name": "DescriptionStyleModel",
            "_view_count": null,
            "_view_module": "@jupyter-widgets/base",
            "_view_module_version": "1.2.0",
            "_view_name": "StyleView",
            "description_width": ""
          }
        },
        "d7424271d5f9479ba587e9abca4ef7fe": {
          "model_module": "@jupyter-widgets/base",
          "model_name": "LayoutModel",
          "model_module_version": "1.2.0",
          "state": {
            "_model_module": "@jupyter-widgets/base",
            "_model_module_version": "1.2.0",
            "_model_name": "LayoutModel",
            "_view_count": null,
            "_view_module": "@jupyter-widgets/base",
            "_view_module_version": "1.2.0",
            "_view_name": "LayoutView",
            "align_content": null,
            "align_items": null,
            "align_self": null,
            "border": null,
            "bottom": null,
            "display": null,
            "flex": null,
            "flex_flow": null,
            "grid_area": null,
            "grid_auto_columns": null,
            "grid_auto_flow": null,
            "grid_auto_rows": null,
            "grid_column": null,
            "grid_gap": null,
            "grid_row": null,
            "grid_template_areas": null,
            "grid_template_columns": null,
            "grid_template_rows": null,
            "height": null,
            "justify_content": null,
            "justify_items": null,
            "left": null,
            "margin": null,
            "max_height": null,
            "max_width": null,
            "min_height": null,
            "min_width": null,
            "object_fit": null,
            "object_position": null,
            "order": null,
            "overflow": null,
            "overflow_x": null,
            "overflow_y": null,
            "padding": null,
            "right": null,
            "top": null,
            "visibility": null,
            "width": null
          }
        },
        "1497a834e8404d098ecb5da102a3f4de": {
          "model_module": "@jupyter-widgets/controls",
          "model_name": "ProgressStyleModel",
          "model_module_version": "1.5.0",
          "state": {
            "_model_module": "@jupyter-widgets/controls",
            "_model_module_version": "1.5.0",
            "_model_name": "ProgressStyleModel",
            "_view_count": null,
            "_view_module": "@jupyter-widgets/base",
            "_view_module_version": "1.2.0",
            "_view_name": "StyleView",
            "bar_color": null,
            "description_width": ""
          }
        },
        "ebb0b16340f249edb2b9db638d7a773f": {
          "model_module": "@jupyter-widgets/base",
          "model_name": "LayoutModel",
          "model_module_version": "1.2.0",
          "state": {
            "_model_module": "@jupyter-widgets/base",
            "_model_module_version": "1.2.0",
            "_model_name": "LayoutModel",
            "_view_count": null,
            "_view_module": "@jupyter-widgets/base",
            "_view_module_version": "1.2.0",
            "_view_name": "LayoutView",
            "align_content": null,
            "align_items": null,
            "align_self": null,
            "border": null,
            "bottom": null,
            "display": null,
            "flex": null,
            "flex_flow": null,
            "grid_area": null,
            "grid_auto_columns": null,
            "grid_auto_flow": null,
            "grid_auto_rows": null,
            "grid_column": null,
            "grid_gap": null,
            "grid_row": null,
            "grid_template_areas": null,
            "grid_template_columns": null,
            "grid_template_rows": null,
            "height": null,
            "justify_content": null,
            "justify_items": null,
            "left": null,
            "margin": null,
            "max_height": null,
            "max_width": null,
            "min_height": null,
            "min_width": null,
            "object_fit": null,
            "object_position": null,
            "order": null,
            "overflow": null,
            "overflow_x": null,
            "overflow_y": null,
            "padding": null,
            "right": null,
            "top": null,
            "visibility": null,
            "width": null
          }
        },
        "c24e00c2595943d889bcd9fbef7f5e9b": {
          "model_module": "@jupyter-widgets/controls",
          "model_name": "DescriptionStyleModel",
          "model_module_version": "1.5.0",
          "state": {
            "_model_module": "@jupyter-widgets/controls",
            "_model_module_version": "1.5.0",
            "_model_name": "DescriptionStyleModel",
            "_view_count": null,
            "_view_module": "@jupyter-widgets/base",
            "_view_module_version": "1.2.0",
            "_view_name": "StyleView",
            "description_width": ""
          }
        },
        "fe9eea135c91404b906ae4c94d8eacb9": {
          "model_module": "@jupyter-widgets/controls",
          "model_name": "HBoxModel",
          "model_module_version": "1.5.0",
          "state": {
            "_dom_classes": [],
            "_model_module": "@jupyter-widgets/controls",
            "_model_module_version": "1.5.0",
            "_model_name": "HBoxModel",
            "_view_count": null,
            "_view_module": "@jupyter-widgets/controls",
            "_view_module_version": "1.5.0",
            "_view_name": "HBoxView",
            "box_style": "",
            "children": [
              "IPY_MODEL_6fd6c98b686a426e86eaa88acdde28d6",
              "IPY_MODEL_3f82ffced9f145378c85b8e41d7cb57b",
              "IPY_MODEL_2031a01442434b5090d8adfb2e471df8"
            ],
            "layout": "IPY_MODEL_929e6fe610f64a0898c64bde97017ad2"
          }
        },
        "6fd6c98b686a426e86eaa88acdde28d6": {
          "model_module": "@jupyter-widgets/controls",
          "model_name": "HTMLModel",
          "model_module_version": "1.5.0",
          "state": {
            "_dom_classes": [],
            "_model_module": "@jupyter-widgets/controls",
            "_model_module_version": "1.5.0",
            "_model_name": "HTMLModel",
            "_view_count": null,
            "_view_module": "@jupyter-widgets/controls",
            "_view_module_version": "1.5.0",
            "_view_name": "HTMLView",
            "description": "",
            "description_tooltip": null,
            "layout": "IPY_MODEL_fe819c060b67449f9207ae0868be30dc",
            "placeholder": "​",
            "style": "IPY_MODEL_5f9fb9811bf74659bbcfa99f0b8013c6",
            "value": "pytorch_model.bin: 100%"
          }
        },
        "3f82ffced9f145378c85b8e41d7cb57b": {
          "model_module": "@jupyter-widgets/controls",
          "model_name": "FloatProgressModel",
          "model_module_version": "1.5.0",
          "state": {
            "_dom_classes": [],
            "_model_module": "@jupyter-widgets/controls",
            "_model_module_version": "1.5.0",
            "_model_name": "FloatProgressModel",
            "_view_count": null,
            "_view_module": "@jupyter-widgets/controls",
            "_view_module_version": "1.5.0",
            "_view_name": "ProgressView",
            "bar_style": "success",
            "description": "",
            "description_tooltip": null,
            "layout": "IPY_MODEL_1502844a6db242489247d51a2013add6",
            "max": 439621341,
            "min": 0,
            "orientation": "horizontal",
            "style": "IPY_MODEL_691bfca43190442abf211d90a8de8a91",
            "value": 439621341
          }
        },
        "2031a01442434b5090d8adfb2e471df8": {
          "model_module": "@jupyter-widgets/controls",
          "model_name": "HTMLModel",
          "model_module_version": "1.5.0",
          "state": {
            "_dom_classes": [],
            "_model_module": "@jupyter-widgets/controls",
            "_model_module_version": "1.5.0",
            "_model_name": "HTMLModel",
            "_view_count": null,
            "_view_module": "@jupyter-widgets/controls",
            "_view_module_version": "1.5.0",
            "_view_name": "HTMLView",
            "description": "",
            "description_tooltip": null,
            "layout": "IPY_MODEL_147cd4c0cf1742b4b1c6bcbd50c0d7cd",
            "placeholder": "​",
            "style": "IPY_MODEL_8a4341b12ebc4f05989e6dfa4cffb51a",
            "value": " 440M/440M [00:01&lt;00:00, 270MB/s]"
          }
        },
        "929e6fe610f64a0898c64bde97017ad2": {
          "model_module": "@jupyter-widgets/base",
          "model_name": "LayoutModel",
          "model_module_version": "1.2.0",
          "state": {
            "_model_module": "@jupyter-widgets/base",
            "_model_module_version": "1.2.0",
            "_model_name": "LayoutModel",
            "_view_count": null,
            "_view_module": "@jupyter-widgets/base",
            "_view_module_version": "1.2.0",
            "_view_name": "LayoutView",
            "align_content": null,
            "align_items": null,
            "align_self": null,
            "border": null,
            "bottom": null,
            "display": null,
            "flex": null,
            "flex_flow": null,
            "grid_area": null,
            "grid_auto_columns": null,
            "grid_auto_flow": null,
            "grid_auto_rows": null,
            "grid_column": null,
            "grid_gap": null,
            "grid_row": null,
            "grid_template_areas": null,
            "grid_template_columns": null,
            "grid_template_rows": null,
            "height": null,
            "justify_content": null,
            "justify_items": null,
            "left": null,
            "margin": null,
            "max_height": null,
            "max_width": null,
            "min_height": null,
            "min_width": null,
            "object_fit": null,
            "object_position": null,
            "order": null,
            "overflow": null,
            "overflow_x": null,
            "overflow_y": null,
            "padding": null,
            "right": null,
            "top": null,
            "visibility": null,
            "width": null
          }
        },
        "fe819c060b67449f9207ae0868be30dc": {
          "model_module": "@jupyter-widgets/base",
          "model_name": "LayoutModel",
          "model_module_version": "1.2.0",
          "state": {
            "_model_module": "@jupyter-widgets/base",
            "_model_module_version": "1.2.0",
            "_model_name": "LayoutModel",
            "_view_count": null,
            "_view_module": "@jupyter-widgets/base",
            "_view_module_version": "1.2.0",
            "_view_name": "LayoutView",
            "align_content": null,
            "align_items": null,
            "align_self": null,
            "border": null,
            "bottom": null,
            "display": null,
            "flex": null,
            "flex_flow": null,
            "grid_area": null,
            "grid_auto_columns": null,
            "grid_auto_flow": null,
            "grid_auto_rows": null,
            "grid_column": null,
            "grid_gap": null,
            "grid_row": null,
            "grid_template_areas": null,
            "grid_template_columns": null,
            "grid_template_rows": null,
            "height": null,
            "justify_content": null,
            "justify_items": null,
            "left": null,
            "margin": null,
            "max_height": null,
            "max_width": null,
            "min_height": null,
            "min_width": null,
            "object_fit": null,
            "object_position": null,
            "order": null,
            "overflow": null,
            "overflow_x": null,
            "overflow_y": null,
            "padding": null,
            "right": null,
            "top": null,
            "visibility": null,
            "width": null
          }
        },
        "5f9fb9811bf74659bbcfa99f0b8013c6": {
          "model_module": "@jupyter-widgets/controls",
          "model_name": "DescriptionStyleModel",
          "model_module_version": "1.5.0",
          "state": {
            "_model_module": "@jupyter-widgets/controls",
            "_model_module_version": "1.5.0",
            "_model_name": "DescriptionStyleModel",
            "_view_count": null,
            "_view_module": "@jupyter-widgets/base",
            "_view_module_version": "1.2.0",
            "_view_name": "StyleView",
            "description_width": ""
          }
        },
        "1502844a6db242489247d51a2013add6": {
          "model_module": "@jupyter-widgets/base",
          "model_name": "LayoutModel",
          "model_module_version": "1.2.0",
          "state": {
            "_model_module": "@jupyter-widgets/base",
            "_model_module_version": "1.2.0",
            "_model_name": "LayoutModel",
            "_view_count": null,
            "_view_module": "@jupyter-widgets/base",
            "_view_module_version": "1.2.0",
            "_view_name": "LayoutView",
            "align_content": null,
            "align_items": null,
            "align_self": null,
            "border": null,
            "bottom": null,
            "display": null,
            "flex": null,
            "flex_flow": null,
            "grid_area": null,
            "grid_auto_columns": null,
            "grid_auto_flow": null,
            "grid_auto_rows": null,
            "grid_column": null,
            "grid_gap": null,
            "grid_row": null,
            "grid_template_areas": null,
            "grid_template_columns": null,
            "grid_template_rows": null,
            "height": null,
            "justify_content": null,
            "justify_items": null,
            "left": null,
            "margin": null,
            "max_height": null,
            "max_width": null,
            "min_height": null,
            "min_width": null,
            "object_fit": null,
            "object_position": null,
            "order": null,
            "overflow": null,
            "overflow_x": null,
            "overflow_y": null,
            "padding": null,
            "right": null,
            "top": null,
            "visibility": null,
            "width": null
          }
        },
        "691bfca43190442abf211d90a8de8a91": {
          "model_module": "@jupyter-widgets/controls",
          "model_name": "ProgressStyleModel",
          "model_module_version": "1.5.0",
          "state": {
            "_model_module": "@jupyter-widgets/controls",
            "_model_module_version": "1.5.0",
            "_model_name": "ProgressStyleModel",
            "_view_count": null,
            "_view_module": "@jupyter-widgets/base",
            "_view_module_version": "1.2.0",
            "_view_name": "StyleView",
            "bar_color": null,
            "description_width": ""
          }
        },
        "147cd4c0cf1742b4b1c6bcbd50c0d7cd": {
          "model_module": "@jupyter-widgets/base",
          "model_name": "LayoutModel",
          "model_module_version": "1.2.0",
          "state": {
            "_model_module": "@jupyter-widgets/base",
            "_model_module_version": "1.2.0",
            "_model_name": "LayoutModel",
            "_view_count": null,
            "_view_module": "@jupyter-widgets/base",
            "_view_module_version": "1.2.0",
            "_view_name": "LayoutView",
            "align_content": null,
            "align_items": null,
            "align_self": null,
            "border": null,
            "bottom": null,
            "display": null,
            "flex": null,
            "flex_flow": null,
            "grid_area": null,
            "grid_auto_columns": null,
            "grid_auto_flow": null,
            "grid_auto_rows": null,
            "grid_column": null,
            "grid_gap": null,
            "grid_row": null,
            "grid_template_areas": null,
            "grid_template_columns": null,
            "grid_template_rows": null,
            "height": null,
            "justify_content": null,
            "justify_items": null,
            "left": null,
            "margin": null,
            "max_height": null,
            "max_width": null,
            "min_height": null,
            "min_width": null,
            "object_fit": null,
            "object_position": null,
            "order": null,
            "overflow": null,
            "overflow_x": null,
            "overflow_y": null,
            "padding": null,
            "right": null,
            "top": null,
            "visibility": null,
            "width": null
          }
        },
        "8a4341b12ebc4f05989e6dfa4cffb51a": {
          "model_module": "@jupyter-widgets/controls",
          "model_name": "DescriptionStyleModel",
          "model_module_version": "1.5.0",
          "state": {
            "_model_module": "@jupyter-widgets/controls",
            "_model_module_version": "1.5.0",
            "_model_name": "DescriptionStyleModel",
            "_view_count": null,
            "_view_module": "@jupyter-widgets/base",
            "_view_module_version": "1.2.0",
            "_view_name": "StyleView",
            "description_width": ""
          }
        }
      }
    }
  },
  "cells": [
    {
      "cell_type": "code",
      "execution_count": null,
      "metadata": {
        "id": "XSXn0hhAQahP",
        "colab": {
          "base_uri": "https://localhost:8080/"
        },
        "outputId": "6d3796e7-d5e3-4a72-f814-b89fc583e6b5"
      },
      "outputs": [
        {
          "output_type": "stream",
          "name": "stdout",
          "text": [
            "Mounted at /content/drive\n"
          ]
        }
      ],
      "source": [
        "from google.colab import drive\n",
        "drive.mount('/content/drive')\n"
      ]
    },
    {
      "cell_type": "markdown",
      "source": [
        "### **Cargar los datos**"
      ],
      "metadata": {
        "id": "GiC1iyJWWrOC"
      }
    },
    {
      "cell_type": "code",
      "source": [
        "import pandas as pd\n",
        "\n",
        "# Cargar los datos desde Google Drive\n",
        "file_path = \"/content/drive/My Drive/IA/Rest-Mex_2025_train.csv\"\n",
        "df = pd.read_csv(file_path)\n",
        "\n",
        "# Contar instancias antes del preprocesamiento\n",
        "print(\"Instancias antes del preprocesamiento:\", len(df))\n",
        "\n",
        "# Verificar las primeras filas\n",
        "print(df.head())\n"
      ],
      "metadata": {
        "colab": {
          "base_uri": "https://localhost:8080/"
        },
        "id": "bN0P5B6OWJBL",
        "outputId": "b03942ec-6356-4e75-b354-c42b0f129fb4"
      },
      "execution_count": null,
      "outputs": [
        {
          "output_type": "stream",
          "name": "stdout",
          "text": [
            "Instancias antes del preprocesamiento: 208051\n",
            "                               Title  \\\n",
            "0              Mi Lugar Favorito!!!!   \n",
            "1  lugares interesantes para visitar   \n",
            "2             No es el mismo Dreams    \n",
            "3  un buen panorama cerca de CancÃºn   \n",
            "4                           El mejor   \n",
            "\n",
            "                                              Review  Polarity          Town  \\\n",
            "0  Excelente lugar para comer y pasar una buena n...       5.0      Sayulita   \n",
            "1  andar mucho, así que un poco difícil para pers...       4.0         Tulum   \n",
            "2  Es nuestra cuarta visita a Dreams Tulum, elegi...       3.0         Tulum   \n",
            "3  Estando en CancÃºn, fuimos al puerto y tomamos...       4.0  Isla_Mujeres   \n",
            "4  Es un lugar antiguo y por eso me encanto tiene...       5.0     Patzcuaro   \n",
            "\n",
            "        Region        Type  \n",
            "0      Nayarit  Restaurant  \n",
            "1  QuintanaRoo  Attractive  \n",
            "2  QuintanaRoo       Hotel  \n",
            "3  QuintanaRoo  Attractive  \n",
            "4    Michoacan       Hotel  \n"
          ]
        }
      ]
    },
    {
      "cell_type": "markdown",
      "source": [
        "# **Preprocesamiento: Limpiar texto**"
      ],
      "metadata": {
        "id": "3SgAYOHLWnRb"
      }
    },
    {
      "cell_type": "markdown",
      "source": [
        "**Opcion A:**\n",
        "Cargaremos los dataset con diferentes codificaciones y verificaremos cual nos bota error."
      ],
      "metadata": {
        "id": "VY5nU9V4IHDc"
      }
    },
    {
      "cell_type": "code",
      "source": [
        "# Opción 1: utf-8\n",
        "try:\n",
        "    df = pd.read_csv(file_path, encoding='utf-8')\n",
        "    print(\"Codificación utf-8 cargada con éxito\")\n",
        "    print(df.head())\n",
        "except Exception as e:\n",
        "    print(\"Error con utf-8:\", e)\n",
        "\n",
        "# Opción 2: latin1\n",
        "try:\n",
        "    df = pd.read_csv(file_path, encoding='latin1')\n",
        "    print(\"Codificación latin1 cargada con éxito\")\n",
        "    print(df.head())\n",
        "except Exception as e:\n",
        "    print(\"Error con latin1:\", e)\n",
        "\n",
        "# Opción 3: cp1252 (Windows)\n",
        "try:\n",
        "    df = pd.read_csv(file_path, encoding='cp1252')\n",
        "    print(\"Codificación cp1252 cargada con éxito\")\n",
        "    print(df.head())\n",
        "except Exception as e:\n",
        "    print(\"Error con cp1252:\", e)\n"
      ],
      "metadata": {
        "colab": {
          "base_uri": "https://localhost:8080/"
        },
        "id": "vIsII4uPEAKk",
        "outputId": "2a5294b5-28c9-4804-d81c-169652bde061"
      },
      "execution_count": null,
      "outputs": [
        {
          "output_type": "stream",
          "name": "stdout",
          "text": [
            "Codificación utf-8 cargada con éxito\n",
            "                               Title  \\\n",
            "0              Mi Lugar Favorito!!!!   \n",
            "1  lugares interesantes para visitar   \n",
            "2             No es el mismo Dreams    \n",
            "3  un buen panorama cerca de CancÃºn   \n",
            "4                           El mejor   \n",
            "\n",
            "                                              Review  Polarity          Town  \\\n",
            "0  Excelente lugar para comer y pasar una buena n...       5.0      Sayulita   \n",
            "1  andar mucho, así que un poco difícil para pers...       4.0         Tulum   \n",
            "2  Es nuestra cuarta visita a Dreams Tulum, elegi...       3.0         Tulum   \n",
            "3  Estando en CancÃºn, fuimos al puerto y tomamos...       4.0  Isla_Mujeres   \n",
            "4  Es un lugar antiguo y por eso me encanto tiene...       5.0     Patzcuaro   \n",
            "\n",
            "        Region        Type  \n",
            "0      Nayarit  Restaurant  \n",
            "1  QuintanaRoo  Attractive  \n",
            "2  QuintanaRoo       Hotel  \n",
            "3  QuintanaRoo  Attractive  \n",
            "4    Michoacan       Hotel  \n",
            "Codificación latin1 cargada con éxito\n",
            "                                 Title  \\\n",
            "0                Mi Lugar Favorito!!!!   \n",
            "1    lugares interesantes para visitar   \n",
            "2               No es el mismo Dreams    \n",
            "3  un buen panorama cerca de CancÃÂºn   \n",
            "4                             El mejor   \n",
            "\n",
            "                                              Review  Polarity          Town  \\\n",
            "0  Excelente lugar para comer y pasar una buena n...       5.0      Sayulita   \n",
            "1  andar mucho, asÃ­ que un poco difÃ­cil para pe...       4.0         Tulum   \n",
            "2  Es nuestra cuarta visita a Dreams Tulum, elegi...       3.0         Tulum   \n",
            "3  Estando en CancÃÂºn, fuimos al puerto y tomam...       4.0  Isla_Mujeres   \n",
            "4  Es un lugar antiguo y por eso me encanto tiene...       5.0     Patzcuaro   \n",
            "\n",
            "        Region        Type  \n",
            "0      Nayarit  Restaurant  \n",
            "1  QuintanaRoo  Attractive  \n",
            "2  QuintanaRoo       Hotel  \n",
            "3  QuintanaRoo  Attractive  \n",
            "4    Michoacan       Hotel  \n",
            "Error con cp1252: 'charmap' codec can't decode byte 0x8d in position 80114: character maps to <undefined>\n"
          ]
        }
      ]
    },
    {
      "cell_type": "code",
      "source": [
        "import chardet\n",
        "\n",
        "          # Leer los primeros bytes del archivo\n",
        "          #with open(file_path, 'rb') as f:\n",
        "          #   result = chardet.detect(f.read(10000))  # Detecta usando los primeros 10k bytes\n",
        "\n",
        "\n",
        "# Leer todo el contenido del archivo\n",
        "with open(file_path, 'rb') as f:\n",
        "    result = chardet.detect(f.read())  # Detecta usando todo el archivo\n",
        "\n",
        "print(\"Codificación detectada:\", result['encoding'])\n",
        "\n"
      ],
      "metadata": {
        "colab": {
          "base_uri": "https://localhost:8080/"
        },
        "id": "KrFAAUVOGJoU",
        "outputId": "759b486f-b293-445f-be16-1eb5a92bb2e6"
      },
      "execution_count": null,
      "outputs": [
        {
          "output_type": "stream",
          "name": "stdout",
          "text": [
            "Codificación detectada: utf-8\n"
          ]
        }
      ]
    },
    {
      "cell_type": "code",
      "source": [
        "import re\n",
        "import pandas as pd\n",
        "\n",
        "# Función que evalúa la rareza del texto (porcentaje de caracteres \"extraños\")\n",
        "def porcentaje_caracteres_no_comunes(texto):\n",
        "    # Lista de caracteres válidos (puedes ajustarlo si es necesario)\n",
        "    caracteres_comunes = re.findall(r\"[a-zA-ZáéíóúÁÉÍÓÚñÑüÜ .,;:¡!¿?0-9]\", texto)\n",
        "\n",
        "    # Calculamos la \"rareza\" como la proporción de caracteres no comunes\n",
        "    return 1 - len(caracteres_comunes) / max(1, len(texto))\n",
        "\n",
        "# Función para identificar si un texto contiene caracteres sospechosos\n",
        "def contiene_caracteres_sospechosos(texto):\n",
        "    return bool(re.search(r'[ÃÂ¢â€œâ€]', texto))  # Puedes agregar más patrones aquí si necesitas\n",
        "\n",
        "# Leer el dataset\n",
        "df = pd.read_csv(\"/content/drive/My Drive/IA/Rest-Mex_2025_train.csv\", encoding=\"utf-8\")\n",
        "\n",
        "# Evaluamos el porcentaje de caracteres raros para cada instancia (fila)\n",
        "df['error_ratio'] = df['Review'].apply(porcentaje_caracteres_no_comunes)\n",
        "\n",
        "# Identificamos filas con más del 20% de caracteres raros\n",
        "filas_con_errores = df[df['error_ratio'] > 0.15]\n",
        "\n",
        "# Mostrar las filas problemáticas\n",
        "print(\"Número de filas con posibles problemas de codificación:\", filas_con_errores.shape[0])\n",
        "print(filas_con_errores[['Title', 'Review', 'error_ratio']])\n"
      ],
      "metadata": {
        "colab": {
          "base_uri": "https://localhost:8080/"
        },
        "id": "q75pYYQXHrw2",
        "outputId": "50701361-86aa-44ff-dfa3-e066cdc621b5"
      },
      "execution_count": null,
      "outputs": [
        {
          "output_type": "stream",
          "name": "stdout",
          "text": [
            "Número de filas con posibles problemas de codificación: 6\n",
            "                                      Title  \\\n",
            "41921   Es un restaurant fuera de lo común.   \n",
            "94937                       variedad-comida   \n",
            "121944                          Las Tinajas   \n",
            "127316                            Increíble   \n",
            "153199                            BUENISIMO   \n",
            "170002               vista-panorámica-Taxco   \n",
            "\n",
            "                                                   Review  error_ratio  \n",
            "41921   Precios muy accesibles. excelente servicio. To...     0.246154  \n",
            "94937   -recomiendo-bufet-buen-precio&variedad-comida(...     0.160221  \n",
            "121944  Gran mole___________________________________ d...     0.660377  \n",
            "127316  En resúmen:\\n\\nambiente increíble comida\\nincr...     0.324786  \n",
            "153199  Estuve por negocio 10 días y la pasé super bie...     0.167305  \n",
            "170002  -excelente-vista\\n-opciones-menú:\\nplato-entra...     0.162963  \n"
          ]
        }
      ]
    },
    {
      "cell_type": "code",
      "source": [
        "# Eliminar las filas con más del 20% de caracteres raros\n",
        "df_limpio = df[df['error_ratio'] <= 0.15]\n",
        "\n",
        "# Verificar el número de filas después de la eliminación\n",
        "print(\"Número de filas después de eliminar las filas problemáticas:\", df_limpio.shape[0])\n",
        "\n",
        "# Mostrar las primeras filas del DataFrame limpio\n",
        "print(df_limpio.head())\n"
      ],
      "metadata": {
        "colab": {
          "base_uri": "https://localhost:8080/"
        },
        "id": "f513KwEvL2hk",
        "outputId": "3e9be123-d885-4aff-c86f-c26b91d0f6d7"
      },
      "execution_count": null,
      "outputs": [
        {
          "output_type": "stream",
          "name": "stdout",
          "text": [
            "Número de filas después de eliminar las filas problemáticas: 208045\n",
            "                               Title  \\\n",
            "0              Mi Lugar Favorito!!!!   \n",
            "1  lugares interesantes para visitar   \n",
            "2             No es el mismo Dreams    \n",
            "3  un buen panorama cerca de CancÃºn   \n",
            "4                           El mejor   \n",
            "\n",
            "                                              Review  Polarity          Town  \\\n",
            "0  Excelente lugar para comer y pasar una buena n...       5.0      Sayulita   \n",
            "1  andar mucho, así que un poco difícil para pers...       4.0         Tulum   \n",
            "2  Es nuestra cuarta visita a Dreams Tulum, elegi...       3.0         Tulum   \n",
            "3  Estando en CancÃºn, fuimos al puerto y tomamos...       4.0  Isla_Mujeres   \n",
            "4  Es un lugar antiguo y por eso me encanto tiene...       5.0     Patzcuaro   \n",
            "\n",
            "        Region        Type  error_ratio  \n",
            "0      Nayarit  Restaurant     0.009615  \n",
            "1  QuintanaRoo  Attractive     0.000000  \n",
            "2  QuintanaRoo       Hotel     0.003797  \n",
            "3  QuintanaRoo  Attractive     0.026549  \n",
            "4    Michoacan       Hotel     0.000000  \n"
          ]
        }
      ]
    },
    {
      "cell_type": "code",
      "source": [
        "import re\n",
        "\n",
        "# Función de limpieza mejorada\n",
        "def clean_text(text):\n",
        "    text = text.strip()  # Eliminar espacios extra\n",
        "    # Solo eliminar caracteres no alfabéticos, pero mantener los acentos y la puntuación\n",
        "    text = re.sub(r\"[^a-zA-ZáéíóúüñÁÉÍÓÚÜÑ0-9,.!? ]\", \"\", text)\n",
        "    return text\n",
        "\n",
        "\n",
        "# Aplicar la limpieza a las reseñas\n",
        "df_limpio[\"Review\"] = df_limpio[\"Review\"].apply(clean_text)\n",
        "\n",
        "# Verificar el número de filas después de la eliminación\n",
        "print(\"Número de filas:\", df_limpio.shape[0])\n",
        "\n",
        "# Mostrar las primeras filas del DataFrame limpio\n",
        "print(df_limpio.head())\n",
        "\n"
      ],
      "metadata": {
        "id": "RrFgq2hgWROz",
        "colab": {
          "base_uri": "https://localhost:8080/"
        },
        "outputId": "98167137-86e2-41b9-f789-3d133b550882"
      },
      "execution_count": null,
      "outputs": [
        {
          "output_type": "stream",
          "name": "stdout",
          "text": [
            "Número de filas: 208045\n",
            "                               Title  \\\n",
            "0              Mi Lugar Favorito!!!!   \n",
            "1  lugares interesantes para visitar   \n",
            "2             No es el mismo Dreams    \n",
            "3  un buen panorama cerca de CancÃºn   \n",
            "4                           El mejor   \n",
            "\n",
            "                                              Review  Polarity          Town  \\\n",
            "0  Excelente lugar para comer y pasar una buena n...       5.0      Sayulita   \n",
            "1  andar mucho, así que un poco difícil para pers...       4.0         Tulum   \n",
            "2  Es nuestra cuarta visita a Dreams Tulum, elegi...       3.0         Tulum   \n",
            "3  Estando en Cancn, fuimos al puerto y tomamos u...       4.0  Isla_Mujeres   \n",
            "4  Es un lugar antiguo y por eso me encanto tiene...       5.0     Patzcuaro   \n",
            "\n",
            "        Region        Type  error_ratio  \n",
            "0      Nayarit  Restaurant     0.009615  \n",
            "1  QuintanaRoo  Attractive     0.000000  \n",
            "2  QuintanaRoo       Hotel     0.003797  \n",
            "3  QuintanaRoo  Attractive     0.026549  \n",
            "4    Michoacan       Hotel     0.000000  \n"
          ]
        },
        {
          "output_type": "stream",
          "name": "stderr",
          "text": [
            "<ipython-input-5-6edf93186282>:12: SettingWithCopyWarning: \n",
            "A value is trying to be set on a copy of a slice from a DataFrame.\n",
            "Try using .loc[row_indexer,col_indexer] = value instead\n",
            "\n",
            "See the caveats in the documentation: https://pandas.pydata.org/pandas-docs/stable/user_guide/indexing.html#returning-a-view-versus-a-copy\n",
            "  df_limpio[\"Review\"] = df_limpio[\"Review\"].apply(clean_text)\n"
          ]
        }
      ]
    },
    {
      "cell_type": "code",
      "source": [
        "# Eliminar filas con valores faltantes en cualquier columna\n",
        "df_limpio = df_limpio.dropna()\n",
        "\n",
        "# Asegurarse de que la columna 'Polarity' sea numérica\n",
        "df_limpio['Polarity'] = pd.to_numeric(df_limpio['Polarity'], errors='coerce')\n",
        "\n",
        "# Eliminar filas donde 'Polarity' es NaN (después de la conversión) y filtrar valores válidos entre 1.0 y 5.0\n",
        "df_limpio = df_limpio[(df_limpio['Polarity'] >= 1.0) & (df_limpio['Polarity'] <= 5.0)]\n",
        "\n",
        "# Reiniciar el índice después de eliminar filas\n",
        "df_limpio = df_limpio.reset_index(drop=True)\n",
        "\n",
        "# Contar instancias después del preprocesamiento\n",
        "print(\"Instancias después del preprocesamiento:\", len(df_limpio))\n",
        "\n",
        "# Mostrar una muestra del DataFrame limpio\n",
        "print(df_limpio.head(10))\n",
        "\n"
      ],
      "metadata": {
        "colab": {
          "base_uri": "https://localhost:8080/"
        },
        "id": "5vbbimjwRY1G",
        "outputId": "db0eb7e9-b43e-4525-cab4-e2276e99b79e"
      },
      "execution_count": null,
      "outputs": [
        {
          "output_type": "stream",
          "name": "stdout",
          "text": [
            "Instancias después del preprocesamiento: 208043\n",
            "                                               Title  \\\n",
            "0                              Mi Lugar Favorito!!!!   \n",
            "1                  lugares interesantes para visitar   \n",
            "2                             No es el mismo Dreams    \n",
            "3                  un buen panorama cerca de CancÃºn   \n",
            "4                                           El mejor   \n",
            "5                                           Preciosa   \n",
            "6                                 Maravillosa Playa.   \n",
            "7  Un muy buen lugar para quedarse y comer en Pal...   \n",
            "8                                  Tiempo para mi...   \n",
            "9                           Buena Ubicación y limpio   \n",
            "\n",
            "                                              Review  Polarity  \\\n",
            "0  Excelente lugar para comer y pasar una buena n...       5.0   \n",
            "1  andar mucho, así que un poco difícil para pers...       4.0   \n",
            "2  Es nuestra cuarta visita a Dreams Tulum, elegi...       3.0   \n",
            "3  Estando en Cancn, fuimos al puerto y tomamos u...       4.0   \n",
            "4  Es un lugar antiguo y por eso me encanto tiene...       5.0   \n",
            "5  La mejor playa en la que he estado. Arena blan...       5.0   \n",
            "6  Visitar la zona arqueologica de Tulum y disfru...       5.0   \n",
            "7  Conozco Mayabel desde hace más de 15 años. Es ...       4.0   \n",
            "8  las instalaciones están hermosas, es de esos l...       4.0   \n",
            "9  estuvimoa hospedados para participar en el eve...       4.0   \n",
            "\n",
            "             Town            Region        Type  error_ratio  \n",
            "0        Sayulita           Nayarit  Restaurant     0.009615  \n",
            "1           Tulum       QuintanaRoo  Attractive     0.000000  \n",
            "2           Tulum       QuintanaRoo       Hotel     0.003797  \n",
            "3    Isla_Mujeres       QuintanaRoo  Attractive     0.026549  \n",
            "4       Patzcuaro         Michoacan       Hotel     0.000000  \n",
            "5           Tulum       QuintanaRoo  Attractive     0.000000  \n",
            "6           Tulum       QuintanaRoo  Attractive     0.000000  \n",
            "7        Palenque           Chiapas       Hotel     0.000000  \n",
            "8  Valle_de_Bravo  Estado_de_Mexico       Hotel     0.000000  \n",
            "9        Palenque           Chiapas       Hotel     0.000000  \n"
          ]
        },
        {
          "output_type": "stream",
          "name": "stderr",
          "text": [
            "<ipython-input-6-0968a9e0d10f>:5: SettingWithCopyWarning: \n",
            "A value is trying to be set on a copy of a slice from a DataFrame.\n",
            "Try using .loc[row_indexer,col_indexer] = value instead\n",
            "\n",
            "See the caveats in the documentation: https://pandas.pydata.org/pandas-docs/stable/user_guide/indexing.html#returning-a-view-versus-a-copy\n",
            "  df_limpio['Polarity'] = pd.to_numeric(df_limpio['Polarity'], errors='coerce')\n"
          ]
        }
      ]
    },
    {
      "cell_type": "markdown",
      "source": [
        "### **Distribución (frecuencia) de longitud de palabras**"
      ],
      "metadata": {
        "id": "jeYDzMpIArG7"
      }
    },
    {
      "cell_type": "code",
      "source": [
        "import matplotlib.pyplot as plt\n",
        "\n",
        "# Contar palabras por texto en el DataFrame limpio\n",
        "df_limpio[\"word_count\"] = df_limpio[\"Review\"].apply(lambda x: len(x.split()))\n",
        "\n",
        "# Graficar distribución de cantidad de palabras\n",
        "plt.figure(figsize=(10,5))\n",
        "plt.hist(df_limpio[\"word_count\"], bins=50, color=\"blue\", alpha=0.7)\n",
        "plt.xlabel(\"Cantidad de palabras\")\n",
        "plt.ylabel(\"Frecuencia\")\n",
        "plt.title(\"Distribución de la cantidad de palabras por reseña\")\n",
        "plt.show()\n",
        "\n",
        "\n"
      ],
      "metadata": {
        "colab": {
          "base_uri": "https://localhost:8080/",
          "height": 488
        },
        "id": "4Zfe2GKq6biM",
        "outputId": "c439cb8d-6b3a-4f25-c79a-7903576742c5"
      },
      "execution_count": null,
      "outputs": [
        {
          "output_type": "display_data",
          "data": {
            "text/plain": [
              "<Figure size 1000x500 with 1 Axes>"
            ],
            "image/png": "[encoded data removed]"
          },
          "metadata": {}
        }
      ]
    },
    {
      "cell_type": "markdown",
      "source": [
        "Analizando el balanceo de las instancias segun polarity"
      ],
      "metadata": {
        "id": "5Sx55WS7Sqwu"
      }
    },
    {
      "cell_type": "code",
      "source": [
        "import matplotlib.pyplot as plt\n",
        "\n",
        "# Contar la cantidad de instancias por cada clase de polaridad\n",
        "polaridad_counts = df_limpio['Polarity'].value_counts().sort_index()\n",
        "\n",
        "# Visualizar la distribución de la polaridad\n",
        "plt.figure(figsize=(10,5))\n",
        "polaridad_counts.plot(kind='bar', color='green', alpha=0.7)\n",
        "plt.xlabel(\"Polaridad\")\n",
        "plt.ylabel(\"Frecuencia\")\n",
        "plt.title(\"Distribución de la polaridad en las reseñas\")\n",
        "plt.xticks(rotation=0)\n",
        "plt.show()\n",
        "\n",
        "# Mostrar el conteo de instancias por clase de polaridad\n",
        "print(\"Conteo de instancias por polaridad:\")\n",
        "print(polaridad_counts)\n",
        "\n",
        "# Calcular el porcentaje de cada clase de polaridad\n",
        "polaridad_percentage = (polaridad_counts / polaridad_counts.sum()) * 100\n",
        "print(\"\\nPorcentaje de instancias por polaridad:\")\n",
        "print(polaridad_percentage)\n"
      ],
      "metadata": {
        "colab": {
          "base_uri": "https://localhost:8080/",
          "height": 783
        },
        "id": "0O1nEO-FSlJV",
        "outputId": "78147343-d117-4a1f-8ffa-037f02475541"
      },
      "execution_count": null,
      "outputs": [
        {
          "output_type": "display_data",
          "data": {
            "text/plain": [
              "<Figure size 1000x500 with 1 Axes>"
            ],
            "image/png": "[encoded data removed]"
          },
          "metadata": {}
        },
        {
          "output_type": "stream",
          "name": "stdout",
          "text": [
            "Conteo de instancias por polaridad:\n",
            "Polarity\n",
            "1.0      5441\n",
            "2.0      5496\n",
            "3.0     15519\n",
            "4.0     45033\n",
            "5.0    136554\n",
            "Name: count, dtype: int64\n",
            "\n",
            "Porcentaje de instancias por polaridad:\n",
            "Polarity\n",
            "1.0     2.615325\n",
            "2.0     2.641762\n",
            "3.0     7.459516\n",
            "4.0    21.646006\n",
            "5.0    65.637392\n",
            "Name: count, dtype: float64\n"
          ]
        }
      ]
    },
    {
      "cell_type": "markdown",
      "source": [
        "## **Submuestreo (undersampling)**\n",
        "La biblioteca **imbalanced-learn** tiene una implementación sencilla de undersampling llamada **RandomUnderSampler**"
      ],
      "metadata": {
        "id": "N24AwWB2TNcu"
      }
    },
    {
      "cell_type": "code",
      "source": [
        "from imblearn.under_sampling import RandomUnderSampler\n",
        "import pandas as pd\n",
        "\n",
        "# Crear una copia para no tocar df_limpio\n",
        "df_limpio2 = df_limpio.copy()\n",
        "\n",
        "# Ver cantidad original por clase\n",
        "print(\"Distribución original de Polarity:\")\n",
        "print(df_limpio2['Polarity'].value_counts())\n",
        "\n",
        "# Variables independientes y dependiente\n",
        "X = df_limpio2.drop('Polarity', axis=1)\n",
        "y = df_limpio2['Polarity']\n"
      ],
      "metadata": {
        "colab": {
          "base_uri": "https://localhost:8080/"
        },
        "id": "SSuUfWRkg9_R",
        "outputId": "533ad0ec-2821-44e6-869c-4b5c30782726"
      },
      "execution_count": null,
      "outputs": [
        {
          "output_type": "stream",
          "name": "stdout",
          "text": [
            "Distribución original de Polarity:\n",
            "Polarity\n",
            "5.0    136554\n",
            "4.0     45033\n",
            "3.0     15519\n",
            "2.0      5496\n",
            "1.0      5441\n",
            "Name: count, dtype: int64\n"
          ]
        }
      ]
    },
    {
      "cell_type": "code",
      "source": [
        "# Obtener clases únicas para referencia\n",
        "clases = y.value_counts().index.tolist()\n",
        "print(\"Clases detectadas:\", clases)"
      ],
      "metadata": {
        "colab": {
          "base_uri": "https://localhost:8080/"
        },
        "id": "LNCeVBzVhnzf",
        "outputId": "8461cee0-4c7e-4772-93db-4c249dc45403"
      },
      "execution_count": null,
      "outputs": [
        {
          "output_type": "stream",
          "name": "stdout",
          "text": [
            "Clases detectadas: [5.0, 4.0, 3.0, 2.0, 1.0]\n"
          ]
        }
      ]
    },
    {
      "cell_type": "code",
      "source": [
        "# ------------------------------------------\n",
        "# 🔧 Configuración manual del undersampling:\n",
        "# Por ejemplo, supón que estas son tus clases y quieres:\n",
        "# - Mantener 'A' con 500 instancias\n",
        "# - 'B' con 500\n",
        "# - 'C' con 1000\n",
        "# (ajusta esto con los valores reales que te interesen)\n",
        "# ------------------------------------------\n",
        "\n",
        "# Define a cuántas instancias quieres reducir cada clase (ajusta según tu caso)\n",
        "manual_strategy = {\n",
        "    5.0: 35000,\n",
        "    4.0: 35000,\n",
        "    #'referred to': 2134,\n",
        "    #'class_3': 1000,\n",
        "    # Otras clases se pueden omitir si no quieres reducirlas\n",
        "}\n",
        "\n",
        "# Aplicar submuestreo con configuración personalizada\n",
        "undersampler = RandomUnderSampler(sampling_strategy=manual_strategy, random_state=42)\n",
        "X_resampled, y_resampled = undersampler.fit_resample(X, y)\n",
        "\n",
        "#================================= CREANDO DF_NEW =================================\n",
        "\n",
        "\n",
        "# Crear DataFrame balanceado llamado df_new\n",
        "df_new = pd.DataFrame(X_resampled, columns=X.columns)\n",
        "df_new['Polarity'] = y_resampled\n",
        "\n",
        "# Mostrar distribución final\n",
        "print(\"\\n Distribución después del undersampling personalizado:\")\n",
        "print(df_new['Polarity'].value_counts())\n",
        "\n",
        "# Tamaño total\n",
        "print(\"\\nTotal de instancias después del undersampling:\", len(df_new))\n"
      ],
      "metadata": {
        "colab": {
          "base_uri": "https://localhost:8080/"
        },
        "id": "jnTgtUhoh-8I",
        "outputId": "572be8b0-bcde-4f13-afb3-3f5f5a731b0a"
      },
      "execution_count": null,
      "outputs": [
        {
          "output_type": "stream",
          "name": "stdout",
          "text": [
            "\n",
            " Distribución después del undersampling personalizado:\n",
            "Polarity\n",
            "5.0    35000\n",
            "4.0    35000\n",
            "3.0    15519\n",
            "2.0     5496\n",
            "1.0     5441\n",
            "Name: count, dtype: int64\n",
            "\n",
            "Total de instancias después del undersampling: 96456\n"
          ]
        }
      ]
    },
    {
      "cell_type": "code",
      "source": [
        "# Verificar si hay valores nulos en el DataFrame\n",
        "nulos = df_new.isnull().sum()\n",
        "# Verificar si hay valores vacíos en el DataFrame\n",
        "vacios = (df_new == '').sum()\n",
        "\n",
        "# Mostrar la cantidad de valores nulos y vacíos por columna\n",
        "print(\"Valores nulos por columna:\")\n",
        "print(nulos)\n",
        "\n",
        "print(\"\\nValores vacíos por columna:\")\n",
        "print(vacios)\n",
        "\n",
        "# Verificar filas con valores nulos o vacíos\n",
        "filas_con_nulos = df_new[df_new.isnull().any(axis=1)]\n",
        "filas_con_vacios = df_new[(df_new == '').any(axis=1)]\n",
        "\n",
        "# Mostrar las filas con valores nulos o vacíos\n",
        "print(\"\\nFilas con valores nulos:\")\n",
        "print(filas_con_nulos)\n",
        "\n",
        "print(\"\\nFilas con valores vacíos:\")\n",
        "print(filas_con_vacios)\n"
      ],
      "metadata": {
        "colab": {
          "base_uri": "https://localhost:8080/"
        },
        "id": "JVnGDNI7ikBf",
        "outputId": "ba1a8a26-2028-430f-9658-c979e71990e3"
      },
      "execution_count": null,
      "outputs": [
        {
          "output_type": "stream",
          "name": "stdout",
          "text": [
            "Valores nulos por columna:\n",
            "Title          0\n",
            "Review         0\n",
            "Town           0\n",
            "Region         0\n",
            "Type           0\n",
            "error_ratio    0\n",
            "word_count     0\n",
            "Polarity       0\n",
            "dtype: int64\n",
            "\n",
            "Valores vacíos por columna:\n",
            "Title          0\n",
            "Review         0\n",
            "Town           0\n",
            "Region         0\n",
            "Type           0\n",
            "error_ratio    0\n",
            "word_count     0\n",
            "Polarity       0\n",
            "dtype: int64\n",
            "\n",
            "Filas con valores nulos:\n",
            "Empty DataFrame\n",
            "Columns: [Title, Review, Town, Region, Type, error_ratio, word_count, Polarity]\n",
            "Index: []\n",
            "\n",
            "Filas con valores vacíos:\n",
            "Empty DataFrame\n",
            "Columns: [Title, Review, Town, Region, Type, error_ratio, word_count, Polarity]\n",
            "Index: []\n"
          ]
        }
      ]
    },
    {
      "cell_type": "code",
      "source": [
        "# Reiniciar los índices del nuevo DataFrame balanceado\n",
        "df_new.reset_index(drop=True, inplace=True)\n",
        "\n",
        "# Ver las primeras filas para comprobar\n",
        "print(\"\\nPrimeras filas del nuevo dataset balanceado:\")\n",
        "print(df_new.head())\n",
        "\n",
        "# Guardar una copia del nuevo dataset balanceado (opcional)\n",
        "df_new.to_csv(\"/content/df_new.csv\", index=False)\n",
        "\n",
        "# Revisar resumen del DataFrame final\n",
        "print(\"\\nResumen del DataFrame reensamblado:\")\n",
        "print(df_new.info())\n",
        "\n"
      ],
      "metadata": {
        "colab": {
          "base_uri": "https://localhost:8080/"
        },
        "id": "kNvCb_4wixb5",
        "outputId": "557c586a-f90b-4e72-f0e1-f1950aa789c9"
      },
      "execution_count": null,
      "outputs": [
        {
          "output_type": "stream",
          "name": "stdout",
          "text": [
            "\n",
            "Primeras filas del nuevo dataset balanceado:\n",
            "                         Title  \\\n",
            "0  Solo les importa el dinero    \n",
            "1            pésima habitación   \n",
            "2        La comida es horrible   \n",
            "3            Ruidoso y molesto   \n",
            "4                 Mal servicio   \n",
            "\n",
            "                                              Review        Town  \\\n",
            "0  Hay un solo tipo de clientes para este hotel y...       Tulum   \n",
            "1  Al leer las críticas por la web me queda claro...  Valladolid   \n",
            "2  No tienen buen sazón. Los platos están pésimos...      Loreto   \n",
            "3  No respetan el descanso de los huespedes ni de...       Tulum   \n",
            "4  Mala atención en recepción y atención telefóni...      Bernal   \n",
            "\n",
            "               Region        Type  error_ratio  word_count  Polarity  \n",
            "0         QuintanaRoo       Hotel     0.000000          72       1.0  \n",
            "1             Yucatan       Hotel     0.000000          78       1.0  \n",
            "2  Baja_CaliforniaSur  Restaurant     0.000000          22       1.0  \n",
            "3         QuintanaRoo       Hotel     0.000000          48       1.0  \n",
            "4           Queretaro       Hotel     0.006353         144       1.0  \n",
            "\n",
            "Resumen del DataFrame reensamblado:\n",
            "<class 'pandas.core.frame.DataFrame'>\n",
            "RangeIndex: 96456 entries, 0 to 96455\n",
            "Data columns (total 8 columns):\n",
            " #   Column       Non-Null Count  Dtype  \n",
            "---  ------       --------------  -----  \n",
            " 0   Title        96456 non-null  object \n",
            " 1   Review       96456 non-null  object \n",
            " 2   Town         96456 non-null  object \n",
            " 3   Region       96456 non-null  object \n",
            " 4   Type         96456 non-null  object \n",
            " 5   error_ratio  96456 non-null  float64\n",
            " 6   word_count   96456 non-null  int64  \n",
            " 7   Polarity     96456 non-null  float64\n",
            "dtypes: float64(2), int64(1), object(5)\n",
            "memory usage: 5.9+ MB\n",
            "None\n"
          ]
        }
      ]
    },
    {
      "cell_type": "code",
      "source": [
        "import matplotlib.pyplot as plt\n",
        "import seaborn as sns\n",
        "# Conteo después del submuestreo\n",
        "plt.figure(figsize=(10, 5))\n",
        "sns.countplot(data=df_new, x='Polarity', order=df_new['Polarity'].value_counts().index, palette='magma')\n",
        "plt.title(\"Distribución de clases después del undersampling\")\n",
        "plt.xlabel(\"Clase (Polarity)\")\n",
        "plt.ylabel(\"Cantidad de instancias\")\n",
        "plt.xticks(rotation=45)\n",
        "plt.tight_layout()\n",
        "plt.show()\n"
      ],
      "metadata": {
        "colab": {
          "base_uri": "https://localhost:8080/",
          "height": 614
        },
        "id": "U7ITQq1Ti2S2",
        "outputId": "39ce0045-f565-4108-bc7c-2bc512d23ef0"
      },
      "execution_count": null,
      "outputs": [
        {
          "output_type": "stream",
          "name": "stderr",
          "text": [
            "<ipython-input-14-79e41fbc3487>:5: FutureWarning: \n",
            "\n",
            "Passing `palette` without assigning `hue` is deprecated and will be removed in v0.14.0. Assign the `x` variable to `hue` and set `legend=False` for the same effect.\n",
            "\n",
            "  sns.countplot(data=df_new, x='Polarity', order=df_new['Polarity'].value_counts().index, palette='magma')\n"
          ]
        },
        {
          "output_type": "display_data",
          "data": {
            "text/plain": [
              "<Figure size 1000x500 with 1 Axes>"
            ],
            "image/png": "[encoded data removed]"
          },
          "metadata": {}
        }
      ]
    },
    {
      "cell_type": "code",
      "source": [
        "# Mapeo manual de 'case_outcome' a números\n",
        "outcome_mapping = {\n",
        "    5.0 : 4,\n",
        "    4.0 : 3,\n",
        "    3.0 : 2,\n",
        "    2.0 : 1,\n",
        "    1.0 : 0,\n",
        "    # Agrega más clases si es necesario\n",
        "}\n",
        "\n",
        "# Mapeamos las etiquetas 'case_outcome' a números\n",
        "df_new['Polarity'] = df_new['Polarity'].map(outcome_mapping)\n",
        "\n",
        "# Verificación\n",
        "print(df_new['Polarity'].value_counts())"
      ],
      "metadata": {
        "colab": {
          "base_uri": "https://localhost:8080/"
        },
        "id": "ug9UIwfGi5k-",
        "outputId": "558125e3-24f3-40e6-f761-5fbfbf0f35a6"
      },
      "execution_count": null,
      "outputs": [
        {
          "output_type": "stream",
          "name": "stdout",
          "text": [
            "Polarity\n",
            "4    35000\n",
            "3    35000\n",
            "2    15519\n",
            "1     5496\n",
            "0     5441\n",
            "Name: count, dtype: int64\n"
          ]
        }
      ]
    },
    {
      "cell_type": "code",
      "source": [
        "print(df_new.iloc[2914:2916])"
      ],
      "metadata": {
        "colab": {
          "base_uri": "https://localhost:8080/"
        },
        "id": "QDgt278UjWf4",
        "outputId": "651dd516-22bb-4b4b-feb7-258c2ea8a990"
      },
      "execution_count": null,
      "outputs": [
        {
          "output_type": "stream",
          "name": "stdout",
          "text": [
            "                                                  Title  \\\n",
            "2914            Una expresión al colonialismo en México   \n",
            "2915  Horrible . Extremadamente caro para el persona...   \n",
            "\n",
            "                                                 Review          Town  \\\n",
            "2914  Es muy triste ver este tipo de lugares cuando ...       Xilitla   \n",
            "2915  Entrada 500 pesos por persona. 300 utilizables...  Isla_Mujeres   \n",
            "\n",
            "               Region        Type  error_ratio  word_count  Polarity  \n",
            "2914  San_Luis_Potosi  Attractive     0.000000          92         0  \n",
            "2915      QuintanaRoo  Attractive     0.004717         115         0  \n"
          ]
        }
      ]
    },
    {
      "cell_type": "code",
      "source": [
        "from transformers import BertTokenizer\n",
        "\n",
        "# Cargar el tokenizer de BERT en español\n",
        "tokenizer = BertTokenizer.from_pretrained(\"dccuchile/bert-base-spanish-wwm-cased\")\n",
        "\n",
        "# Tokenizar las reseñas sin truncation ni padding\n",
        "token_lengths = [len(tokenizer.encode(text, truncation=False, padding=False)) for text in df_new[\"Review\"]]\n",
        "\n",
        "# Ver las primeras longitudes de los tokens para ver cómo quedan\n",
        "print(token_lengths[:10])  # Imprimir las primeras 10 longitudes de tokens\n"
      ],
      "metadata": {
        "id": "oymdMPPZWTlk",
        "colab": {
          "base_uri": "https://localhost:8080/",
          "height": 336,
          "referenced_widgets": [
            "564f76de064942d58e67a003965a312b",
            "50c555436b274a4da84023dcbb670892",
            "bb15b719eca74e50bf84c50c6280a58e",
            "a7026a3b714d40f68a504b32e587afd7",
            "3127a528892146998812bc1b6c03feb7",
            "a8e0335e6bea49dd8d772070cee4ce42",
            "89da0f125d6043fa8a290750763565bf",
            "80175692c8d64b6bac9252f71443aa84",
            "c6be5aee07b34583bd7c12a7ac4383cb",
            "5a83df91acc446bfb8ee94362e800731",
            "d5fb27d6cf754a91b16f9156c5477e04",
            "b8572273d5e642feb33696d94b692caa",
            "c00ce178f65a4938ac90d47ff7d61b7a",
            "78396ff57897449d9bdcd5aafe4e2555",
            "987564314bd04291bdc078bd76c41758",
            "f3984e15c7d14ec293a54b99bef028a0",
            "7071f9bfb8ec40e3a24f196b02f99311",
            "c0e905f67e944c9aaf70bc7a84eb8757",
            "b8110edc6b6b4923965277de1fb8b9d5",
            "523900ad4e0b4ae0be2eda70da272ac1",
            "44205d1b833b4edabc94c99ef0bfbb4b",
            "be9bcd514f9d47f79844d201c0704c74",
            "dae09337fd97458896ac7733e2884276",
            "cd5901fc36e14680a9c12b2f4cf811e4",
            "ad4ca2d2f6ff4cc9b990d09ebda23460",
            "b2d6b4aab2304041ae25b2e467089ffd",
            "4fc2f0c258a94e5b91531f29b1c452a3",
            "d26792ca6a8c41dd83c416d0494031e1",
            "58ef25a232d043ecb4080dc85592bf6b",
            "e0928be570d04206a088b794a470a65e",
            "6463fe8b3aa747deb1e358e737a4123c",
            "3faa80c57398482bb5847b50f2fdb128",
            "aeb832cc4586470eabd622632110b62f",
            "20b7e66c839341f08d53064461aa9de5",
            "0140a8bd80a0401d8bfebc10d2325cae",
            "5640a575e859419b8209df6b79ca43ec",
            "a8457d9d5ee14639a4826b1eee4c68b3",
            "10728672168d438896b3d8fc55e834c6",
            "60638c9ea5aa4cafa907212df1fa8987",
            "6dde906f24d54cc4824673fd74ad468d",
            "46db06ac193c434298ee6adc24b65c1a",
            "feb273338d47481094a5775570360d89",
            "601d05c84ca44b73b11d446af2f0bd0a",
            "490b9f5eacad4b02862afa2eec0eeebb",
            "99ce5c8d73e5422890b13c6cb745c3aa",
            "5ef62075383d47aa99d8646dc6d75d26",
            "6249eaad99364753aa73276351138c34",
            "e3af88c6d7124b5e9b56daeb2980bcba",
            "42eb7e40f9224de4a60430923902b3aa",
            "ec386b7502c148f888dd40d7e2f06c7c",
            "2d3d8abb689a4d108bb666c93f068d3f",
            "d7424271d5f9479ba587e9abca4ef7fe",
            "1497a834e8404d098ecb5da102a3f4de",
            "ebb0b16340f249edb2b9db638d7a773f",
            "c24e00c2595943d889bcd9fbef7f5e9b"
          ]
        },
        "outputId": "7e295e00-5115-4a1c-973a-fdb9bd4f70e2"
      },
      "execution_count": null,
      "outputs": [
        {
          "output_type": "stream",
          "name": "stderr",
          "text": [
            "/usr/local/lib/python3.11/dist-packages/huggingface_hub/utils/_auth.py:94: UserWarning: \n",
            "The secret `HF_TOKEN` does not exist in your Colab secrets.\n",
            "To authenticate with the Hugging Face Hub, create a token in your settings tab (https://huggingface.co/settings/tokens), set it as secret in your Google Colab and restart your session.\n",
            "You will be able to reuse this secret in all of your notebooks.\n",
            "Please note that authentication is recommended but still optional to access public models or datasets.\n",
            "  warnings.warn(\n"
          ]
        },
        {
          "output_type": "display_data",
          "data": {
            "text/plain": [
              "tokenizer_config.json:   0%|          | 0.00/364 [00:00<?, ?B/s]"
            ],
            "application/vnd.jupyter.widget-view+json": {
              "version_major": 2,
              "version_minor": 0,
              "model_id": "564f76de064942d58e67a003965a312b"
            }
          },
          "metadata": {}
        },
        {
          "output_type": "display_data",
          "data": {
            "text/plain": [
              "vocab.txt:   0%|          | 0.00/242k [00:00<?, ?B/s]"
            ],
            "application/vnd.jupyter.widget-view+json": {
              "version_major": 2,
              "version_minor": 0,
              "model_id": "b8572273d5e642feb33696d94b692caa"
            }
          },
          "metadata": {}
        },
        {
          "output_type": "display_data",
          "data": {
            "text/plain": [
              "special_tokens_map.json:   0%|          | 0.00/134 [00:00<?, ?B/s]"
            ],
            "application/vnd.jupyter.widget-view+json": {
              "version_major": 2,
              "version_minor": 0,
              "model_id": "dae09337fd97458896ac7733e2884276"
            }
          },
          "metadata": {}
        },
        {
          "output_type": "display_data",
          "data": {
            "text/plain": [
              "tokenizer.json:   0%|          | 0.00/480k [00:00<?, ?B/s]"
            ],
            "application/vnd.jupyter.widget-view+json": {
              "version_major": 2,
              "version_minor": 0,
              "model_id": "20b7e66c839341f08d53064461aa9de5"
            }
          },
          "metadata": {}
        },
        {
          "output_type": "display_data",
          "data": {
            "text/plain": [
              "config.json:   0%|          | 0.00/648 [00:00<?, ?B/s]"
            ],
            "application/vnd.jupyter.widget-view+json": {
              "version_major": 2,
              "version_minor": 0,
              "model_id": "99ce5c8d73e5422890b13c6cb745c3aa"
            }
          },
          "metadata": {}
        },
        {
          "output_type": "stream",
          "name": "stderr",
          "text": [
            "Token indices sequence length is longer than the specified maximum sequence length for this model (876 > 512). Running this sequence through the model will result in indexing errors\n"
          ]
        },
        {
          "output_type": "stream",
          "name": "stdout",
          "text": [
            "[91, 97, 32, 62, 171, 78, 168, 201, 83, 240]\n"
          ]
        }
      ]
    },
    {
      "cell_type": "markdown",
      "source": [
        "### **Analizar la distribución de tokens**"
      ],
      "metadata": {
        "id": "Mf_zqt_tA2Ys"
      }
    },
    {
      "cell_type": "code",
      "source": [
        "import matplotlib.pyplot as plt\n",
        "import numpy as np\n",
        "\n",
        "# Visualizar distribución de tokens\n",
        "plt.figure(figsize=(10, 5))\n",
        "plt.hist(token_lengths, bins=50, color='green', alpha=0.7)\n",
        "plt.xlabel(\"Número de tokens\")\n",
        "plt.ylabel(\"Frecuencia\")\n",
        "plt.title(\"Distribución del número de tokens por reseña\")\n",
        "\n",
        "# Agregar línea para el percentil 95\n",
        "plt.axvline(np.percentile(token_lengths, 95), color='red', linestyle='dashed', linewidth=2, label='95 Percentil')\n",
        "plt.legend()\n",
        "\n",
        "plt.show()\n",
        "\n",
        "# Obtener estadísticas\n",
        "mean_tokens = np.mean(token_lengths)\n",
        "median_tokens = np.median(token_lengths)\n",
        "percentile_90 = np.percentile(token_lengths, 90)\n",
        "percentile_95 = np.percentile(token_lengths, 95)\n",
        "percentile_99 = np.percentile(token_lengths, 99)\n",
        "\n",
        "# Imprimir estadísticas\n",
        "print(f\"Media de tokens: {mean_tokens:.2f}\")\n",
        "print(f\"Mediana de tokens: {median_tokens:.2f}\")\n",
        "print(f\"90 percentil: {percentile_90:.2f} tokens\")\n",
        "print(f\"95 percentil: {percentile_95:.2f} tokens\")\n",
        "print(f\"99 percentil: {percentile_99:.2f} tokens\")\n",
        "\n",
        "# Recomendación para max_length\n",
        "recommended_max_tokens = int(percentile_95)\n",
        "print(f\"Recomendación para max_length en el tokenizer: {recommended_max_tokens} tokens\")\n",
        "\n",
        "# Opcional: Verificar cuántas reseñas superan el percentil 95\n",
        "long_reviews = sum([token_length > recommended_max_tokens for token_length in token_lengths])\n",
        "print(f\"Cantidad de reseñas que superan el 95 percentil de tokens: {long_reviews}\")\n"
      ],
      "metadata": {
        "colab": {
          "base_uri": "https://localhost:8080/",
          "height": 610
        },
        "id": "9KedrOQIYBGb",
        "outputId": "9c0aa08d-6aef-42eb-f273-b9f1a2bcf8a1"
      },
      "execution_count": null,
      "outputs": [
        {
          "output_type": "display_data",
          "data": {
            "text/plain": [
              "<Figure size 1000x500 with 1 Axes>"
            ],
            "image/png": "[encoded data removed]"
          },
          "metadata": {}
        },
        {
          "output_type": "stream",
          "name": "stdout",
          "text": [
            "Media de tokens: 83.33\n",
            "Mediana de tokens: 62.00\n",
            "90 percentil: 165.00 tokens\n",
            "95 percentil: 180.00 tokens\n",
            "99 percentil: 310.45 tokens\n",
            "Recomendación para max_length en el tokenizer: 180 tokens\n",
            "Cantidad de reseñas que superan el 95 percentil de tokens: 4705\n"
          ]
        }
      ]
    },
    {
      "cell_type": "code",
      "source": [
        "# Mostrar algunas filas después de la conversión\n",
        "print(\"\\nPrimeras filas después:\")\n",
        "print(df_new[['Review', 'Polarity']].head())\n"
      ],
      "metadata": {
        "colab": {
          "base_uri": "https://localhost:8080/"
        },
        "id": "HT_AxbcJIjtn",
        "outputId": "d8a535e7-5d8a-4e14-d221-a6618b063064"
      },
      "execution_count": null,
      "outputs": [
        {
          "output_type": "stream",
          "name": "stdout",
          "text": [
            "\n",
            "Primeras filas después:\n",
            "                                              Review  Polarity\n",
            "0  Hay un solo tipo de clientes para este hotel y...         0\n",
            "1  Al leer las críticas por la web me queda claro...         0\n",
            "2  No tienen buen sazón. Los platos están pésimos...         0\n",
            "3  No respetan el descanso de los huespedes ni de...         0\n",
            "4  Mala atención en recepción y atención telefóni...         0\n"
          ]
        }
      ]
    },
    {
      "cell_type": "code",
      "source": [
        "# Ver valores únicos después\n",
        "print(\"Valores únicos después de la actualización:\", sorted(df_new['Polarity'].unique()))"
      ],
      "metadata": {
        "colab": {
          "base_uri": "https://localhost:8080/"
        },
        "id": "tY2ZsYZnJB83",
        "outputId": "3d08fb6a-4ee9-4566-9787-aa90a2783a8a"
      },
      "execution_count": null,
      "outputs": [
        {
          "output_type": "stream",
          "name": "stdout",
          "text": [
            "Valores únicos después de la actualización: [np.int64(0), np.int64(1), np.int64(2), np.int64(3), np.int64(4)]\n"
          ]
        }
      ]
    },
    {
      "cell_type": "markdown",
      "source": [
        "los label se han ordenado de manera que primero estan los de etiqueta 0 y al final los de etiqueta 4 (quer eran los 5.0)"
      ],
      "metadata": {
        "id": "c4X3DpejNKme"
      }
    },
    {
      "cell_type": "code",
      "source": [
        "# Ver filas del índice 1 al 10 después de la actualización\n",
        "print(df_new.iloc[24011:24014])\n"
      ],
      "metadata": {
        "colab": {
          "base_uri": "https://localhost:8080/"
        },
        "id": "IvRodx1aKM0a",
        "outputId": "c976d48e-8fdc-4eab-e169-f217cf3476d2"
      },
      "execution_count": null,
      "outputs": [
        {
          "output_type": "stream",
          "name": "stdout",
          "text": [
            "                                                   Title  \\\n",
            "24011  Un parque regular, vale la pena sólo si tienes...   \n",
            "24012                                             No así   \n",
            "24013                                          Un Farito   \n",
            "\n",
            "                                                  Review  \\\n",
            "24011  Existen lugares en Chiapas que valen más la pe...   \n",
            "24012  Escuchamos Todas estas estupendas críticas y n...   \n",
            "24013  Tal como lo citan en el medio de la nada ves u...   \n",
            "\n",
            "                             Town       Region        Type  error_ratio  \\\n",
            "24011  San_Cristobal_de_las_Casas      Chiapas  Attractive     0.005917   \n",
            "24012                    Sayulita      Nayarit  Attractive     0.000000   \n",
            "24013                Isla_Mujeres  QuintanaRoo  Attractive     0.000000   \n",
            "\n",
            "       word_count  Polarity  \n",
            "24011          58         2  \n",
            "24012          27         2  \n",
            "24013          25         2  \n"
          ]
        }
      ]
    },
    {
      "cell_type": "code",
      "source": [
        "# Contar las instancias por cada valor de 'Polarity'\n",
        "polarity_counts = df_new['Polarity'].value_counts().sort_index()\n",
        "\n",
        "# Imprimir el resumen de las instancias por polaridad\n",
        "print(\"Resumen de las instancias por polaridad:\")\n",
        "print(polarity_counts)\n"
      ],
      "metadata": {
        "colab": {
          "base_uri": "https://localhost:8080/"
        },
        "id": "9CW3cUxFLvxT",
        "outputId": "80607dc8-821c-4045-b97b-f29b41efcace"
      },
      "execution_count": null,
      "outputs": [
        {
          "output_type": "stream",
          "name": "stdout",
          "text": [
            "Resumen de las instancias por polaridad:\n",
            "Polarity\n",
            "0     5441\n",
            "1     5496\n",
            "2    15519\n",
            "3    35000\n",
            "4    35000\n",
            "Name: count, dtype: int64\n"
          ]
        }
      ]
    },
    {
      "cell_type": "markdown",
      "source": [
        "**Fin de paso 2**\n"
      ],
      "metadata": {
        "id": "EIc4SlClOpmO"
      }
    },
    {
      "cell_type": "markdown",
      "source": [
        "### **PASO 3: AHORA SI VAMOS A TOKENIZAR**\n",
        "DIVIDIENDO Y CONSIDERANDO EL MAXIMO DE TOKENS AL 95%"
      ],
      "metadata": {
        "id": "dh-4eCimeI8w"
      }
    },
    {
      "cell_type": "code",
      "source": [
        "# 🔹 Concatenar 'Title' y 'Review' en una sola cadena de texto por fila, llamada nuevamente Review2\n",
        "df_new['Review2'] = df_new['Title'] + \". \" + df_new['Review']\n",
        "\n",
        "# Ver las primeras filas con el texto concatenado\n",
        "print(df_new[['Title', 'Review', 'Review2','Polarity']].head())"
      ],
      "metadata": {
        "colab": {
          "base_uri": "https://localhost:8080/"
        },
        "id": "S9J6SB9VoSWo",
        "outputId": "670ce09e-2ffe-4223-e501-8a3971f85265"
      },
      "execution_count": null,
      "outputs": [
        {
          "output_type": "stream",
          "name": "stdout",
          "text": [
            "                         Title  \\\n",
            "0  Solo les importa el dinero    \n",
            "1            pésima habitación   \n",
            "2        La comida es horrible   \n",
            "3            Ruidoso y molesto   \n",
            "4                 Mal servicio   \n",
            "\n",
            "                                              Review  \\\n",
            "0  Hay un solo tipo de clientes para este hotel y...   \n",
            "1  Al leer las críticas por la web me queda claro...   \n",
            "2  No tienen buen sazón. Los platos están pésimos...   \n",
            "3  No respetan el descanso de los huespedes ni de...   \n",
            "4  Mala atención en recepción y atención telefóni...   \n",
            "\n",
            "                                             Review2  Polarity  \n",
            "0  Solo les importa el dinero . Hay un solo tipo ...         0  \n",
            "1  pésima habitación. Al leer las críticas por la...         0  \n",
            "2  La comida es horrible. No tienen buen sazón. L...         0  \n",
            "3  Ruidoso y molesto. No respetan el descanso de ...         0  \n",
            "4  Mal servicio. Mala atención en recepción y ate...         0  \n"
          ]
        }
      ]
    },
    {
      "cell_type": "code",
      "source": [
        "from sklearn.model_selection import train_test_split\n",
        "import torch\n",
        "\n",
        "# Usar el percentil 95 como max_length (has decidido basarte en esto)\n",
        "#recommended_max_tokens = int(percentile_95)\n",
        "recommended_max_tokens = 220\n",
        "\n",
        "\n",
        "# 🔹 Dividir los datos balanceados (df_new) en entrenamiento (75%) y prueba (25%)\n",
        "train_texts, test_texts, train_labels, test_labels = train_test_split(\n",
        "    df_new[\"Review2\"].tolist(),         # Lista de reseñas\n",
        "    df_new[\"Polarity\"].tolist(),      # Lista de etiquetas\n",
        "    test_size=0.25,                   # 25% para test\n",
        "    random_state=42                   # Para reproducibilidad\n",
        ")\n",
        "\n",
        "# 🔹 Ahora dividir el conjunto de entrenamiento en entrenamiento (80%) y validación (20%)\n",
        "train_texts, val_texts, train_labels, val_labels = train_test_split(\n",
        "    train_texts, train_labels,\n",
        "    test_size=0.20,                   # 20% de los datos de entrenamiento va a validación\n",
        "    random_state=42\n",
        ")\n",
        "\n",
        "\n"
      ],
      "metadata": {
        "id": "d5r1YwkVZ66o"
      },
      "execution_count": null,
      "outputs": []
    },
    {
      "cell_type": "code",
      "source": [
        "# Verificar la cantidad de instancias en cada conjunto\n",
        "print(f\"Cantidad de textos de entrenamiento: {len(train_texts)}\")\n",
        "print(f\"Cantidad de textos de validación: {len(val_texts)}\")\n",
        "print(f\"Cantidad de textos de prueba: {len(test_texts)}\")\n"
      ],
      "metadata": {
        "colab": {
          "base_uri": "https://localhost:8080/"
        },
        "id": "UR-ioMH2_oGS",
        "outputId": "191580a5-aaa8-4b39-bfaf-561438999660"
      },
      "execution_count": null,
      "outputs": [
        {
          "output_type": "stream",
          "name": "stdout",
          "text": [
            "Cantidad de textos de entrenamiento: 57873\n",
            "Cantidad de textos de validación: 14469\n",
            "Cantidad de textos de prueba: 24114\n"
          ]
        }
      ]
    },
    {
      "cell_type": "markdown",
      "source": [
        "## **Data augmentation solo sobre train**"
      ],
      "metadata": {
        "id": "qqgpcqVF1U8c"
      }
    },
    {
      "cell_type": "code",
      "source": [
        "# Descargar EDA desde GitHub y guardar en un archivo local\n",
        "!wget https://raw.githubusercontent.com/jasonwei20/eda_nlp/master/code/eda.py\n",
        "\n",
        "# Ahora sí podemos importarlo\n",
        "from eda import eda\n"
      ],
      "metadata": {
        "colab": {
          "base_uri": "https://localhost:8080/"
        },
        "id": "O8IvIPcL3hN6",
        "outputId": "4a3f596c-5793-47e8-bbca-e44bb24935c6"
      },
      "execution_count": null,
      "outputs": [
        {
          "output_type": "stream",
          "name": "stdout",
          "text": [
            "--2025-05-02 12:51:34--  https://raw.githubusercontent.com/jasonwei20/eda_nlp/master/code/eda.py\n",
            "Resolving raw.githubusercontent.com (raw.githubusercontent.com)... 185.199.108.133, 185.199.109.133, 185.199.110.133, ...\n",
            "Connecting to raw.githubusercontent.com (raw.githubusercontent.com)|185.199.108.133|:443... connected.\n",
            "HTTP request sent, awaiting response... 200 OK\n",
            "Length: 7047 (6.9K) [text/plain]\n",
            "Saving to: ‘eda.py’\n",
            "\n",
            "eda.py              100%[===================>]   6.88K  --.-KB/s    in 0s      \n",
            "\n",
            "2025-05-02 12:51:34 (89.8 MB/s) - ‘eda.py’ saved [7047/7047]\n",
            "\n"
          ]
        },
        {
          "output_type": "stream",
          "name": "stderr",
          "text": [
            "/content/eda.py:177: SyntaxWarning: \"is not\" with a literal. Did you mean \"!=\"?\n",
            "  words = [word for word in words if word is not '']\n"
          ]
        }
      ]
    },
    {
      "cell_type": "code",
      "source": [
        "def augment_class(texts, labels, target_label, num_augments_per_sample=1):\n",
        "    new_texts = []\n",
        "    new_labels = []\n",
        "    for text, label in zip(texts, labels):\n",
        "        if label == target_label:\n",
        "            augmented = eda(text, num_aug=num_augments_per_sample)\n",
        "            new_texts.extend(augmented)\n",
        "            new_labels.extend([label]*len(augmented))\n",
        "    return new_texts, new_labels\n"
      ],
      "metadata": {
        "id": "NkpjNIO91h-D"
      },
      "execution_count": null,
      "outputs": []
    },
    {
      "cell_type": "code",
      "source": [
        "import pandas as pd\n",
        "\n",
        "# Crear un DataFrame con los textos y las etiquetas\n",
        "train_df = pd.DataFrame({\n",
        "    'Texto': train_texts,\n",
        "    'Etiqueta': train_labels\n",
        "})\n",
        "# Verificación\n",
        "print(train_df['Etiqueta'].value_counts())\n",
        "# Ver cuántas instancias (filas) tiene el DataFrame\n",
        "num_instancias = train_df.shape[0]\n",
        "print(f\"El DataFrame tiene {num_instancias} instancias.\")\n"
      ],
      "metadata": {
        "colab": {
          "base_uri": "https://localhost:8080/"
        },
        "id": "R2drvmuL-Lta",
        "outputId": "808d664c-fa3d-46fa-e459-b1b115d322d6"
      },
      "execution_count": null,
      "outputs": [
        {
          "output_type": "stream",
          "name": "stdout",
          "text": [
            "Etiqueta\n",
            "4    21032\n",
            "3    20898\n",
            "2     9330\n",
            "1     3331\n",
            "0     3282\n",
            "Name: count, dtype: int64\n",
            "El DataFrame tiene 57873 instancias.\n"
          ]
        }
      ]
    },
    {
      "cell_type": "code",
      "source": [
        "import nltk\n",
        "nltk.download('wordnet')\n",
        "\n",
        "# Primero pasamos todo a listas por si aún están en otro formato\n",
        "train_texts = list(train_texts)\n",
        "train_labels = list(train_labels)\n",
        "\n",
        "# Augmenta clases 0 y 1\n",
        "aug_texts_1, aug_labels_1 = augment_class(train_texts, train_labels, 0, num_augments_per_sample=1)\n",
        "aug_texts_2, aug_labels_2 = augment_class(train_texts, train_labels, 1, num_augments_per_sample=1)\n",
        "\n",
        "# Combinar todo\n",
        "train_texts = train_texts + aug_texts_1 + aug_texts_2\n",
        "train_labels = train_labels + aug_labels_1 + aug_labels_2\n"
      ],
      "metadata": {
        "colab": {
          "base_uri": "https://localhost:8080/"
        },
        "id": "GuWgJT2X1bIK",
        "outputId": "b52259b7-48f1-4ceb-96d3-35c0d6356a02"
      },
      "execution_count": null,
      "outputs": [
        {
          "output_type": "stream",
          "name": "stderr",
          "text": [
            "[nltk_data] Downloading package wordnet to /root/nltk_data...\n"
          ]
        }
      ]
    },
    {
      "cell_type": "code",
      "source": [
        "# Verificar la cantidad de instancias en cada conjunto\n",
        "print(f\"Cantidad de textos de entrenamiento: {len(train_texts)}\")\n",
        "print(f\"Cantidad de textos de validación: {len(val_texts)}\")\n",
        "print(f\"Cantidad de textos de prueba: {len(test_texts)}\")"
      ],
      "metadata": {
        "colab": {
          "base_uri": "https://localhost:8080/"
        },
        "id": "vSI4GU_C__VJ",
        "outputId": "d5f2f35a-1a2c-4655-f22a-dd53a5a97c6e"
      },
      "execution_count": null,
      "outputs": [
        {
          "output_type": "stream",
          "name": "stdout",
          "text": [
            "Cantidad de textos de entrenamiento: 71099\n",
            "Cantidad de textos de validación: 14469\n",
            "Cantidad de textos de prueba: 24114\n"
          ]
        }
      ]
    },
    {
      "cell_type": "code",
      "source": [
        "import pandas as pd\n",
        "\n",
        "# Crear un DataFrame con los textos y las etiquetas\n",
        "train_df = pd.DataFrame({\n",
        "    'Texto': train_texts,\n",
        "    'Etiqueta': train_labels\n",
        "})\n",
        "# Verificación\n",
        "print(train_df['Etiqueta'].value_counts())\n",
        "# Ver cuántas instancias (filas) tiene el DataFrame\n",
        "num_instancias = train_df.shape[0]\n",
        "print(f\"El DataFrame tiene {num_instancias} instancias.\")\n"
      ],
      "metadata": {
        "colab": {
          "base_uri": "https://localhost:8080/"
        },
        "id": "QPn2GhqG_5tZ",
        "outputId": "073e58d3-9c7e-4271-a1b9-e4da4e903ad6"
      },
      "execution_count": null,
      "outputs": [
        {
          "output_type": "stream",
          "name": "stdout",
          "text": [
            "Etiqueta\n",
            "4    21032\n",
            "3    20898\n",
            "1     9993\n",
            "0     9846\n",
            "2     9330\n",
            "Name: count, dtype: int64\n",
            "El DataFrame tiene 71099 instancias.\n"
          ]
        }
      ]
    },
    {
      "cell_type": "code",
      "source": [
        "import pandas as pd\n",
        "\n",
        "# Crear un DataFrame con los textos y las etiquetas\n",
        "train_df = pd.DataFrame({\n",
        "    'Texto': train_texts,\n",
        "    'Etiqueta': train_labels\n",
        "})\n",
        "\n",
        "# Ver cuántas instancias (filas) tiene el DataFrame\n",
        "num_instancias = train_df.shape[0]\n",
        "print(f\"El DataFrame tiene {num_instancias} instancias.\")\n",
        "\n",
        "# Ver las primeras filas\n",
        "print(train_df.iloc[5440:5451])\n",
        "# Guardar train_df como un archivo CSV\n",
        "train_df.to_csv('train_data.csv', index=False)\n"
      ],
      "metadata": {
        "colab": {
          "base_uri": "https://localhost:8080/"
        },
        "id": "kWd2Keo317hq",
        "outputId": "b9017eae-ef5f-4533-8722-51099446e553"
      },
      "execution_count": null,
      "outputs": [
        {
          "output_type": "stream",
          "name": "stdout",
          "text": [
            "El DataFrame tiene 71099 instancias.\n",
            "                                                  Texto  Etiqueta\n",
            "5440  \"Bellísima restauración se le realizó a ésta h...         4\n",
            "5441  Linda vista. Ideal para caminar ó sentarse y c...         3\n",
            "5442  Un lugar mágico!. Un templo hermoso por fuera ...         4\n",
            "5443  Vivimos aquí, así que nuestra experiencia abar...         3\n",
            "5444  Para visitar. Un poco de historia siempre cae ...         4\n",
            "5445  increíble comida, bebidas y playa. Playa Paraí...         4\n",
            "5446  De lo mejor. Impresionante cenote, el agua dem...         4\n",
            "5447  NO DUDES, ESTA ES LA OPCION. Ubicación excelen...         3\n",
            "5448  Un museo restaurant. Frente a la iglesia este ...         3\n",
            "5449  solo abren para visitarlo cuando hay excursion...         1\n",
            "5450  Her-mo-sa!! . No hay palabras!! Esta bellísima...         4\n"
          ]
        }
      ]
    },
    {
      "cell_type": "code",
      "source": [
        "print(df_new[['Title', 'Review', 'Review2','Polarity']].iloc[5441])"
      ],
      "metadata": {
        "colab": {
          "base_uri": "https://localhost:8080/"
        },
        "id": "glg89aFS7Ror",
        "outputId": "8a139acd-7b09-4b06-9ca9-beecc90e4d65"
      },
      "execution_count": null,
      "outputs": [
        {
          "output_type": "stream",
          "name": "stdout",
          "text": [
            "Title                                   Deja mucho que desear\n",
            "Review      Tal vez es de lo más acogedor y vistoso que ha...\n",
            "Review2     Deja mucho que desear. Tal vez es de lo más ac...\n",
            "Polarity                                                    1\n",
            "Name: 5441, dtype: object\n"
          ]
        }
      ]
    },
    {
      "cell_type": "markdown",
      "source": [
        "### **TOKENIZACION**"
      ],
      "metadata": {
        "id": "DRT_HBpK12B6"
      }
    },
    {
      "cell_type": "code",
      "source": [
        "from transformers import BertTokenizer\n",
        "\n",
        "# Cargar el tokenizer de BERT en español\n",
        "tokenizer = BertTokenizer.from_pretrained(\"dccuchile/bert-base-spanish-wwm-cased\")\n",
        "\n",
        "# 🔹 Tokenizar las reseñas con truncamiento y padding\n",
        "# return_tensors=\"pt\" devuelve tensores de PyTorch\n",
        "train_encodings = tokenizer(train_texts, padding=True, truncation=True, max_length=recommended_max_tokens, return_tensors=\"pt\")\n",
        "val_encodings = tokenizer(val_texts, padding=True, truncation=True, max_length=recommended_max_tokens, return_tensors=\"pt\")\n",
        "test_encodings = tokenizer(test_texts, padding=True, truncation=True, max_length=recommended_max_tokens, return_tensors=\"pt\")\n",
        "\n",
        "\n",
        "# Ver las primeras filas con el texto concatenado (linea que no correspode aqui)\n",
        "print(df_new[['Title', 'Review', 'Review2','Polarity']].head())\n",
        "\n"
      ],
      "metadata": {
        "colab": {
          "base_uri": "https://localhost:8080/"
        },
        "id": "JjoPSi7ron-n",
        "outputId": "b6cedeab-81d0-4ec5-e9bf-1497c8c140c8"
      },
      "execution_count": null,
      "outputs": [
        {
          "output_type": "stream",
          "name": "stdout",
          "text": [
            "                         Title  \\\n",
            "0  Solo les importa el dinero    \n",
            "1            pésima habitación   \n",
            "2        La comida es horrible   \n",
            "3            Ruidoso y molesto   \n",
            "4                 Mal servicio   \n",
            "\n",
            "                                              Review  \\\n",
            "0  Hay un solo tipo de clientes para este hotel y...   \n",
            "1  Al leer las críticas por la web me queda claro...   \n",
            "2  No tienen buen sazón. Los platos están pésimos...   \n",
            "3  No respetan el descanso de los huespedes ni de...   \n",
            "4  Mala atención en recepción y atención telefóni...   \n",
            "\n",
            "                                             Review2  Polarity  \n",
            "0  Solo les importa el dinero . Hay un solo tipo ...         0  \n",
            "1  pésima habitación. Al leer las críticas por la...         0  \n",
            "2  La comida es horrible. No tienen buen sazón. L...         0  \n",
            "3  Ruidoso y molesto. No respetan el descanso de ...         0  \n",
            "4  Mal servicio. Mala atención en recepción y ate...         0  \n"
          ]
        }
      ]
    },
    {
      "cell_type": "code",
      "source": [
        "import torch\n",
        "\n",
        "# Verificar tamaños\n",
        "print(f\"Cantidad de textos de entrenamiento: {len(train_texts)}\")\n",
        "print(f\"Cantidad de etiquetas de entrenamiento: {len(train_labels)}\")\n",
        "print(f\"Cantidad de textos de validación: {len(val_texts)}\")\n",
        "print(f\"Cantidad de etiquetas de validación: {len(val_labels)}\")\n",
        "print(f\"Cantidad de textos de prueba: {len(test_texts)}\")\n",
        "print(f\"Cantidad de etiquetas de prueba: {len(test_labels)}\")\n",
        "\n",
        "# Verificar si las etiquetas y textos están correctamente alineados (es decir, el número de etiquetas coincide con el número de textos)\n",
        "assert len(train_texts) == len(train_labels), \"El número de textos de entrenamiento no coincide con el número de etiquetas\"\n",
        "assert len(val_texts) == len(val_labels), \"El número de textos de validación no coincide con el número de etiquetas\"\n",
        "assert len(test_texts) == len(test_labels), \"El número de textos de prueba no coincide con el número de etiquetas\"\n",
        "\n",
        "# Verificar una muestra de las primeras 3 entradas\n",
        "print(f\"Primeras 3 reseñas de entrenamiento: {train_texts[:3]}\")\n",
        "print(f\"Primeras 3 etiquetas de entrenamiento: {train_labels[:3]}\")\n"
      ],
      "metadata": {
        "colab": {
          "base_uri": "https://localhost:8080/"
        },
        "id": "zZx6qQLPdUPn",
        "outputId": "2a5a2af4-b3b7-47f9-a640-1f309b04058c"
      },
      "execution_count": null,
      "outputs": [
        {
          "output_type": "stream",
          "name": "stdout",
          "text": [
            "Cantidad de textos de entrenamiento: 71099\n",
            "Cantidad de etiquetas de entrenamiento: 71099\n",
            "Cantidad de textos de validación: 14469\n",
            "Cantidad de etiquetas de validación: 14469\n",
            "Cantidad de textos de prueba: 24114\n",
            "Cantidad de etiquetas de prueba: 24114\n",
            "Primeras 3 reseñas de entrenamiento: ['Pésima Atención. Si bien no llegamos con reservación, al llegar a preguntar si tenían habitaciones libres nos trataron muy despectivamente y groseramente. Era nuestra primera opción para alojarnos y la verdad no me quedaron granas de regresar.', '=). Todo excelente! Desde la llega hasta la salida. Lo único malo fue que la regadera no se puede regular en una temperatura normal. Sale o muy fría o muy caliente. De ahí en fuera todo muy bien. El personal muy atento, la comida perfecta. Nos ayudaron a guardar nuestras cosas.', 'sorprendente propiedad en una ubicación de primera. El hotel está ubicado en la plaza central de la ciudad y ofrece un idílico ambiente español. Las habitaciones estaban limpias, pequeñas pero no es prohibitivo pequeña, y muchas tienen balcones con vistas a las calles circundantes. El restaurante del hotel es uno de los mejores de la ciudad, y los desayunos mexicanos tradicionales ofrecen son excelentes. No sólo me gusta este hotel por su ubicación, estilo y comodidades, pero también me pareció una muy buena relación calidadprecio. Sencillamente si vas a pasar una noche en Valladolid, estancia aquí.']\n",
            "Primeras 3 etiquetas de entrenamiento: [0, 3, 3]\n"
          ]
        }
      ]
    },
    {
      "cell_type": "code",
      "source": [
        "# Verificar el tipo y tamaño de los tensores después de la tokenización\n",
        "print(f\"Tamaño de los tensores de entrenamiento: {train_encodings['input_ids'].shape}\")\n",
        "print(f\"Tamaño de los tensores de validación: {val_encodings['input_ids'].shape}\")\n",
        "print(f\"Tamaño de los tensores de prueba: {test_encodings['input_ids'].shape}\")\n",
        "\n",
        "# Verificar que las etiquetas sean tensores y tengan la misma longitud que los tensores de entrada\n",
        "train_labels_tensor = torch.tensor(train_labels)\n",
        "val_labels_tensor = torch.tensor(val_labels)\n",
        "test_labels_tensor = torch.tensor(test_labels)\n",
        "\n",
        "print(f\"Tamaño de las etiquetas de entrenamiento: {train_labels_tensor.shape}\")\n",
        "print(f\"Tamaño de las etiquetas de validación: {val_labels_tensor.shape}\")\n",
        "print(f\"Tamaño de las etiquetas de prueba: {test_labels_tensor.shape}\")\n"
      ],
      "metadata": {
        "colab": {
          "base_uri": "https://localhost:8080/"
        },
        "id": "ND0wh3d6dXdv",
        "outputId": "4d4604a9-a2b6-4308-82da-53118719d80c"
      },
      "execution_count": null,
      "outputs": [
        {
          "output_type": "stream",
          "name": "stdout",
          "text": [
            "Tamaño de los tensores de entrenamiento: torch.Size([71099, 220])\n",
            "Tamaño de los tensores de validación: torch.Size([14469, 220])\n",
            "Tamaño de los tensores de prueba: torch.Size([24114, 220])\n",
            "Tamaño de las etiquetas de entrenamiento: torch.Size([71099])\n",
            "Tamaño de las etiquetas de validación: torch.Size([14469])\n",
            "Tamaño de las etiquetas de prueba: torch.Size([24114])\n"
          ]
        }
      ]
    },
    {
      "cell_type": "markdown",
      "source": [
        "Parece que está esta repitiendo lo de arriba"
      ],
      "metadata": {
        "id": "gZkVvTC6kdvT"
      }
    },
    {
      "cell_type": "code",
      "source": [
        "import torch\n",
        "from torch.utils.data import DataLoader, TensorDataset\n",
        "from transformers import BertTokenizer\n",
        "\n",
        "# Convertir etiquetas a tensores\n",
        "train_labels_tensor = torch.tensor(train_labels).clone().detach()  # Convertir a tensor y evitar gradientes\n",
        "val_labels_tensor = torch.tensor(val_labels).clone().detach()  # Convertir a tensor y evitar gradientes\n",
        "test_labels_tensor = torch.tensor(test_labels).clone().detach()  # Convertir a tensor y evitar gradientes\n",
        "\n",
        "# Crear datasets\n",
        "train_dataset = TensorDataset(\n",
        "    train_encodings['input_ids'].clone().detach(),  # Usamos clone().detach() en lugar de torch.tensor()\n",
        "    train_encodings['attention_mask'].clone().detach(),  # Lo mismo aquí\n",
        "    train_labels_tensor\n",
        ")\n",
        "\n",
        "val_dataset = TensorDataset(\n",
        "    val_encodings['input_ids'].clone().detach(),  # Lo mismo aquí\n",
        "    val_encodings['attention_mask'].clone().detach(),  # Lo mismo aquí\n",
        "    val_labels_tensor\n",
        ")\n",
        "\n",
        "test_dataset = TensorDataset(\n",
        "    test_encodings['input_ids'].clone().detach(),  # Lo mismo aquí\n",
        "    test_encodings['attention_mask'].clone().detach(),  # Lo mismo aquí\n",
        "    test_labels_tensor\n",
        ")\n",
        "\n",
        "# Crear DataLoaders\n",
        "train_dataloader = DataLoader(train_dataset, batch_size=16, shuffle=True)\n",
        "val_dataloader = DataLoader(val_dataset, batch_size=16)\n",
        "test_dataloader = DataLoader(test_dataset, batch_size=16)\n",
        "\n",
        "# 🔹 Verificar la primera entrada de un batch para asegurar que todo esté bien\n",
        "print(\"Ejemplo de batch del DataLoader de entrenamiento:\")\n",
        "for batch in train_dataloader:\n",
        "    input_ids_batch, attention_mask_batch, labels_batch = batch\n",
        "    print(f\"Input IDs shape: {input_ids_batch.shape}\")\n",
        "    print(f\"Attention Mask shape: {attention_mask_batch.shape}\")\n",
        "    print(f\"Labels shape: {labels_batch.shape}\")\n",
        "    break  # Solo imprimimos el primer batch\n",
        "\n",
        "# 🔹 Verificar que las longitudes de las listas de datos y etiquetas coincidan\n",
        "print(f\"Cantidad de textos de entrenamiento: {len(train_labels_tensor)}\")\n",
        "print(f\"Cantidad de textos de validación: {len(val_labels_tensor)}\")\n",
        "print(f\"Cantidad de textos de prueba: {len(test_labels_tensor)}\")\n"
      ],
      "metadata": {
        "colab": {
          "base_uri": "https://localhost:8080/"
        },
        "id": "8bz74MKgQmbW",
        "outputId": "dae50dad-8a16-42c8-808b-f686682277b3"
      },
      "execution_count": null,
      "outputs": [
        {
          "output_type": "stream",
          "name": "stdout",
          "text": [
            "Ejemplo de batch del DataLoader de entrenamiento:\n",
            "Input IDs shape: torch.Size([16, 220])\n",
            "Attention Mask shape: torch.Size([16, 220])\n",
            "Labels shape: torch.Size([16])\n",
            "Cantidad de textos de entrenamiento: 71099\n",
            "Cantidad de textos de validación: 14469\n",
            "Cantidad de textos de prueba: 24114\n"
          ]
        }
      ]
    },
    {
      "cell_type": "code",
      "source": [
        "num_labels = len(set(train_labels))\n",
        "print(f\"El número de etiquetas únicas en el conjunto de entrenamiento es: {num_labels}\")"
      ],
      "metadata": {
        "colab": {
          "base_uri": "https://localhost:8080/"
        },
        "id": "Xv5A_hYwp336",
        "outputId": "0631ed6d-0a4f-4bc0-eeed-3407e2db052c"
      },
      "execution_count": null,
      "outputs": [
        {
          "output_type": "stream",
          "name": "stdout",
          "text": [
            "El número de etiquetas únicas en el conjunto de entrenamiento es: 5\n"
          ]
        }
      ]
    },
    {
      "cell_type": "code",
      "source": [
        "import torch\n",
        "from torch.optim import AdamW  # Cambio en la importación de AdamW\n",
        "import torch.nn as nn\n",
        "from transformers import BertForSequenceClassification\n",
        "\n",
        "# Paso 1: Seleccionar dispositivo\n",
        "device = torch.device(\"cuda\" if torch.cuda.is_available() else \"cpu\")\n",
        "print(f\"✅ Usando el dispositivo: {device}\")\n",
        "\n",
        "# Paso 2: Cargar modelo BERT preentrenado en inglés para clasificación con 5 clases ---------------------\n",
        "model = BertForSequenceClassification.from_pretrained(\"dccuchile/bert-base-spanish-wwm-cased\", num_labels=5)\n",
        "\n",
        "# Paso 3: Congelar capas de BERT (por ejemplo, las primeras 6 de 12)\n",
        "for name, param in model.bert.encoder.layer[:6].named_parameters():\n",
        "    param.requires_grad = False\n",
        "print(\"🔒 Capas congeladas: 0 a 5\")\n",
        "\n",
        "# Paso 4: Mover modelo al dispositivo (GPU o CPU)\n",
        "model.to(device)\n",
        "\n",
        "# Paso 5: Optimización y función de pérdida\n",
        "optimizer = AdamW(model.parameters(), lr=1e-5) # Ajustar la tasa de aprendizaje si es necesario\n",
        "\n",
        "# Definir la función de pérdida (Cross Entropy Loss)\n",
        "criterion = nn.CrossEntropyLoss()\n",
        "\n"
      ],
      "metadata": {
        "colab": {
          "base_uri": "https://localhost:8080/",
          "height": 138,
          "referenced_widgets": [
            "fe9eea135c91404b906ae4c94d8eacb9",
            "6fd6c98b686a426e86eaa88acdde28d6",
            "3f82ffced9f145378c85b8e41d7cb57b",
            "2031a01442434b5090d8adfb2e471df8",
            "929e6fe610f64a0898c64bde97017ad2",
            "fe819c060b67449f9207ae0868be30dc",
            "5f9fb9811bf74659bbcfa99f0b8013c6",
            "1502844a6db242489247d51a2013add6",
            "691bfca43190442abf211d90a8de8a91",
            "147cd4c0cf1742b4b1c6bcbd50c0d7cd",
            "8a4341b12ebc4f05989e6dfa4cffb51a"
          ]
        },
        "id": "3gnwxn49ScHb",
        "outputId": "dbf9f4a3-aed1-4acb-c417-2be17492152a"
      },
      "execution_count": null,
      "outputs": [
        {
          "output_type": "stream",
          "name": "stdout",
          "text": [
            "✅ Usando el dispositivo: cuda\n"
          ]
        },
        {
          "output_type": "display_data",
          "data": {
            "text/plain": [
              "pytorch_model.bin:   0%|          | 0.00/440M [00:00<?, ?B/s]"
            ],
            "application/vnd.jupyter.widget-view+json": {
              "version_major": 2,
              "version_minor": 0,
              "model_id": "fe9eea135c91404b906ae4c94d8eacb9"
            }
          },
          "metadata": {}
        },
        {
          "output_type": "stream",
          "name": "stderr",
          "text": [
            "Some weights of BertForSequenceClassification were not initialized from the model checkpoint at dccuchile/bert-base-spanish-wwm-cased and are newly initialized: ['bert.pooler.dense.bias', 'bert.pooler.dense.weight', 'classifier.bias', 'classifier.weight']\n",
            "You should probably TRAIN this model on a down-stream task to be able to use it for predictions and inference.\n"
          ]
        },
        {
          "output_type": "stream",
          "name": "stdout",
          "text": [
            "🔒 Capas congeladas: 0 a 5\n"
          ]
        }
      ]
    },
    {
      "cell_type": "code",
      "source": [
        "import numpy as np\n",
        "\n",
        "# Verificar las primeras 5 etiquetas\n",
        "print(\"Primeras 5 etiquetas:\", train_labels[:5])\n",
        "\n",
        "# Comprobar si alguna etiqueta es un vector one-hot\n",
        "for i, label in enumerate(train_labels[:10]):  # Verifica las primeras 10 etiquetas\n",
        "    if isinstance(label, list) or isinstance(label, np.ndarray):\n",
        "        if sum(label) != 1:\n",
        "            print(f\"Etiqueta en formato one-hot en el índice {i}: {label}\")\n",
        "        else:\n",
        "            print(f\"Etiqueta en formato one-hot válida en el índice {i}: {label}\")\n",
        "    else:\n",
        "        print(f\"Etiqueta en formato índice de clase en el índice {i}: {label}\")"
      ],
      "metadata": {
        "colab": {
          "base_uri": "https://localhost:8080/"
        },
        "id": "4v8ZS725Ty2N",
        "outputId": "34dc7fc0-d81a-45bc-b4a7-38a599def3f3"
      },
      "execution_count": null,
      "outputs": [
        {
          "output_type": "stream",
          "name": "stdout",
          "text": [
            "Primeras 5 etiquetas: [0, 3, 3, 4, 1]\n",
            "Etiqueta en formato índice de clase en el índice 0: 0\n",
            "Etiqueta en formato índice de clase en el índice 1: 3\n",
            "Etiqueta en formato índice de clase en el índice 2: 3\n",
            "Etiqueta en formato índice de clase en el índice 3: 4\n",
            "Etiqueta en formato índice de clase en el índice 4: 1\n",
            "Etiqueta en formato índice de clase en el índice 5: 3\n",
            "Etiqueta en formato índice de clase en el índice 6: 3\n",
            "Etiqueta en formato índice de clase en el índice 7: 4\n",
            "Etiqueta en formato índice de clase en el índice 8: 2\n",
            "Etiqueta en formato índice de clase en el índice 9: 3\n"
          ]
        }
      ]
    },
    {
      "cell_type": "markdown",
      "source": [
        "### **Parte 5: Entrenamiento (model.train())**\n",
        "Aquí es donde ocurre el fine-tuning real, es decir, se ajustan los pesos del modelo con tus propios datos.\n",
        "\n",
        "Lo que sucede:\n",
        "* Se activa el modo entrenamiento (model.train()).\n",
        "* Se pasan los datos por el modelo (outputs = model(...)).\n",
        "* Se calcula la pérdida (loss = outputs.loss).\n",
        "* Se hace backpropagation (loss.backward()).\n",
        "* Se actualizan los pesos con el optimizador (optimizer.step())."
      ],
      "metadata": {
        "id": "srvDdn2QQMb1"
      }
    },
    {
      "cell_type": "markdown",
      "source": [
        "**nuevo 2 de Mayo**"
      ],
      "metadata": {
        "id": "m0DyQ7AgSRSF"
      }
    },
    {
      "cell_type": "code",
      "source": [
        "import os\n",
        "import matplotlib.pyplot as plt\n",
        "\n",
        "# ---------------- Listas para guardar métricas  ----------------------------\n",
        "train_losses = []\n",
        "val_losses = []\n",
        "val_accuracies = []\n",
        "#----------------------------------------------------------------------------\n",
        "\n",
        "# Inicializar early stopping\n",
        "best_val_loss = float('inf')\n",
        "patience = 2  # Número de épocas sin mejora para detener\n",
        "patience_counter = 0\n",
        "\n",
        "# Número de épocas de entrenamiento\n",
        "num_epochs = 10  # Puedes aumentarlo gracias a early stopping\n",
        "\n",
        "# 📂 Carpeta donde guardarás el mejor modelo\n",
        "best_model_dir = \"/content/drive/MyDrive/IA/best_model_restMex2204A2\"\n",
        "os.makedirs(best_model_dir, exist_ok=True)\n",
        "\n",
        "\n",
        "# ========================== ENTRENAMIENTO ==========================\n",
        "for epoch in range(num_epochs):\n",
        "    model.train()\n",
        "    total_train_loss = 0\n",
        "\n",
        "    for batch in train_dataloader:\n",
        "        input_ids, attention_mask, labels = [x.to(device) for x in batch]\n",
        "\n",
        "        optimizer.zero_grad()\n",
        "        outputs = model(input_ids, attention_mask=attention_mask, labels=labels)\n",
        "        loss = outputs.loss\n",
        "        loss.backward()\n",
        "        optimizer.step()\n",
        "\n",
        "        total_train_loss += loss.item()\n",
        "\n",
        "    avg_train_loss = total_train_loss / len(train_dataloader)\n",
        "\n",
        "    # ---------------- Evaluación ----------------\n",
        "    model.eval()\n",
        "    total_val_loss = 0\n",
        "    correct_predictions = 0\n",
        "\n",
        "    for batch in val_dataloader:\n",
        "        input_ids, attention_mask, labels = [x.to(device) for x in batch]\n",
        "\n",
        "        with torch.no_grad():\n",
        "            outputs = model(input_ids, attention_mask=attention_mask, labels=labels)\n",
        "            loss = outputs.loss\n",
        "            logits = outputs.logits\n",
        "\n",
        "        total_val_loss += loss.item()\n",
        "        preds = torch.argmax(logits, dim=1)\n",
        "        correct_predictions += (preds == labels).sum().item()\n",
        "\n",
        "    avg_val_loss = total_val_loss / len(val_dataloader)\n",
        "    accuracy = correct_predictions / len(val_dataloader.dataset)\n",
        "\n",
        "    # ---------------- Guardar métricas ----------------\n",
        "    train_losses.append(avg_train_loss)\n",
        "    val_losses.append(avg_val_loss)\n",
        "    val_accuracies.append(accuracy)\n",
        "\n",
        "    # ---------------- Resultados por época ----------------\n",
        "    print(f\"Epoch {epoch + 1}/{num_epochs}\")\n",
        "    print(f\"  🔹 Train loss: {avg_train_loss:.4f}\")\n",
        "    print(f\"  🔹 Validation loss: {avg_val_loss:.4f}\")\n",
        "    print(f\"  ✅ Validation accuracy: {accuracy * 100:.2f}%\")\n",
        "\n",
        "    # ---------------- Early Stopping y Guardado del Mejor Modelo ----------------\n",
        "    if avg_val_loss < best_val_loss:\n",
        "        best_val_loss = avg_val_loss\n",
        "        patience_counter = 0\n",
        "\n",
        "        # ✅ Guardar modelo y tokenizer\n",
        "        model.save_pretrained(best_model_dir)\n",
        "        tokenizer.save_pretrained(best_model_dir)\n",
        "\n",
        "        print(f\"💾 Mejor modelo guardado en {best_model_dir}\")\n",
        "    else:\n",
        "        patience_counter += 1\n",
        "        if patience_counter >= patience:\n",
        "            print(\"🛑 Early stopping activado.\")\n",
        "            break\n",
        "\n",
        "# ---------------- GRAFICAR RESULTADOS ----------------\n",
        "plt.figure(figsize=(10, 5))\n",
        "plt.plot(train_losses, label='Train Loss')\n",
        "plt.plot(val_losses, label='Validation Loss')\n",
        "plt.xlabel(\"Epoch\")\n",
        "plt.ylabel(\"Loss\")\n",
        "plt.title(\"Pérdida de entrenamiento vs validación\")\n",
        "plt.legend()\n",
        "plt.grid(True)\n",
        "plt.show()\n",
        "\n",
        "plt.figure(figsize=(10, 5))\n",
        "plt.plot([acc * 100 for acc in val_accuracies], label='Validation Accuracy', color='green')\n",
        "plt.xlabel(\"Epoch\")\n",
        "plt.ylabel(\"Accuracy (%)\")\n",
        "plt.title(\"Precisión en validación por época\")\n",
        "plt.legend()\n",
        "plt.grid(True)\n",
        "plt.show()\n"
      ],
      "metadata": {
        "id": "WX9Su2DnSP4w",
        "colab": {
          "base_uri": "https://localhost:8080/",
          "height": 1000
        },
        "outputId": "4c686486-7e34-47dc-d414-1c35b1b649dc"
      },
      "execution_count": null,
      "outputs": [
        {
          "output_type": "stream",
          "name": "stdout",
          "text": [
            "Epoch 1/10\n",
            "  🔹 Train loss: 0.7730\n",
            "  🔹 Validation loss: 0.7584\n",
            "  ✅ Validation accuracy: 66.39%\n",
            "💾 Mejor modelo guardado en /content/drive/MyDrive/IA/best_model_restMex2204A2\n",
            "Epoch 2/10\n",
            "  🔹 Train loss: 0.6717\n",
            "  🔹 Validation loss: 0.7515\n",
            "  ✅ Validation accuracy: 66.91%\n",
            "💾 Mejor modelo guardado en /content/drive/MyDrive/IA/best_model_restMex2204A2\n",
            "Epoch 3/10\n",
            "  🔹 Train loss: 0.5902\n",
            "  🔹 Validation loss: 0.7750\n",
            "  ✅ Validation accuracy: 67.15%\n",
            "Epoch 4/10\n",
            "  🔹 Train loss: 0.4973\n",
            "  🔹 Validation loss: 0.8066\n",
            "  ✅ Validation accuracy: 66.69%\n",
            "🛑 Early stopping activado.\n"
          ]
        },
        {
          "output_type": "display_data",
          "data": {
            "text/plain": [
              "<Figure size 1000x500 with 1 Axes>"
            ],
            "image/png": "[encoded data removed]"
          },
          "metadata": {}
        },
        {
          "output_type": "display_data",
          "data": {
            "text/plain": [
              "<Figure size 1000x500 with 1 Axes>"
            ],
            "image/png": "[encoded data removed]"
          },
          "metadata": {}
        }
      ]
    },
    {
      "cell_type": "markdown",
      "source": [
        "**Evaluacion del conjunto test_dataloader**"
      ],
      "metadata": {
        "id": "x-5azF93GtkK"
      }
    },
    {
      "cell_type": "code",
      "source": [
        "from sklearn.metrics import accuracy_score, precision_recall_fscore_support, classification_report\n",
        "\n",
        "# Cargar mejor modelo\n",
        "from transformers import BertForSequenceClassification\n",
        "\n",
        "best_model = BertForSequenceClassification.from_pretrained(best_model_dir).to(device)\n",
        "best_model.eval()\n",
        "\n",
        "all_preds = []\n",
        "all_labels = []\n",
        "\n",
        "with torch.no_grad():\n",
        "    for batch in test_dataloader:\n",
        "        input_ids, attention_mask, labels = [x.to(device) for x in batch]\n",
        "\n",
        "        outputs = best_model(input_ids, attention_mask=attention_mask)\n",
        "        logits = outputs.logits\n",
        "        preds = torch.argmax(logits, dim=1)\n",
        "\n",
        "        all_preds.extend(preds.cpu().numpy())\n",
        "        all_labels.extend(labels.cpu().numpy())\n",
        "\n",
        "# Métricas\n",
        "accuracy = accuracy_score(all_labels, all_preds)\n",
        "precision, recall, f1, _ = precision_recall_fscore_support(all_labels, all_preds, average='weighted')\n",
        "report = classification_report(all_labels, all_preds, digits=4)\n",
        "\n",
        "print(\"\\n📊 Resultados en el conjunto de TEST:\")\n",
        "print(f\"✅ Accuracy:  {accuracy:.4f}\")\n",
        "print(f\"✅ Precision: {precision:.4f}\")\n",
        "print(f\"✅ Recall:    {recall:.4f}\")\n",
        "print(f\"✅ F1 Score:  {f1:.4f}\")\n",
        "print(\"\\n📄 Reporte de clasificación por clase:\\n\")\n",
        "print(report)\n"
      ],
      "metadata": {
        "colab": {
          "base_uri": "https://localhost:8080/"
        },
        "id": "oGLVj61CGsfr",
        "outputId": "f2dbae3e-bf13-4101-81f4-fdf92738f737"
      },
      "execution_count": null,
      "outputs": [
        {
          "output_type": "stream",
          "name": "stdout",
          "text": [
            "\n",
            "📊 Resultados en el conjunto de TEST:\n",
            "✅ Accuracy:  0.6678\n",
            "✅ Precision: 0.6607\n",
            "✅ Recall:    0.6678\n",
            "✅ F1 Score:  0.6601\n",
            "\n",
            "📄 Reporte de clasificación por clase:\n",
            "\n",
            "              precision    recall  f1-score   support\n",
            "\n",
            "           0     0.6059    0.7892    0.6855      1309\n",
            "           1     0.4627    0.2781    0.3474      1381\n",
            "           2     0.6333    0.5424    0.5843      3837\n",
            "           3     0.6592    0.6151    0.6364      8836\n",
            "           4     0.7136    0.8193    0.7628      8751\n",
            "\n",
            "    accuracy                         0.6678     24114\n",
            "   macro avg     0.6149    0.6088    0.6033     24114\n",
            "weighted avg     0.6607    0.6678    0.6601     24114\n",
            "\n"
          ]
        }
      ]
    },
    {
      "cell_type": "markdown",
      "source": [
        "**Cargar Modelo BERT previamente entrenado para clasificación de texto**"
      ],
      "metadata": {
        "id": "jE_DL1qtgNPr"
      }
    },
    {
      "cell_type": "code",
      "source": [
        "import pandas as pd\n",
        "import torch\n",
        "from transformers import BertTokenizer, BertForSequenceClassification\n",
        "from torch.utils.data import DataLoader, TensorDataset\n",
        "from tqdm import tqdm\n",
        "\n",
        "# 1. 📥 Leer el archivo\n",
        "file_path = \"/content/drive/MyDrive/IA/Rest-Mex_2025_test.xlsx\"\n",
        "df_test = pd.read_excel(file_path)"
      ],
      "metadata": {
        "id": "N4MOK6DatYMJ"
      },
      "execution_count": null,
      "outputs": []
    },
    {
      "cell_type": "code",
      "source": [
        "# 2. 🧾 Concatenar 'Title' y 'Review'\n",
        "df_test[\"text\"] = df_test[\"Title\"].astype(str) + \". \" + df_test[\"Review\"].astype(str)\n",
        "\n",
        "# 3. 🔤 Cargar el tokenizer correcto\n",
        "tokenizer = BertTokenizer.from_pretrained(\"dccuchile/bert-base-spanish-wwm-cased\")\n",
        "\n",
        "# 4. 🧠 Cargar el modelo entrenado\n",
        "model_path = \"/content/drive/MyDrive/IA/best_model_restMex2204A\"\n",
        "model = BertForSequenceClassification.from_pretrained(model_path).to(\"cuda\" if torch.cuda.is_available() else \"cpu\")\n",
        "device = model.device\n",
        "model.eval()\n",
        "\n",
        "# 5. 🧹 Tokenizar los textos\n",
        "encodings = tokenizer(df_test['text'].tolist(),\n",
        "                      truncation=True,\n",
        "                      padding=True,\n",
        "                      max_length=128,\n",
        "                      return_tensors=\"pt\")"
      ],
      "metadata": {
        "id": "qNqfYwc3uR18"
      },
      "execution_count": null,
      "outputs": []
    },
    {
      "cell_type": "code",
      "source": [
        "# 6. 📦 Crear DataLoader\n",
        "dataset = TensorDataset(encodings[\"input_ids\"], encodings[\"attention_mask\"])\n",
        "dataloader = DataLoader(dataset, batch_size=32)\n",
        "\n",
        "# 7. 🔍 Predicción\n",
        "all_preds = []\n",
        "\n",
        "with torch.no_grad():\n",
        "    for batch in tqdm(dataloader, desc=\"Clasificando\"):\n",
        "        input_ids, attention_mask = [x.to(device) for x in batch]\n",
        "\n",
        "        outputs = model(input_ids, attention_mask=attention_mask)\n",
        "        logits = outputs.logits\n",
        "        preds = torch.argmax(logits, dim=1)\n",
        "\n",
        "        all_preds.extend(preds.cpu().numpy())\n",
        "\n",
        "# 8. 💾 Guardar resultados\n",
        "df_result = pd.DataFrame({\n",
        "    \"ID\": df_test[\"ID\"],\n",
        "    \"Predicted_Polarity\": all_preds\n",
        "})\n",
        "\n",
        "output_path = \"/content/drive/MyDrive/IA/Rest-Mex_2025_test_results.csv\"\n",
        "df_result.to_csv(output_path, index=False)\n",
        "\n",
        "print(f\"✅ Resultados guardados en: {output_path}\")\n"
      ],
      "metadata": {
        "colab": {
          "base_uri": "https://localhost:8080/"
        },
        "id": "q8d1dvkHKyYT",
        "outputId": "7cfd02da-1a14-42e8-ad07-2997987803a5"
      },
      "execution_count": null,
      "outputs": [
        {
          "output_type": "stream",
          "name": "stderr",
          "text": [
            "Clasificando: 100%|██████████| 2787/2787 [09:29<00:00,  4.89it/s]"
          ]
        },
        {
          "output_type": "stream",
          "name": "stdout",
          "text": [
            "✅ Resultados guardados en: /content/drive/MyDrive/IA/Rest-Mex_2025_test_results.csv\n"
          ]
        },
        {
          "output_type": "stream",
          "name": "stderr",
          "text": [
            "\n"
          ]
        }
      ]
    },
    {
      "cell_type": "code",
      "source": [
        "# 8. 💾 Mapear etiquetas de modelo (0–4) a originales (1–5)\n",
        "label_map = {0: 1, 1: 2, 2: 3, 3: 4, 4: 5}\n",
        "original_labels = [label_map[p] for p in all_preds]\n",
        "\n",
        "df_result = pd.DataFrame({\n",
        "    \"ID\": df_test[\"ID\"],\n",
        "    \"Predicted_Polarity\": original_labels\n",
        "})\n",
        "\n",
        "output_path = \"/content/drive/MyDrive/IA/Rest-Mex_2025_test_results_OK.csv\"\n",
        "df_result.to_csv(output_path, index=False)\n",
        "\n",
        "print(f\"✅ Resultados guardados con etiquetas originales 1–5 en: {output_path}\")\n"
      ],
      "metadata": {
        "colab": {
          "base_uri": "https://localhost:8080/"
        },
        "id": "i1uBR3NvyKRT",
        "outputId": "092416b4-2c54-4d65-dc3d-02f8c073aa21"
      },
      "execution_count": null,
      "outputs": [
        {
          "output_type": "stream",
          "name": "stdout",
          "text": [
            "✅ Resultados guardados con etiquetas originales 1–5 en: /content/drive/MyDrive/IA/Rest-Mex_2025_test_results_OK.csv\n"
          ]
        }
      ]
    },
    {
      "cell_type": "code",
      "source": [
        "print(df_test.head())"
      ],
      "metadata": {
        "colab": {
          "base_uri": "https://localhost:8080/"
        },
        "id": "t3ejQJUhyiVU",
        "outputId": "38f6c465-09f0-4441-c1b2-e77cc8195196"
      },
      "execution_count": null,
      "outputs": [
        {
          "output_type": "stream",
          "name": "stdout",
          "text": [
            "   ID                                       Title  \\\n",
            "0   0      Una de las mejores comidas en Sayulita   \n",
            "1   1                           Me gustó mucho...   \n",
            "2   2  Excelentes  restaurantes en hotel Guaycura   \n",
            "3   3                    Gran desayuno y almuerzo   \n",
            "4   4         Mejor atención de la zona hotelera!   \n",
            "\n",
            "                                              Review  \n",
            "0  Comida exelente, el lugar muy cómodo y persona...  \n",
            "1  En mi camino hacia Mahahual paré a comer en es...  \n",
            "2  Excelente Servicio, la comida es deliciosa tan...  \n",
            "3  Mi esposa y yo fuimos allí dos veces. Una vez ...  \n",
            "4  Increíble restaurant! La comida riquísima, la ...  \n"
          ]
        }
      ]
    },
    {
      "cell_type": "code",
      "source": [
        "print(df_test.head())"
      ],
      "metadata": {
        "colab": {
          "base_uri": "https://localhost:8080/"
        },
        "id": "oAZM2_uSy3nz",
        "outputId": "05f34ca7-2e47-446c-bc83-d932229df98c"
      },
      "execution_count": null,
      "outputs": [
        {
          "output_type": "stream",
          "name": "stdout",
          "text": [
            "   ID                                       Title  \\\n",
            "0   0      Una de las mejores comidas en Sayulita   \n",
            "1   1                           Me gustó mucho...   \n",
            "2   2  Excelentes  restaurantes en hotel Guaycura   \n",
            "3   3                    Gran desayuno y almuerzo   \n",
            "4   4         Mejor atención de la zona hotelera!   \n",
            "\n",
            "                                              Review  \\\n",
            "0  Comida exelente, el lugar muy cómodo y persona...   \n",
            "1  En mi camino hacia Mahahual paré a comer en es...   \n",
            "2  Excelente Servicio, la comida es deliciosa tan...   \n",
            "3  Mi esposa y yo fuimos allí dos veces. Una vez ...   \n",
            "4  Increíble restaurant! La comida riquísima, la ...   \n",
            "\n",
            "                                                text  \n",
            "0  Una de las mejores comidas en Sayulita. Comida...  \n",
            "1  Me gustó mucho.... En mi camino hacia Mahahual...  \n",
            "2  Excelentes  restaurantes en hotel Guaycura. Ex...  \n",
            "3  Gran desayuno y almuerzo. Mi esposa y yo fuimo...  \n",
            "4  Mejor atención de la zona hotelera!. Increíble...  \n"
          ]
        }
      ]
    },
    {
      "cell_type": "code",
      "source": [
        "print(df_test.head())"
      ],
      "metadata": {
        "id": "nKW4MCytzvyK",
        "outputId": "8c02ed34-935e-444b-d3b7-7d5027f52902",
        "colab": {
          "base_uri": "https://localhost:8080/"
        }
      },
      "execution_count": null,
      "outputs": [
        {
          "output_type": "stream",
          "name": "stdout",
          "text": [
            "   ID                                       Title  \\\n",
            "0   0      Una de las mejores comidas en Sayulita   \n",
            "1   1                           Me gustó mucho...   \n",
            "2   2  Excelentes  restaurantes en hotel Guaycura   \n",
            "3   3                    Gran desayuno y almuerzo   \n",
            "4   4         Mejor atención de la zona hotelera!   \n",
            "\n",
            "                                              Review  \\\n",
            "0  Comida exelente, el lugar muy cómodo y persona...   \n",
            "1  En mi camino hacia Mahahual paré a comer en es...   \n",
            "2  Excelente Servicio, la comida es deliciosa tan...   \n",
            "3  Mi esposa y yo fuimos allí dos veces. Una vez ...   \n",
            "4  Increíble restaurant! La comida riquísima, la ...   \n",
            "\n",
            "                                                text  \n",
            "0  Una de las mejores comidas en Sayulita. Comida...  \n",
            "1  Me gustó mucho.... En mi camino hacia Mahahual...  \n",
            "2  Excelentes  restaurantes en hotel Guaycura. Ex...  \n",
            "3  Gran desayuno y almuerzo. Mi esposa y yo fuimo...  \n",
            "4  Mejor atención de la zona hotelera!. Increíble...  \n"
          ]
        }
      ]
    }
  ]
}